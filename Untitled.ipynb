{
 "cells": [
  {
   "cell_type": "markdown",
   "id": "cda5439a-cbfa-40a5-8217-ad6aec0bbb43",
   "metadata": {},
   "source": [
    "\n",
    "HuggingFace Datasets\n",
    "\n",
    "HuggingFace - платформа для работы с моделями с архитектурой Transformer для обработки текстов и не только!\n",
    "\n",
    "Datasets дает доступ к коллекциям данных и позволяет создавать свои наборы для машинного обучения.\n",
    "\n",
    "pip install - команда shell для загрузки библиотеки\n",
    "\n",
    "-q - параметр \"quiet\", не выводит не экран подробную информацию о процессе загрузки библиотеки\n",
    "\n",
    "! - символ для объявления shell-команд\n"
   ]
  },
  {
   "cell_type": "code",
   "execution_count": 1,
   "id": "6cf968b7-0001-4ddb-8356-3886ecb9051f",
   "metadata": {},
   "outputs": [
    {
     "name": "stdout",
     "output_type": "stream",
     "text": [
      "Requirement already satisfied: datasets in c:\\users\\elena\\appdata\\local\\programs\\python\\python312\\lib\\site-packages (3.0.2)\n",
      "Requirement already satisfied: filelock in c:\\users\\elena\\appdata\\local\\programs\\python\\python312\\lib\\site-packages (from datasets) (3.16.1)\n",
      "Requirement already satisfied: numpy>=1.17 in c:\\users\\elena\\appdata\\local\\programs\\python\\python312\\lib\\site-packages (from datasets) (2.1.1)\n",
      "Requirement already satisfied: pyarrow>=15.0.0 in c:\\users\\elena\\appdata\\local\\programs\\python\\python312\\lib\\site-packages (from datasets) (18.0.0)\n",
      "Requirement already satisfied: dill<0.3.9,>=0.3.0 in c:\\users\\elena\\appdata\\local\\programs\\python\\python312\\lib\\site-packages (from datasets) (0.3.8)\n",
      "Requirement already satisfied: pandas in c:\\users\\elena\\appdata\\local\\programs\\python\\python312\\lib\\site-packages (from datasets) (2.2.3)\n",
      "Requirement already satisfied: requests>=2.32.2 in c:\\users\\elena\\appdata\\local\\programs\\python\\python312\\lib\\site-packages (from datasets) (2.32.3)\n",
      "Requirement already satisfied: tqdm>=4.66.3 in c:\\users\\elena\\appdata\\local\\programs\\python\\python312\\lib\\site-packages (from datasets) (4.66.5)\n",
      "Requirement already satisfied: xxhash in c:\\users\\elena\\appdata\\local\\programs\\python\\python312\\lib\\site-packages (from datasets) (3.5.0)\n",
      "Requirement already satisfied: multiprocess<0.70.17 in c:\\users\\elena\\appdata\\local\\programs\\python\\python312\\lib\\site-packages (from datasets) (0.70.16)\n",
      "Requirement already satisfied: fsspec<=2024.9.0,>=2023.1.0 in c:\\users\\elena\\appdata\\local\\programs\\python\\python312\\lib\\site-packages (from fsspec[http]<=2024.9.0,>=2023.1.0->datasets) (2024.9.0)\n",
      "Requirement already satisfied: aiohttp in c:\\users\\elena\\appdata\\local\\programs\\python\\python312\\lib\\site-packages (from datasets) (3.10.10)\n",
      "Requirement already satisfied: huggingface-hub>=0.23.0 in c:\\users\\elena\\appdata\\local\\programs\\python\\python312\\lib\\site-packages (from datasets) (0.26.2)\n",
      "Requirement already satisfied: packaging in c:\\users\\elena\\appdata\\local\\programs\\python\\python312\\lib\\site-packages (from datasets) (24.1)\n",
      "Requirement already satisfied: pyyaml>=5.1 in c:\\users\\elena\\appdata\\local\\programs\\python\\python312\\lib\\site-packages (from datasets) (6.0.2)\n",
      "Requirement already satisfied: aiohappyeyeballs>=2.3.0 in c:\\users\\elena\\appdata\\local\\programs\\python\\python312\\lib\\site-packages (from aiohttp->datasets) (2.4.3)\n",
      "Requirement already satisfied: aiosignal>=1.1.2 in c:\\users\\elena\\appdata\\local\\programs\\python\\python312\\lib\\site-packages (from aiohttp->datasets) (1.3.1)\n",
      "Requirement already satisfied: attrs>=17.3.0 in c:\\users\\elena\\appdata\\local\\programs\\python\\python312\\lib\\site-packages (from aiohttp->datasets) (24.2.0)\n",
      "Requirement already satisfied: frozenlist>=1.1.1 in c:\\users\\elena\\appdata\\local\\programs\\python\\python312\\lib\\site-packages (from aiohttp->datasets) (1.5.0)\n",
      "Requirement already satisfied: multidict<7.0,>=4.5 in c:\\users\\elena\\appdata\\local\\programs\\python\\python312\\lib\\site-packages (from aiohttp->datasets) (6.1.0)\n",
      "Requirement already satisfied: yarl<2.0,>=1.12.0 in c:\\users\\elena\\appdata\\local\\programs\\python\\python312\\lib\\site-packages (from aiohttp->datasets) (1.16.0)\n",
      "Requirement already satisfied: typing-extensions>=3.7.4.3 in c:\\users\\elena\\appdata\\local\\programs\\python\\python312\\lib\\site-packages (from huggingface-hub>=0.23.0->datasets) (4.12.2)\n",
      "Requirement already satisfied: charset-normalizer<4,>=2 in c:\\users\\elena\\appdata\\local\\programs\\python\\python312\\lib\\site-packages (from requests>=2.32.2->datasets) (3.3.2)\n",
      "Requirement already satisfied: idna<4,>=2.5 in c:\\users\\elena\\appdata\\local\\programs\\python\\python312\\lib\\site-packages (from requests>=2.32.2->datasets) (3.9)\n",
      "Requirement already satisfied: urllib3<3,>=1.21.1 in c:\\users\\elena\\appdata\\local\\programs\\python\\python312\\lib\\site-packages (from requests>=2.32.2->datasets) (2.2.3)\n",
      "Requirement already satisfied: certifi>=2017.4.17 in c:\\users\\elena\\appdata\\local\\programs\\python\\python312\\lib\\site-packages (from requests>=2.32.2->datasets) (2024.8.30)\n",
      "Requirement already satisfied: colorama in c:\\users\\elena\\appdata\\local\\programs\\python\\python312\\lib\\site-packages (from tqdm>=4.66.3->datasets) (0.4.6)\n",
      "Requirement already satisfied: python-dateutil>=2.8.2 in c:\\users\\elena\\appdata\\local\\programs\\python\\python312\\lib\\site-packages (from pandas->datasets) (2.9.0.post0)\n",
      "Requirement already satisfied: pytz>=2020.1 in c:\\users\\elena\\appdata\\local\\programs\\python\\python312\\lib\\site-packages (from pandas->datasets) (2024.2)\n",
      "Requirement already satisfied: tzdata>=2022.7 in c:\\users\\elena\\appdata\\local\\programs\\python\\python312\\lib\\site-packages (from pandas->datasets) (2024.2)\n",
      "Requirement already satisfied: six>=1.5 in c:\\users\\elena\\appdata\\local\\programs\\python\\python312\\lib\\site-packages (from python-dateutil>=2.8.2->pandas->datasets) (1.16.0)\n",
      "Requirement already satisfied: propcache>=0.2.0 in c:\\users\\elena\\appdata\\local\\programs\\python\\python312\\lib\\site-packages (from yarl<2.0,>=1.12.0->aiohttp->datasets) (0.2.0)\n",
      "Note: you may need to restart the kernel to use updated packages.\n"
     ]
    }
   ],
   "source": [
    "pip install datasets"
   ]
  },
  {
   "cell_type": "code",
   "execution_count": 2,
   "id": "028c0fcd-72fb-4503-89b4-a665191508d7",
   "metadata": {},
   "outputs": [
    {
     "name": "stdout",
     "output_type": "stream",
     "text": [
      "Requirement already satisfied: ipywidgets in c:\\users\\elena\\appdata\\local\\programs\\python\\python312\\lib\\site-packages (8.1.5)\n",
      "Requirement already satisfied: comm>=0.1.3 in c:\\users\\elena\\appdata\\local\\programs\\python\\python312\\lib\\site-packages (from ipywidgets) (0.2.2)\n",
      "Requirement already satisfied: ipython>=6.1.0 in c:\\users\\elena\\appdata\\local\\programs\\python\\python312\\lib\\site-packages (from ipywidgets) (8.27.0)\n",
      "Requirement already satisfied: traitlets>=4.3.1 in c:\\users\\elena\\appdata\\local\\programs\\python\\python312\\lib\\site-packages (from ipywidgets) (5.14.3)\n",
      "Requirement already satisfied: widgetsnbextension~=4.0.12 in c:\\users\\elena\\appdata\\local\\programs\\python\\python312\\lib\\site-packages (from ipywidgets) (4.0.13)\n",
      "Requirement already satisfied: jupyterlab-widgets~=3.0.12 in c:\\users\\elena\\appdata\\local\\programs\\python\\python312\\lib\\site-packages (from ipywidgets) (3.0.13)\n",
      "Requirement already satisfied: decorator in c:\\users\\elena\\appdata\\local\\programs\\python\\python312\\lib\\site-packages (from ipython>=6.1.0->ipywidgets) (5.1.1)\n",
      "Requirement already satisfied: jedi>=0.16 in c:\\users\\elena\\appdata\\local\\programs\\python\\python312\\lib\\site-packages (from ipython>=6.1.0->ipywidgets) (0.19.1)\n",
      "Requirement already satisfied: matplotlib-inline in c:\\users\\elena\\appdata\\local\\programs\\python\\python312\\lib\\site-packages (from ipython>=6.1.0->ipywidgets) (0.1.7)\n",
      "Requirement already satisfied: prompt-toolkit<3.1.0,>=3.0.41 in c:\\users\\elena\\appdata\\local\\programs\\python\\python312\\lib\\site-packages (from ipython>=6.1.0->ipywidgets) (3.0.47)\n",
      "Requirement already satisfied: pygments>=2.4.0 in c:\\users\\elena\\appdata\\local\\programs\\python\\python312\\lib\\site-packages (from ipython>=6.1.0->ipywidgets) (2.18.0)\n",
      "Requirement already satisfied: stack-data in c:\\users\\elena\\appdata\\local\\programs\\python\\python312\\lib\\site-packages (from ipython>=6.1.0->ipywidgets) (0.6.3)\n",
      "Requirement already satisfied: colorama in c:\\users\\elena\\appdata\\local\\programs\\python\\python312\\lib\\site-packages (from ipython>=6.1.0->ipywidgets) (0.4.6)\n",
      "Requirement already satisfied: parso<0.9.0,>=0.8.3 in c:\\users\\elena\\appdata\\local\\programs\\python\\python312\\lib\\site-packages (from jedi>=0.16->ipython>=6.1.0->ipywidgets) (0.8.4)\n",
      "Requirement already satisfied: wcwidth in c:\\users\\elena\\appdata\\local\\programs\\python\\python312\\lib\\site-packages (from prompt-toolkit<3.1.0,>=3.0.41->ipython>=6.1.0->ipywidgets) (0.2.13)\n",
      "Requirement already satisfied: executing>=1.2.0 in c:\\users\\elena\\appdata\\local\\programs\\python\\python312\\lib\\site-packages (from stack-data->ipython>=6.1.0->ipywidgets) (2.1.0)\n",
      "Requirement already satisfied: asttokens>=2.1.0 in c:\\users\\elena\\appdata\\local\\programs\\python\\python312\\lib\\site-packages (from stack-data->ipython>=6.1.0->ipywidgets) (2.4.1)\n",
      "Requirement already satisfied: pure-eval in c:\\users\\elena\\appdata\\local\\programs\\python\\python312\\lib\\site-packages (from stack-data->ipython>=6.1.0->ipywidgets) (0.2.3)\n",
      "Requirement already satisfied: six>=1.12.0 in c:\\users\\elena\\appdata\\local\\programs\\python\\python312\\lib\\site-packages (from asttokens>=2.1.0->stack-data->ipython>=6.1.0->ipywidgets) (1.16.0)\n",
      "Note: you may need to restart the kernel to use updated packages.\n"
     ]
    }
   ],
   "source": [
    "pip install ipywidgets"
   ]
  },
  {
   "cell_type": "code",
   "execution_count": 3,
   "id": "063f3590-1abf-4ea5-b40d-7db36da1127d",
   "metadata": {},
   "outputs": [],
   "source": [
    "from datasets import load_dataset\n",
    "\n",
    "dataset = load_dataset(\"Sp1786/multiclass-sentiment-analysis-dataset\")"
   ]
  },
  {
   "cell_type": "code",
   "execution_count": 4,
   "id": "fbdac88b-9f6a-4cb7-956a-0a68df2b068d",
   "metadata": {},
   "outputs": [
    {
     "ename": "SyntaxError",
     "evalue": "unterminated string literal (detected at line 1) (194796532.py, line 1)",
     "output_type": "error",
     "traceback": [
      "\u001b[1;36m  Cell \u001b[1;32mIn[4], line 1\u001b[1;36m\u001b[0m\n\u001b[1;33m    dataset['\u001b[0m\n\u001b[1;37m            ^\u001b[0m\n\u001b[1;31mSyntaxError\u001b[0m\u001b[1;31m:\u001b[0m unterminated string literal (detected at line 1)\n"
     ]
    }
   ],
   "source": [
    "dataset['"
   ]
  },
  {
   "cell_type": "code",
   "execution_count": null,
   "id": "51d0086e-210b-4547-af9c-6b0083537ee4",
   "metadata": {},
   "outputs": [],
   "source": [
    "# Какие метки есть в датасете?(?????)\n",
    "\n",
    "unique_labels = set() # Создаем множество set() # Множество - это список уникальных элементов\n",
    "for i in dataset['train']: # Для каждого уникального элемента из обучающей выборки dataset['train']. Добавим элемент в множество unique_labels.\n",
    "    unique_labels.add(i['sentiment'])\n",
    "unique_labels"
   ]
  },
  {
   "cell_type": "code",
   "execution_count": null,
   "id": "610f3d66-c8a7-4db7-93a4-860fb2552109",
   "metadata": {},
   "outputs": [],
   "source": [
    "train_len = len(dataset['train']['sentiment'])\n",
    "validation_len = len(dataset['validation']['sentiment'])\n",
    "test_len = len(dataset['test']['sentiment'])\n",
    "               \n",
    "def \n",
    "negative_counter = {'train':0, 'validation': 0, 'test':0 }\n",
    "positive_counter = {'train':0, 'validation': 0, 'test':0}\n",
    "neutral_counter = {'train':0, 'validation': 0, 'test':0} \n",
    "\n",
    "negative_rates = {'train':0, 'validation': 0, 'test':0 }\n",
    "positive_rates = {'train':0, 'validation': 0, 'test':0}\n",
    "neutral_rates = {'train':0, 'validation': 0, 'test':0}\n",
    "\n",
    "for i in range(train_len): \n",
    "    if dataset['train'][i]['sentiment'] == 'negative': \n",
    "        negative_counter['train'] += 1\n",
    "    if dataset['train'][i]['sentiment'] == 'positive':\n",
    "        positive_counter['train'] += 1\n",
    "    if dataset['train'][i]['sentiment'] == 'neutral':\n",
    "        neutral_counter['train'] += 1\n",
    "\n",
    "\n",
    "negative_rates['train'] = round(negative_counter['train']/ train_len,2) * 100\n",
    "positive_rates['train'] = round(positive_counter['train']/ train_len,2) * 100\n",
    "neutral_rates['train'] = round(neutral_counter['train']/ train_len,2) * 100\n",
    "\n",
    "for i in range(validation_len):\n",
    "    if dataset['validation'][i]['sentiment'] == 'negative': \n",
    "        negative_counter['validation'] += 1\n",
    "    if dataset['validation'][i]['sentiment'] == 'positive':\n",
    "        positive_counter['validation'] += 1\n",
    "    if dataset['validation'][i]['sentiment'] == 'neutral':\n",
    "        neutral_counter['validation'] += 1\n",
    "\n",
    "negative_rates['validation'] = round(negative_counter['validation']/ validation_len,2) * 100\n",
    "positive_rates['validation'] = round(positive_counter['validation']/ validation_len,2) * 100\n",
    "neutral_rates['validation'] = round(neutral_counter['validation']/ validation_len,2) * 100\n",
    "\n",
    "for i in range(test_len):\n",
    "    if dataset['test'][i]['sentiment'] == 'negative': \n",
    "        negative_counter['test'] += 1\n",
    "    if dataset['test'][i]['sentiment'] == 'positive':\n",
    "        positive_counter['test'] += 1\n",
    "    if dataset['test'][i]['sentiment'] == 'neutral':\n",
    "        neutral_counter['test'] += 1\n",
    "\n",
    "negative_rates['test'] = round(negative_counter['test']/ test_len,2) * 100\n",
    "positive_rates['test'] = round(positive_counter['test']/ test_len,2) * 100\n",
    "neutral_rates['test'] = round(neutral_counter['test']/ test_len,2) *100\n",
    "\n",
    "\n",
    "print(f'Длина тренировочного датасета: {train_len}') \n",
    "print(f'Длина проверочного датасета: {validation_len}')\n",
    "print(f'Длина тестового датасета: {test_len}')\n",
    "\n",
    "print()\n",
    "\n",
    "print('Данные обучающей выборки')\n",
    "print(f'Положительные метки: {positive_counter['train']}')\n",
    "print(f'Отрицательне метки: {negative_counter['train']}')\n",
    "print(f'Нейтральные метки: {neutral_counter['train']}')\n",
    "print(f'Положительные метки составляют: {int(positive_rates['train'])} % обучающей выборки')\n",
    "print(f'Отрицательные метки составляют: {int(negative_rates['train'])} % обучающей выборки')\n",
    "print(f'Нейтральные метки составляют: {int(neutral_rates['train'])} % обучающей выборки')\n",
    "\n",
    "\n",
    "print()\n",
    "\n",
    "print('Данные проверочной выборки')\n",
    "print(f'Положительные метки: {positive_counter['validation']}')\n",
    "print(f'Отрицательне метки: {negative_counter['validation']}')\n",
    "print(f'Нейтральные метки: {neutral_counter['validation']}')\n",
    "print(f'Положительные метки составляют: {int(positive_rates['validation'])} % обучающей выборки')\n",
    "print(f'Отрицательные метки составляют: {int(negative_rates['validation'])} % обучающей выборки')\n",
    "print(f'Нейтральные метки составляют: {int(neutral_rates['validation'])} % обучающей выборки')\n",
    "\n",
    "\n",
    "print()\n",
    "\n",
    "print('Данные тестовой выборки')\n",
    "print(f'Положительные метки: {positive_counter['test']}')\n",
    "print(f'Отрицательне метки: {negative_counter['test']}')\n",
    "print(f'Нейртальные метки: {neutral_counter['test']}')\n",
    "print(f'Положительные метки составляют: {int(positive_rates['test'])} % обучающей выборки')\n",
    "print(f'Отрицательные метки составляют: {int(negative_rates['test'])} % обучающей выборки')\n",
    "print(f'Нейтральные метки составляют: {int(neutral_rates['test'])} % обучающей выборки')"
   ]
  },
  {
   "cell_type": "code",
   "execution_count": null,
   "id": "5f2f457e-c5e4-4940-9ae9-8e9f9d55b85c",
   "metadata": {},
   "outputs": [],
   "source": [
    "from matplotlib import pyplot as plt\n",
    "import numpy as np\n",
    "labels = ['positive','negative','neutral']\n",
    "data =  [positive_rates['train'], negative_rates['train'], neutral_rates['train']]\n",
    "fig = plt.figure(figsize=(10, 7))\n",
    "plt.pie(data, labels=labels, autopct='%1.f%%')\n",
    "plt.show()"
   ]
  },
  {
   "cell_type": "markdown",
   "id": "7b4dd50d-26fc-4952-8d93-c67632a851df",
   "metadata": {},
   "source": [
    "\n",
    "import numpy as np\n",
    "\n",
    "# Задаем список меток\n",
    "labels = ### ваш код здесь ###\n",
    "# Задаем значения для каждой метки, процентное соотношение (только для обучающей выборки)\n",
    "data = ### ваш код здесь ###\n",
    "\n",
    "# Код для отрисовки круговой диаграммы\n",
    "fig = plt.figure(figsize=(10, 7))\n",
    "plt.pie(data, labels=labels, autopct='%1.f%%') # autopict создает числовые подписи и использует целочисленное форматирование\n",
    "\n",
    "# Показать график\n",
    "plt.show()\n",
    "     \n",
    "\n",
    "\n",
    "# Сделаем то же самое для проверочной выборки\n",
    "### ваш код здесь ###\n",
    "     \n",
    "\n",
    "# Сделаем то же самое для тестовой выборки\n",
    "### ваш код здесь ###"
   ]
  },
  {
   "cell_type": "code",
   "execution_count": null,
   "id": "866f9609-1933-4c27-9639-4f6b23f883d3",
   "metadata": {},
   "outputs": [],
   "source": [
    "Python Exercise: Find the Max of three numbers\n"
   ]
  },
  {
   "cell_type": "code",
   "execution_count": null,
   "id": "3944386b-01c3-4a3c-8819-997b87503842",
   "metadata": {},
   "outputs": [],
   "source": [
    "def max_of_numbers(x,y,z):\n",
    "    if x > y and x > z:\n",
    "        return x\n",
    "    elif y > x and y>z:\n",
    "        return y\n",
    "    elif z>x and z>y:\n",
    "        return z\n",
    "max_of_numbers(-6,3.5,-5)\n",
    "        \n",
    "    "
   ]
  },
  {
   "cell_type": "code",
   "execution_count": null,
   "id": "86ee174a-1493-4e12-a05a-83b86b90762e",
   "metadata": {},
   "outputs": [],
   "source": [
    "def reversedstr(var):\n",
    "    newstr = []\n",
    "    for letter in range(len(var)-1,-1,-1):\n",
    "        newstr.append(var[letter])\n",
    "    return newstr\n",
    "reversedstr('56kl')"
   ]
  },
  {
   "cell_type": "code",
   "execution_count": null,
   "id": "5f7dad83-a4cb-466a-b347-5603459bf3fb",
   "metadata": {},
   "outputs": [],
   "source": [
    "def reversestr(lst):\n",
    "    new = ''\n",
    "    for i in range(len(lst)-1,-1,-1):\n",
    "        new += lst[i]\n",
    "    return new \n",
    "reversestr('dfr5')"
   ]
  },
  {
   "cell_type": "code",
   "execution_count": 5,
   "id": "c2952a33-bbfc-4053-82da-231358c50038",
   "metadata": {},
   "outputs": [
    {
     "name": "stdout",
     "output_type": "stream",
     "text": [
      "Number is not in range 19\n"
     ]
    }
   ],
   "source": [
    "def number(n):\n",
    "    if n in range(1,10):\n",
    "        print('Number is in range', n)\n",
    "    else:\n",
    "        print('Number is not in range', n)\n",
    "number(19)"
   ]
  },
  {
   "cell_type": "code",
   "execution_count": 57,
   "id": "aeaca91f-8e72-4aa2-ba7e-a0cb130a5232",
   "metadata": {},
   "outputs": [
    {
     "ename": "TypeError",
     "evalue": "unsupported operand type(s) for +=: 'int' and 'str'",
     "output_type": "error",
     "traceback": [
      "\u001b[1;31m---------------------------------------------------------------------------\u001b[0m",
      "\u001b[1;31mTypeError\u001b[0m                                 Traceback (most recent call last)",
      "Cell \u001b[1;32mIn[57], line 13\u001b[0m\n\u001b[0;32m     11\u001b[0m     \u001b[38;5;28mprint\u001b[39m(\u001b[38;5;124m\"\u001b[39m\u001b[38;5;124mThe number of lowercase characters is:\u001b[39m\u001b[38;5;124m\"\u001b[39m,lower)\n\u001b[0;32m     12\u001b[0m     \u001b[38;5;28mprint\u001b[39m(\u001b[38;5;124m\"\u001b[39m\u001b[38;5;124mThe number of uppercase characters is:\u001b[39m\u001b[38;5;124m\"\u001b[39m,upper)\n\u001b[1;32m---> 13\u001b[0m \u001b[43mcount_letters\u001b[49m\u001b[43m(\u001b[49m\u001b[38;5;124;43m'\u001b[39;49m\u001b[38;5;124;43mI like Him\u001b[39;49m\u001b[38;5;124;43m'\u001b[39;49m\u001b[43m)\u001b[49m\n",
      "Cell \u001b[1;32mIn[57], line 7\u001b[0m, in \u001b[0;36mcount_letters\u001b[1;34m(my_string)\u001b[0m\n\u001b[0;32m      5\u001b[0m \u001b[38;5;28;01mfor\u001b[39;00m l \u001b[38;5;129;01min\u001b[39;00m my_string:\n\u001b[0;32m      6\u001b[0m     \u001b[38;5;28;01mif\u001b[39;00m(l\u001b[38;5;241m.\u001b[39mislower()):\n\u001b[1;32m----> 7\u001b[0m         \u001b[43mlower\u001b[49m\u001b[38;5;241;43m+\u001b[39;49m\u001b[38;5;241;43m=\u001b[39;49m\u001b[43ml\u001b[49m\n\u001b[0;32m      8\u001b[0m     \u001b[38;5;28;01melse\u001b[39;00m:\n\u001b[0;32m      9\u001b[0m         upper\u001b[38;5;241m+\u001b[39m\u001b[38;5;241m=\u001b[39m\u001b[38;5;241m1\u001b[39m\n",
      "\u001b[1;31mTypeError\u001b[0m: unsupported operand type(s) for +=: 'int' and 'str'"
     ]
    }
   ],
   "source": []
  },
  {
   "cell_type": "code",
   "execution_count": 69,
   "id": "32243560-638c-466e-ad61-11ea735a03a6",
   "metadata": {},
   "outputs": [
    {
     "name": "stdout",
     "output_type": "stream",
     "text": [
      "7\n",
      "1\n"
     ]
    }
   ],
   "source": [
    "import re \n",
    "def count_letters(var): \n",
    "    lower = [] \n",
    "    upper=[]\n",
    "    pattern = r'\\s'\n",
    "    no_spaces_in_var = re.sub(pattern, '',var)\n",
    "    for l in no_spaces_in_var:\n",
    "        if l.isupper():\n",
    "            upper.append(l)\n",
    "        else:\n",
    "            lower.append(l)\n",
    "    print(len(lower))\n",
    "    print(len(upper))\n",
    "count_letters('I like him')"
   ]
  },
  {
   "cell_type": "code",
   "execution_count": null,
   "id": "4411929f-8db0-4c05-9d6e-3a177e86b9e5",
   "metadata": {},
   "outputs": [],
   "source": [
    "def count_letters(example_str): \n",
    "    d = {'upper_case':0, 'lower_case':0}\n",
    "    for l in example_str:\n",
    "        if l.isupper():\n",
    "            d['upper_case']+=1\n",
    "        elif l.islower():\n",
    "            d['lowe_case']"
   ]
  },
  {
   "cell_type": "code",
   "execution_count": 62,
   "id": "6e4f6d0f-a71f-4f6f-96e8-4bfddc9ec9ae",
   "metadata": {},
   "outputs": [
    {
     "name": "stdout",
     "output_type": "stream",
     "text": [
      "The number of lowercase characters is: 3\n",
      "The number of uppercase characters is: 8\n"
     ]
    }
   ],
   "source": [
    "\n"
   ]
  },
  {
   "cell_type": "code",
   "execution_count": null,
   "id": "440a0661-8667-4080-9edf-35212a8aaf4f",
   "metadata": {},
   "outputs": [],
   "source": []
  }
 ],
 "metadata": {
  "kernelspec": {
   "display_name": "Python 3 (ipykernel)",
   "language": "python",
   "name": "python3"
  },
  "language_info": {
   "codemirror_mode": {
    "name": "ipython",
    "version": 3
   },
   "file_extension": ".py",
   "mimetype": "text/x-python",
   "name": "python",
   "nbconvert_exporter": "python",
   "pygments_lexer": "ipython3",
   "version": "3.12.6"
  }
 },
 "nbformat": 4,
 "nbformat_minor": 5
}
