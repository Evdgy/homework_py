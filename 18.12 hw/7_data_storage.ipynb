{
  "nbformat": 4,
  "nbformat_minor": 0,
  "metadata": {
    "colab": {
      "provenance": []
    },
    "kernelspec": {
      "name": "python3",
      "display_name": "Python 3"
    },
    "language_info": {
      "name": "python"
    }
  },
  "cells": [
    {
      "cell_type": "code",
      "execution_count": null,
      "metadata": {
        "colab": {
          "base_uri": "https://localhost:8080/"
        },
        "id": "uMyGrV85CJPv",
        "outputId": "b506902c-042d-457d-c58f-014d93e8221f"
      },
      "outputs": [
        {
          "output_type": "stream",
          "name": "stdout",
          "text": [
            "Мы создали пустой файл\n"
          ]
        }
      ],
      "source": [
        "f = open('text.txt', 'w') # Файл доступен только для записи, прочитать его нельзя\n",
        "print(\"Мы создали пустой файл\")"
      ]
    },
    {
      "cell_type": "code",
      "source": [
        "f.write('This is a sample sentence')"
      ],
      "metadata": {
        "colab": {
          "base_uri": "https://localhost:8080/"
        },
        "id": "8iPzCDlDD7RC",
        "outputId": "768ab87e-ed94-4243-defb-31093bcd5a32"
      },
      "execution_count": null,
      "outputs": [
        {
          "output_type": "execute_result",
          "data": {
            "text/plain": [
              "25"
            ]
          },
          "metadata": {},
          "execution_count": 2
        }
      ]
    },
    {
      "cell_type": "code",
      "source": [
        "f.close()"
      ],
      "metadata": {
        "id": "i9kqt4orECr8"
      },
      "execution_count": null,
      "outputs": []
    },
    {
      "cell_type": "code",
      "source": [
        "f = open('text.txt', 'w')\n",
        "f.write(\"My text\")\n",
        "f.close()\n",
        "# В файле появилась запись \"My text\""
      ],
      "metadata": {
        "id": "aZE5QSK8EcYj"
      },
      "execution_count": null,
      "outputs": []
    },
    {
      "cell_type": "code",
      "source": [
        "f = open('text.txt', 'a')  # Режим добавления\n",
        "f.write(\"\\nAnd more text.\")\n",
        "f.close()\n",
        "# В файл записалась вторая строка текста"
      ],
      "metadata": {
        "id": "7C40wU-fELX7"
      },
      "execution_count": null,
      "outputs": []
    },
    {
      "cell_type": "code",
      "source": [
        "f = open('text.txt', 'r')\n",
        "text = f.read()\n",
        "print(text)\n",
        "f.close()"
      ],
      "metadata": {
        "colab": {
          "base_uri": "https://localhost:8080/"
        },
        "id": "CjQ-_8YzG2gl",
        "outputId": "c5674981-b368-47a9-f8f7-5b6c2412fc3a"
      },
      "execution_count": null,
      "outputs": [
        {
          "output_type": "stream",
          "name": "stdout",
          "text": [
            "My text\n",
            "And more text.\n"
          ]
        }
      ]
    },
    {
      "cell_type": "code",
      "source": [
        "# 'w' лучше использовать, если есть необходимость перезаписать файл, 'a' - если необходимо добавить запись в конец существующего файла, не стирая предыдущие данные,'r' - если нужно только прочитать данные в файле"
      ],
      "metadata": {
        "id": "krnbGlXRG52x"
      },
      "execution_count": null,
      "outputs": []
    },
    {
      "cell_type": "code",
      "source": [
        "f = open('new_file.txt', 'w+')\n",
        "f.write(\"Oh! Jingle bells, jingle bells\")\n",
        "f.seek(0)  # Если не перетащим курсор, то атпуте будет пустая строка\n",
        "text = f.read()\n",
        "print(text)\n",
        "f.close()"
      ],
      "metadata": {
        "colab": {
          "base_uri": "https://localhost:8080/"
        },
        "id": "dlRq0w-fHPv7",
        "outputId": "34fe980f-d640-41ab-b35f-e2b62da984a3"
      },
      "execution_count": 100,
      "outputs": [
        {
          "output_type": "stream",
          "name": "stdout",
          "text": [
            "Oh! Jingle bells, jingle bells\n"
          ]
        }
      ]
    },
    {
      "cell_type": "markdown",
      "source": [
        "'w+' позволяет не только записывать и создавать файл, но и читать *его*"
      ],
      "metadata": {
        "id": "bumCnEG2aG18"
      }
    },
    {
      "cell_type": "code",
      "source": [
        "f = open('new_file.txt', 'a+')\n",
        "f.write('\\nJingle all the way.')\n",
        "f.seek(0)\n",
        "text = f.read()\n",
        "print(text)\n",
        "f.close()"
      ],
      "metadata": {
        "colab": {
          "base_uri": "https://localhost:8080/"
        },
        "id": "7X91n0SHHShf",
        "outputId": "f56bba6c-7719-4061-d318-f232abc67718"
      },
      "execution_count": 116,
      "outputs": [
        {
          "output_type": "stream",
          "name": "stdout",
          "text": [
            "Oh, what fun it is to ride\n",
            "In a one-horse open sleigh, heyall the way.\n",
            "Jingle all the way.\n",
            "Jingle all the way.\n",
            "Jingle all the way.\n",
            "Jingle all the way.\n"
          ]
        }
      ]
    },
    {
      "cell_type": "markdown",
      "source": [
        "режим 'a+'  тоже позволяет читать и дозаписывать файл"
      ],
      "metadata": {
        "id": "XzpFMBmgaiG7"
      }
    },
    {
      "cell_type": "code",
      "source": [
        "f = open('new_file.txt', 'r+')\n",
        "f.write(\"Oh, what fun it is to ride\\nIn a one-horse open sleigh, hey\\n\")\n",
        "f.seek(0)\n",
        "print(f.read())\n",
        "f.close()"
      ],
      "metadata": {
        "colab": {
          "base_uri": "https://localhost:8080/"
        },
        "id": "_dpa8NxVHVWJ",
        "outputId": "0a48a63a-b8b3-42a5-89f0-dad357a523e8"
      },
      "execution_count": 122,
      "outputs": [
        {
          "output_type": "stream",
          "name": "stdout",
          "text": [
            "Oh, what fun it is to ride\n",
            "In a one-horse open sleigh, hey\n",
            " a one-horse open sleigh, heyy.\n",
            "Jingle all the way.\n",
            "Jingle all the way.\n",
            "Jingle all the way.\n"
          ]
        }
      ]
    },
    {
      "cell_type": "markdown",
      "source": [
        "режим 'r+' позволяет читать и записывать файл"
      ],
      "metadata": {
        "id": "TO0bY0IAb7Fg"
      }
    },
    {
      "cell_type": "code",
      "source": [
        "sample_list = [\n",
        "    'This another sentence.',\n",
        "    'This is one more sentence.',\n",
        "    'Wow, here\\'s one more sentence!'\n",
        "]\n",
        "f = open('file_with_list.txt', 'w+')\n",
        "f.writelines(sample_list)\n",
        "f.close()\n",
        "# в тектовом файле появились данные"
      ],
      "metadata": {
        "id": "v8hJv3FNHYpx"
      },
      "execution_count": null,
      "outputs": []
    },
    {
      "cell_type": "code",
      "source": [
        "sample_list = [\n",
        "    '\\nThis another sentence.',\n",
        "    '\\nThis is one more sentence.',\n",
        "    '\\nWow, here\\'s one more sentence!'\n",
        "]\n",
        "f = open('file_with_list.txt', 'a+')\n",
        "f.writelines(sample_list)\n",
        "f.close()"
      ],
      "metadata": {
        "id": "MJIaxpX7HkHT"
      },
      "execution_count": null,
      "outputs": []
    },
    {
      "cell_type": "code",
      "source": [
        "with open('file_with_list.txt', 'r') as file:\n",
        "    text = file.readlines()\n",
        "    print(text)"
      ],
      "metadata": {
        "colab": {
          "base_uri": "https://localhost:8080/"
        },
        "id": "q9aYXFf_HpNR",
        "outputId": "7d5d5843-2cac-4bf0-d684-0051a765fac1"
      },
      "execution_count": null,
      "outputs": [
        {
          "output_type": "stream",
          "name": "stdout",
          "text": [
            "[\"This another sentence.This is one more sentence.Wow, here's one more sentence!\\n\", 'This another sentence.\\n', 'This is one more sentence.\\n', \"Wow, here's one more sentence!\"]\n"
          ]
        }
      ]
    },
    {
      "cell_type": "code",
      "source": [
        "!wget https://gist.githubusercontent.com/sebleier/554280/raw/7e0e4a1ce04c2bb7bd41089c9821dbcf6d0c786c/NLTK\\'s%2520list%2520of%2520english%2520stopwords -O stopwords.txt\n"
      ],
      "metadata": {
        "colab": {
          "base_uri": "https://localhost:8080/"
        },
        "id": "N6bKaz5eHt6Z",
        "outputId": "b8d90fc4-d317-4e12-e966-aecae55a049e"
      },
      "execution_count": null,
      "outputs": [
        {
          "output_type": "stream",
          "name": "stdout",
          "text": [
            "--2024-12-18 18:55:00--  https://gist.githubusercontent.com/sebleier/554280/raw/7e0e4a1ce04c2bb7bd41089c9821dbcf6d0c786c/NLTK's%2520list%2520of%2520english%2520stopwords\n",
            "Resolving gist.githubusercontent.com (gist.githubusercontent.com)... 185.199.111.133, 185.199.109.133, 185.199.108.133, ...\n",
            "Connecting to gist.githubusercontent.com (gist.githubusercontent.com)|185.199.111.133|:443... connected.\n",
            "HTTP request sent, awaiting response... 200 OK\n",
            "Length: 622 [text/plain]\n",
            "Saving to: ‘stopwords.txt’\n",
            "\n",
            "\rstopwords.txt         0%[                    ]       0  --.-KB/s               \rstopwords.txt       100%[===================>]     622  --.-KB/s    in 0s      \n",
            "\n",
            "2024-12-18 18:55:00 (30.3 MB/s) - ‘stopwords.txt’ saved [622/622]\n",
            "\n"
          ]
        }
      ]
    },
    {
      "cell_type": "code",
      "source": [
        "stopwords = open('stopwords.txt', 'r') # открываем файл\n",
        "\n",
        "count = 0 # создаем счетчик\n",
        "\n",
        "while True: # цикл While\n",
        "\n",
        "    count += 1 # считаем порядковый номер слова\n",
        "\n",
        "    line = stopwords.readline() # выводим одну строку с readline (а не readlines - она выведет все)\n",
        "\n",
        "    if not line: # цикл заканчивается там, где заканчиваются строки\n",
        "        break\n",
        "\n",
        "    print(f\"Word number {count}: {line.strip()}\") # выводим номер слова и само слово\n",
        "\n",
        "stopwords.close() # закрываем файл"
      ],
      "metadata": {
        "colab": {
          "base_uri": "https://localhost:8080/"
        },
        "id": "XM8HZjetHwEi",
        "outputId": "b25f8b5e-a35b-4042-d064-213c88c2ee83"
      },
      "execution_count": null,
      "outputs": [
        {
          "output_type": "stream",
          "name": "stdout",
          "text": [
            "Word number 1: i\n",
            "Word number 2: me\n",
            "Word number 3: my\n",
            "Word number 4: myself\n",
            "Word number 5: we\n",
            "Word number 6: our\n",
            "Word number 7: ours\n",
            "Word number 8: ourselves\n",
            "Word number 9: you\n",
            "Word number 10: your\n",
            "Word number 11: yours\n",
            "Word number 12: yourself\n",
            "Word number 13: yourselves\n",
            "Word number 14: he\n",
            "Word number 15: him\n",
            "Word number 16: his\n",
            "Word number 17: himself\n",
            "Word number 18: she\n",
            "Word number 19: her\n",
            "Word number 20: hers\n",
            "Word number 21: herself\n",
            "Word number 22: it\n",
            "Word number 23: its\n",
            "Word number 24: itself\n",
            "Word number 25: they\n",
            "Word number 26: them\n",
            "Word number 27: their\n",
            "Word number 28: theirs\n",
            "Word number 29: themselves\n",
            "Word number 30: what\n",
            "Word number 31: which\n",
            "Word number 32: who\n",
            "Word number 33: whom\n",
            "Word number 34: this\n",
            "Word number 35: that\n",
            "Word number 36: these\n",
            "Word number 37: those\n",
            "Word number 38: am\n",
            "Word number 39: is\n",
            "Word number 40: are\n",
            "Word number 41: was\n",
            "Word number 42: were\n",
            "Word number 43: be\n",
            "Word number 44: been\n",
            "Word number 45: being\n",
            "Word number 46: have\n",
            "Word number 47: has\n",
            "Word number 48: had\n",
            "Word number 49: having\n",
            "Word number 50: do\n",
            "Word number 51: does\n",
            "Word number 52: did\n",
            "Word number 53: doing\n",
            "Word number 54: a\n",
            "Word number 55: an\n",
            "Word number 56: the\n",
            "Word number 57: and\n",
            "Word number 58: but\n",
            "Word number 59: if\n",
            "Word number 60: or\n",
            "Word number 61: because\n",
            "Word number 62: as\n",
            "Word number 63: until\n",
            "Word number 64: while\n",
            "Word number 65: of\n",
            "Word number 66: at\n",
            "Word number 67: by\n",
            "Word number 68: for\n",
            "Word number 69: with\n",
            "Word number 70: about\n",
            "Word number 71: against\n",
            "Word number 72: between\n",
            "Word number 73: into\n",
            "Word number 74: through\n",
            "Word number 75: during\n",
            "Word number 76: before\n",
            "Word number 77: after\n",
            "Word number 78: above\n",
            "Word number 79: below\n",
            "Word number 80: to\n",
            "Word number 81: from\n",
            "Word number 82: up\n",
            "Word number 83: down\n",
            "Word number 84: in\n",
            "Word number 85: out\n",
            "Word number 86: on\n",
            "Word number 87: off\n",
            "Word number 88: over\n",
            "Word number 89: under\n",
            "Word number 90: again\n",
            "Word number 91: further\n",
            "Word number 92: then\n",
            "Word number 93: once\n",
            "Word number 94: here\n",
            "Word number 95: there\n",
            "Word number 96: when\n",
            "Word number 97: where\n",
            "Word number 98: why\n",
            "Word number 99: how\n",
            "Word number 100: all\n",
            "Word number 101: any\n",
            "Word number 102: both\n",
            "Word number 103: each\n",
            "Word number 104: few\n",
            "Word number 105: more\n",
            "Word number 106: most\n",
            "Word number 107: other\n",
            "Word number 108: some\n",
            "Word number 109: such\n",
            "Word number 110: no\n",
            "Word number 111: nor\n",
            "Word number 112: not\n",
            "Word number 113: only\n",
            "Word number 114: own\n",
            "Word number 115: same\n",
            "Word number 116: so\n",
            "Word number 117: than\n",
            "Word number 118: too\n",
            "Word number 119: very\n",
            "Word number 120: s\n",
            "Word number 121: t\n",
            "Word number 122: can\n",
            "Word number 123: will\n",
            "Word number 124: just\n",
            "Word number 125: don\n",
            "Word number 126: should\n",
            "Word number 127: now\n"
          ]
        }
      ]
    },
    {
      "cell_type": "markdown",
      "source": [
        "Рефлексия: для каких задач подойдет такой формат обработки?\n",
        "Попытки рефлексии: как минимум это удобно для подсчета слов в файле, если нужно. Такой формат обработки может помочь в поиске уникальных слов в файле, есои выйти за рамки стоп-слов. Если конкретно для википедии, то можно попробовать создать список дополнительных ссылок из статьи.\n"
      ],
      "metadata": {
        "id": "eOgSrYebI_q2"
      }
    },
    {
      "cell_type": "code",
      "source": [
        "with open('stopwords.txt', 'r') as f:\n",
        "    stopwords = f.readlines()\n",
        "    stopwords= [word.strip() for word in stopwords]\n",
        "stopwords"
      ],
      "metadata": {
        "colab": {
          "base_uri": "https://localhost:8080/"
        },
        "id": "TBz7WdwvH9__",
        "outputId": "03959f21-22f6-48a8-9525-8e741d6a1c66"
      },
      "execution_count": null,
      "outputs": [
        {
          "output_type": "execute_result",
          "data": {
            "text/plain": [
              "['i',\n",
              " 'me',\n",
              " 'my',\n",
              " 'myself',\n",
              " 'we',\n",
              " 'our',\n",
              " 'ours',\n",
              " 'ourselves',\n",
              " 'you',\n",
              " 'your',\n",
              " 'yours',\n",
              " 'yourself',\n",
              " 'yourselves',\n",
              " 'he',\n",
              " 'him',\n",
              " 'his',\n",
              " 'himself',\n",
              " 'she',\n",
              " 'her',\n",
              " 'hers',\n",
              " 'herself',\n",
              " 'it',\n",
              " 'its',\n",
              " 'itself',\n",
              " 'they',\n",
              " 'them',\n",
              " 'their',\n",
              " 'theirs',\n",
              " 'themselves',\n",
              " 'what',\n",
              " 'which',\n",
              " 'who',\n",
              " 'whom',\n",
              " 'this',\n",
              " 'that',\n",
              " 'these',\n",
              " 'those',\n",
              " 'am',\n",
              " 'is',\n",
              " 'are',\n",
              " 'was',\n",
              " 'were',\n",
              " 'be',\n",
              " 'been',\n",
              " 'being',\n",
              " 'have',\n",
              " 'has',\n",
              " 'had',\n",
              " 'having',\n",
              " 'do',\n",
              " 'does',\n",
              " 'did',\n",
              " 'doing',\n",
              " 'a',\n",
              " 'an',\n",
              " 'the',\n",
              " 'and',\n",
              " 'but',\n",
              " 'if',\n",
              " 'or',\n",
              " 'because',\n",
              " 'as',\n",
              " 'until',\n",
              " 'while',\n",
              " 'of',\n",
              " 'at',\n",
              " 'by',\n",
              " 'for',\n",
              " 'with',\n",
              " 'about',\n",
              " 'against',\n",
              " 'between',\n",
              " 'into',\n",
              " 'through',\n",
              " 'during',\n",
              " 'before',\n",
              " 'after',\n",
              " 'above',\n",
              " 'below',\n",
              " 'to',\n",
              " 'from',\n",
              " 'up',\n",
              " 'down',\n",
              " 'in',\n",
              " 'out',\n",
              " 'on',\n",
              " 'off',\n",
              " 'over',\n",
              " 'under',\n",
              " 'again',\n",
              " 'further',\n",
              " 'then',\n",
              " 'once',\n",
              " 'here',\n",
              " 'there',\n",
              " 'when',\n",
              " 'where',\n",
              " 'why',\n",
              " 'how',\n",
              " 'all',\n",
              " 'any',\n",
              " 'both',\n",
              " 'each',\n",
              " 'few',\n",
              " 'more',\n",
              " 'most',\n",
              " 'other',\n",
              " 'some',\n",
              " 'such',\n",
              " 'no',\n",
              " 'nor',\n",
              " 'not',\n",
              " 'only',\n",
              " 'own',\n",
              " 'same',\n",
              " 'so',\n",
              " 'than',\n",
              " 'too',\n",
              " 'very',\n",
              " 's',\n",
              " 't',\n",
              " 'can',\n",
              " 'will',\n",
              " 'just',\n",
              " 'don',\n",
              " 'should',\n",
              " 'now']"
            ]
          },
          "metadata": {},
          "execution_count": 42
        }
      ]
    },
    {
      "cell_type": "code",
      "source": [
        "!wget https://raw.githubusercontent.com/vifirsanova/hse-python-course/main/extracurricular/corpus.json"
      ],
      "metadata": {
        "colab": {
          "base_uri": "https://localhost:8080/"
        },
        "id": "17ffJrvRJKx2",
        "outputId": "7dcb864d-ffb2-4560-a568-1898ae40014d"
      },
      "execution_count": null,
      "outputs": [
        {
          "output_type": "stream",
          "name": "stdout",
          "text": [
            "--2024-12-18 19:00:36--  https://raw.githubusercontent.com/vifirsanova/hse-python-course/main/extracurricular/corpus.json\n",
            "Resolving raw.githubusercontent.com (raw.githubusercontent.com)... 185.199.110.133, 185.199.109.133, 185.199.108.133, ...\n",
            "Connecting to raw.githubusercontent.com (raw.githubusercontent.com)|185.199.110.133|:443... connected.\n",
            "HTTP request sent, awaiting response... 200 OK\n",
            "Length: 263190 (257K) [text/plain]\n",
            "Saving to: ‘corpus.json’\n",
            "\n",
            "\rcorpus.json           0%[                    ]       0  --.-KB/s               \rcorpus.json         100%[===================>] 257.02K  --.-KB/s    in 0.004s  \n",
            "\n",
            "2024-12-18 19:00:36 (60.2 MB/s) - ‘corpus.json’ saved [263190/263190]\n",
            "\n"
          ]
        }
      ]
    },
    {
      "cell_type": "code",
      "source": [
        "import pandas as pd"
      ],
      "metadata": {
        "id": "VZVLa1nJJLR6"
      },
      "execution_count": null,
      "outputs": []
    },
    {
      "cell_type": "markdown",
      "source": [
        "Знаете ли вы преимущества csv перед другими форматами? Напишите здесь: CSV может быть использован для различных типов данных, например, JSON не поддерживает временные данные. CSV файлы занимают мало места на диске в сравнении с тем же XML."
      ],
      "metadata": {
        "id": "6pNG7AGxJXzb"
      }
    },
    {
      "cell_type": "code",
      "source": [
        "!wget https://raw.githubusercontent.com/datasciencedojo/datasets/master/titanic.csv"
      ],
      "metadata": {
        "colab": {
          "base_uri": "https://localhost:8080/"
        },
        "id": "9PRqPckXJkJ6",
        "outputId": "1609c28e-668c-4896-fd2a-2625e77763a4"
      },
      "execution_count": null,
      "outputs": [
        {
          "output_type": "stream",
          "name": "stdout",
          "text": [
            "--2024-12-18 19:02:22--  https://raw.githubusercontent.com/datasciencedojo/datasets/master/titanic.csv\n",
            "Resolving raw.githubusercontent.com (raw.githubusercontent.com)... 185.199.108.133, 185.199.109.133, 185.199.110.133, ...\n",
            "Connecting to raw.githubusercontent.com (raw.githubusercontent.com)|185.199.108.133|:443... connected.\n",
            "HTTP request sent, awaiting response... 200 OK\n",
            "Length: 60302 (59K) [text/plain]\n",
            "Saving to: ‘titanic.csv’\n",
            "\n",
            "\rtitanic.csv           0%[                    ]       0  --.-KB/s               \rtitanic.csv         100%[===================>]  58.89K  --.-KB/s    in 0.002s  \n",
            "\n",
            "2024-12-18 19:02:22 (34.6 MB/s) - ‘titanic.csv’ saved [60302/60302]\n",
            "\n"
          ]
        }
      ]
    },
    {
      "cell_type": "code",
      "source": [
        "titanic = pd.read_csv(\"titanic.csv\")\n",
        "\n",
        "# Выводим первые 3 строки\n",
        "titanic.head(3)"
      ],
      "metadata": {
        "colab": {
          "base_uri": "https://localhost:8080/",
          "height": 178
        },
        "id": "2byx35o0JXQQ",
        "outputId": "a6e9df9e-79a6-4521-fcb2-9016a46429f7"
      },
      "execution_count": null,
      "outputs": [
        {
          "output_type": "execute_result",
          "data": {
            "text/plain": [
              "   PassengerId  Survived  Pclass  \\\n",
              "0            1         0       3   \n",
              "1            2         1       1   \n",
              "2            3         1       3   \n",
              "\n",
              "                                                Name     Sex   Age  SibSp  \\\n",
              "0                            Braund, Mr. Owen Harris    male  22.0      1   \n",
              "1  Cumings, Mrs. John Bradley (Florence Briggs Th...  female  38.0      1   \n",
              "2                             Heikkinen, Miss. Laina  female  26.0      0   \n",
              "\n",
              "   Parch            Ticket     Fare Cabin Embarked  \n",
              "0      0         A/5 21171   7.2500   NaN        S  \n",
              "1      0          PC 17599  71.2833   C85        C  \n",
              "2      0  STON/O2. 3101282   7.9250   NaN        S  "
            ],
            "text/html": [
              "\n",
              "  <div id=\"df-736518aa-029a-47ac-bd7c-8ebcc7948d2a\" class=\"colab-df-container\">\n",
              "    <div>\n",
              "<style scoped>\n",
              "    .dataframe tbody tr th:only-of-type {\n",
              "        vertical-align: middle;\n",
              "    }\n",
              "\n",
              "    .dataframe tbody tr th {\n",
              "        vertical-align: top;\n",
              "    }\n",
              "\n",
              "    .dataframe thead th {\n",
              "        text-align: right;\n",
              "    }\n",
              "</style>\n",
              "<table border=\"1\" class=\"dataframe\">\n",
              "  <thead>\n",
              "    <tr style=\"text-align: right;\">\n",
              "      <th></th>\n",
              "      <th>PassengerId</th>\n",
              "      <th>Survived</th>\n",
              "      <th>Pclass</th>\n",
              "      <th>Name</th>\n",
              "      <th>Sex</th>\n",
              "      <th>Age</th>\n",
              "      <th>SibSp</th>\n",
              "      <th>Parch</th>\n",
              "      <th>Ticket</th>\n",
              "      <th>Fare</th>\n",
              "      <th>Cabin</th>\n",
              "      <th>Embarked</th>\n",
              "    </tr>\n",
              "  </thead>\n",
              "  <tbody>\n",
              "    <tr>\n",
              "      <th>0</th>\n",
              "      <td>1</td>\n",
              "      <td>0</td>\n",
              "      <td>3</td>\n",
              "      <td>Braund, Mr. Owen Harris</td>\n",
              "      <td>male</td>\n",
              "      <td>22.0</td>\n",
              "      <td>1</td>\n",
              "      <td>0</td>\n",
              "      <td>A/5 21171</td>\n",
              "      <td>7.2500</td>\n",
              "      <td>NaN</td>\n",
              "      <td>S</td>\n",
              "    </tr>\n",
              "    <tr>\n",
              "      <th>1</th>\n",
              "      <td>2</td>\n",
              "      <td>1</td>\n",
              "      <td>1</td>\n",
              "      <td>Cumings, Mrs. John Bradley (Florence Briggs Th...</td>\n",
              "      <td>female</td>\n",
              "      <td>38.0</td>\n",
              "      <td>1</td>\n",
              "      <td>0</td>\n",
              "      <td>PC 17599</td>\n",
              "      <td>71.2833</td>\n",
              "      <td>C85</td>\n",
              "      <td>C</td>\n",
              "    </tr>\n",
              "    <tr>\n",
              "      <th>2</th>\n",
              "      <td>3</td>\n",
              "      <td>1</td>\n",
              "      <td>3</td>\n",
              "      <td>Heikkinen, Miss. Laina</td>\n",
              "      <td>female</td>\n",
              "      <td>26.0</td>\n",
              "      <td>0</td>\n",
              "      <td>0</td>\n",
              "      <td>STON/O2. 3101282</td>\n",
              "      <td>7.9250</td>\n",
              "      <td>NaN</td>\n",
              "      <td>S</td>\n",
              "    </tr>\n",
              "  </tbody>\n",
              "</table>\n",
              "</div>\n",
              "    <div class=\"colab-df-buttons\">\n",
              "\n",
              "  <div class=\"colab-df-container\">\n",
              "    <button class=\"colab-df-convert\" onclick=\"convertToInteractive('df-736518aa-029a-47ac-bd7c-8ebcc7948d2a')\"\n",
              "            title=\"Convert this dataframe to an interactive table.\"\n",
              "            style=\"display:none;\">\n",
              "\n",
              "  <svg xmlns=\"http://www.w3.org/2000/svg\" height=\"24px\" viewBox=\"0 -960 960 960\">\n",
              "    <path d=\"M120-120v-720h720v720H120Zm60-500h600v-160H180v160Zm220 220h160v-160H400v160Zm0 220h160v-160H400v160ZM180-400h160v-160H180v160Zm440 0h160v-160H620v160ZM180-180h160v-160H180v160Zm440 0h160v-160H620v160Z\"/>\n",
              "  </svg>\n",
              "    </button>\n",
              "\n",
              "  <style>\n",
              "    .colab-df-container {\n",
              "      display:flex;\n",
              "      gap: 12px;\n",
              "    }\n",
              "\n",
              "    .colab-df-convert {\n",
              "      background-color: #E8F0FE;\n",
              "      border: none;\n",
              "      border-radius: 50%;\n",
              "      cursor: pointer;\n",
              "      display: none;\n",
              "      fill: #1967D2;\n",
              "      height: 32px;\n",
              "      padding: 0 0 0 0;\n",
              "      width: 32px;\n",
              "    }\n",
              "\n",
              "    .colab-df-convert:hover {\n",
              "      background-color: #E2EBFA;\n",
              "      box-shadow: 0px 1px 2px rgba(60, 64, 67, 0.3), 0px 1px 3px 1px rgba(60, 64, 67, 0.15);\n",
              "      fill: #174EA6;\n",
              "    }\n",
              "\n",
              "    .colab-df-buttons div {\n",
              "      margin-bottom: 4px;\n",
              "    }\n",
              "\n",
              "    [theme=dark] .colab-df-convert {\n",
              "      background-color: #3B4455;\n",
              "      fill: #D2E3FC;\n",
              "    }\n",
              "\n",
              "    [theme=dark] .colab-df-convert:hover {\n",
              "      background-color: #434B5C;\n",
              "      box-shadow: 0px 1px 3px 1px rgba(0, 0, 0, 0.15);\n",
              "      filter: drop-shadow(0px 1px 2px rgba(0, 0, 0, 0.3));\n",
              "      fill: #FFFFFF;\n",
              "    }\n",
              "  </style>\n",
              "\n",
              "    <script>\n",
              "      const buttonEl =\n",
              "        document.querySelector('#df-736518aa-029a-47ac-bd7c-8ebcc7948d2a button.colab-df-convert');\n",
              "      buttonEl.style.display =\n",
              "        google.colab.kernel.accessAllowed ? 'block' : 'none';\n",
              "\n",
              "      async function convertToInteractive(key) {\n",
              "        const element = document.querySelector('#df-736518aa-029a-47ac-bd7c-8ebcc7948d2a');\n",
              "        const dataTable =\n",
              "          await google.colab.kernel.invokeFunction('convertToInteractive',\n",
              "                                                    [key], {});\n",
              "        if (!dataTable) return;\n",
              "\n",
              "        const docLinkHtml = 'Like what you see? Visit the ' +\n",
              "          '<a target=\"_blank\" href=https://colab.research.google.com/notebooks/data_table.ipynb>data table notebook</a>'\n",
              "          + ' to learn more about interactive tables.';\n",
              "        element.innerHTML = '';\n",
              "        dataTable['output_type'] = 'display_data';\n",
              "        await google.colab.output.renderOutput(dataTable, element);\n",
              "        const docLink = document.createElement('div');\n",
              "        docLink.innerHTML = docLinkHtml;\n",
              "        element.appendChild(docLink);\n",
              "      }\n",
              "    </script>\n",
              "  </div>\n",
              "\n",
              "\n",
              "<div id=\"df-80d270dd-2257-43bc-8dcd-5e1384d93da7\">\n",
              "  <button class=\"colab-df-quickchart\" onclick=\"quickchart('df-80d270dd-2257-43bc-8dcd-5e1384d93da7')\"\n",
              "            title=\"Suggest charts\"\n",
              "            style=\"display:none;\">\n",
              "\n",
              "<svg xmlns=\"http://www.w3.org/2000/svg\" height=\"24px\"viewBox=\"0 0 24 24\"\n",
              "     width=\"24px\">\n",
              "    <g>\n",
              "        <path d=\"M19 3H5c-1.1 0-2 .9-2 2v14c0 1.1.9 2 2 2h14c1.1 0 2-.9 2-2V5c0-1.1-.9-2-2-2zM9 17H7v-7h2v7zm4 0h-2V7h2v10zm4 0h-2v-4h2v4z\"/>\n",
              "    </g>\n",
              "</svg>\n",
              "  </button>\n",
              "\n",
              "<style>\n",
              "  .colab-df-quickchart {\n",
              "      --bg-color: #E8F0FE;\n",
              "      --fill-color: #1967D2;\n",
              "      --hover-bg-color: #E2EBFA;\n",
              "      --hover-fill-color: #174EA6;\n",
              "      --disabled-fill-color: #AAA;\n",
              "      --disabled-bg-color: #DDD;\n",
              "  }\n",
              "\n",
              "  [theme=dark] .colab-df-quickchart {\n",
              "      --bg-color: #3B4455;\n",
              "      --fill-color: #D2E3FC;\n",
              "      --hover-bg-color: #434B5C;\n",
              "      --hover-fill-color: #FFFFFF;\n",
              "      --disabled-bg-color: #3B4455;\n",
              "      --disabled-fill-color: #666;\n",
              "  }\n",
              "\n",
              "  .colab-df-quickchart {\n",
              "    background-color: var(--bg-color);\n",
              "    border: none;\n",
              "    border-radius: 50%;\n",
              "    cursor: pointer;\n",
              "    display: none;\n",
              "    fill: var(--fill-color);\n",
              "    height: 32px;\n",
              "    padding: 0;\n",
              "    width: 32px;\n",
              "  }\n",
              "\n",
              "  .colab-df-quickchart:hover {\n",
              "    background-color: var(--hover-bg-color);\n",
              "    box-shadow: 0 1px 2px rgba(60, 64, 67, 0.3), 0 1px 3px 1px rgba(60, 64, 67, 0.15);\n",
              "    fill: var(--button-hover-fill-color);\n",
              "  }\n",
              "\n",
              "  .colab-df-quickchart-complete:disabled,\n",
              "  .colab-df-quickchart-complete:disabled:hover {\n",
              "    background-color: var(--disabled-bg-color);\n",
              "    fill: var(--disabled-fill-color);\n",
              "    box-shadow: none;\n",
              "  }\n",
              "\n",
              "  .colab-df-spinner {\n",
              "    border: 2px solid var(--fill-color);\n",
              "    border-color: transparent;\n",
              "    border-bottom-color: var(--fill-color);\n",
              "    animation:\n",
              "      spin 1s steps(1) infinite;\n",
              "  }\n",
              "\n",
              "  @keyframes spin {\n",
              "    0% {\n",
              "      border-color: transparent;\n",
              "      border-bottom-color: var(--fill-color);\n",
              "      border-left-color: var(--fill-color);\n",
              "    }\n",
              "    20% {\n",
              "      border-color: transparent;\n",
              "      border-left-color: var(--fill-color);\n",
              "      border-top-color: var(--fill-color);\n",
              "    }\n",
              "    30% {\n",
              "      border-color: transparent;\n",
              "      border-left-color: var(--fill-color);\n",
              "      border-top-color: var(--fill-color);\n",
              "      border-right-color: var(--fill-color);\n",
              "    }\n",
              "    40% {\n",
              "      border-color: transparent;\n",
              "      border-right-color: var(--fill-color);\n",
              "      border-top-color: var(--fill-color);\n",
              "    }\n",
              "    60% {\n",
              "      border-color: transparent;\n",
              "      border-right-color: var(--fill-color);\n",
              "    }\n",
              "    80% {\n",
              "      border-color: transparent;\n",
              "      border-right-color: var(--fill-color);\n",
              "      border-bottom-color: var(--fill-color);\n",
              "    }\n",
              "    90% {\n",
              "      border-color: transparent;\n",
              "      border-bottom-color: var(--fill-color);\n",
              "    }\n",
              "  }\n",
              "</style>\n",
              "\n",
              "  <script>\n",
              "    async function quickchart(key) {\n",
              "      const quickchartButtonEl =\n",
              "        document.querySelector('#' + key + ' button');\n",
              "      quickchartButtonEl.disabled = true;  // To prevent multiple clicks.\n",
              "      quickchartButtonEl.classList.add('colab-df-spinner');\n",
              "      try {\n",
              "        const charts = await google.colab.kernel.invokeFunction(\n",
              "            'suggestCharts', [key], {});\n",
              "      } catch (error) {\n",
              "        console.error('Error during call to suggestCharts:', error);\n",
              "      }\n",
              "      quickchartButtonEl.classList.remove('colab-df-spinner');\n",
              "      quickchartButtonEl.classList.add('colab-df-quickchart-complete');\n",
              "    }\n",
              "    (() => {\n",
              "      let quickchartButtonEl =\n",
              "        document.querySelector('#df-80d270dd-2257-43bc-8dcd-5e1384d93da7 button');\n",
              "      quickchartButtonEl.style.display =\n",
              "        google.colab.kernel.accessAllowed ? 'block' : 'none';\n",
              "    })();\n",
              "  </script>\n",
              "</div>\n",
              "\n",
              "    </div>\n",
              "  </div>\n"
            ],
            "application/vnd.google.colaboratory.intrinsic+json": {
              "type": "dataframe",
              "variable_name": "titanic",
              "summary": "{\n  \"name\": \"titanic\",\n  \"rows\": 891,\n  \"fields\": [\n    {\n      \"column\": \"PassengerId\",\n      \"properties\": {\n        \"dtype\": \"number\",\n        \"std\": 257,\n        \"min\": 1,\n        \"max\": 891,\n        \"num_unique_values\": 891,\n        \"samples\": [\n          710,\n          440,\n          841\n        ],\n        \"semantic_type\": \"\",\n        \"description\": \"\"\n      }\n    },\n    {\n      \"column\": \"Survived\",\n      \"properties\": {\n        \"dtype\": \"number\",\n        \"std\": 0,\n        \"min\": 0,\n        \"max\": 1,\n        \"num_unique_values\": 2,\n        \"samples\": [\n          1,\n          0\n        ],\n        \"semantic_type\": \"\",\n        \"description\": \"\"\n      }\n    },\n    {\n      \"column\": \"Pclass\",\n      \"properties\": {\n        \"dtype\": \"number\",\n        \"std\": 0,\n        \"min\": 1,\n        \"max\": 3,\n        \"num_unique_values\": 3,\n        \"samples\": [\n          3,\n          1\n        ],\n        \"semantic_type\": \"\",\n        \"description\": \"\"\n      }\n    },\n    {\n      \"column\": \"Name\",\n      \"properties\": {\n        \"dtype\": \"string\",\n        \"num_unique_values\": 891,\n        \"samples\": [\n          \"Moubarek, Master. Halim Gonios (\\\"William George\\\")\",\n          \"Kvillner, Mr. Johan Henrik Johannesson\"\n        ],\n        \"semantic_type\": \"\",\n        \"description\": \"\"\n      }\n    },\n    {\n      \"column\": \"Sex\",\n      \"properties\": {\n        \"dtype\": \"category\",\n        \"num_unique_values\": 2,\n        \"samples\": [\n          \"female\",\n          \"male\"\n        ],\n        \"semantic_type\": \"\",\n        \"description\": \"\"\n      }\n    },\n    {\n      \"column\": \"Age\",\n      \"properties\": {\n        \"dtype\": \"number\",\n        \"std\": 14.526497332334044,\n        \"min\": 0.42,\n        \"max\": 80.0,\n        \"num_unique_values\": 88,\n        \"samples\": [\n          0.75,\n          22.0\n        ],\n        \"semantic_type\": \"\",\n        \"description\": \"\"\n      }\n    },\n    {\n      \"column\": \"SibSp\",\n      \"properties\": {\n        \"dtype\": \"number\",\n        \"std\": 1,\n        \"min\": 0,\n        \"max\": 8,\n        \"num_unique_values\": 7,\n        \"samples\": [\n          1,\n          0\n        ],\n        \"semantic_type\": \"\",\n        \"description\": \"\"\n      }\n    },\n    {\n      \"column\": \"Parch\",\n      \"properties\": {\n        \"dtype\": \"number\",\n        \"std\": 0,\n        \"min\": 0,\n        \"max\": 6,\n        \"num_unique_values\": 7,\n        \"samples\": [\n          0,\n          1\n        ],\n        \"semantic_type\": \"\",\n        \"description\": \"\"\n      }\n    },\n    {\n      \"column\": \"Ticket\",\n      \"properties\": {\n        \"dtype\": \"string\",\n        \"num_unique_values\": 681,\n        \"samples\": [\n          \"11774\",\n          \"248740\"\n        ],\n        \"semantic_type\": \"\",\n        \"description\": \"\"\n      }\n    },\n    {\n      \"column\": \"Fare\",\n      \"properties\": {\n        \"dtype\": \"number\",\n        \"std\": 49.693428597180905,\n        \"min\": 0.0,\n        \"max\": 512.3292,\n        \"num_unique_values\": 248,\n        \"samples\": [\n          11.2417,\n          51.8625\n        ],\n        \"semantic_type\": \"\",\n        \"description\": \"\"\n      }\n    },\n    {\n      \"column\": \"Cabin\",\n      \"properties\": {\n        \"dtype\": \"category\",\n        \"num_unique_values\": 147,\n        \"samples\": [\n          \"D45\",\n          \"B49\"\n        ],\n        \"semantic_type\": \"\",\n        \"description\": \"\"\n      }\n    },\n    {\n      \"column\": \"Embarked\",\n      \"properties\": {\n        \"dtype\": \"category\",\n        \"num_unique_values\": 3,\n        \"samples\": [\n          \"S\",\n          \"C\"\n        ],\n        \"semantic_type\": \"\",\n        \"description\": \"\"\n      }\n    }\n  ]\n}"
            }
          },
          "metadata": {},
          "execution_count": 47
        }
      ]
    },
    {
      "cell_type": "code",
      "source": [
        "dogs = pd.read_csv('dogs_dataset.csv')\n",
        "\n",
        "dogs.head(3)"
      ],
      "metadata": {
        "id": "O4BOvM1rJPQG",
        "colab": {
          "base_uri": "https://localhost:8080/",
          "height": 143
        },
        "outputId": "1ebb5134-c38d-4f10-ac41-3f01547fa114"
      },
      "execution_count": 50,
      "outputs": [
        {
          "output_type": "execute_result",
          "data": {
            "text/plain": [
              "                  Breed  Age (Years)  Weight (kg)    Color  Gender\n",
              "0      Airedale Terrier           13           35    White    Male\n",
              "1  Jack Russell Terrier           10           43      Tan  Female\n",
              "2        Dogo Argentino            2           16  Spotted  Female"
            ],
            "text/html": [
              "\n",
              "  <div id=\"df-a5ca070e-b5d7-4665-9503-be2eb8f9911d\" class=\"colab-df-container\">\n",
              "    <div>\n",
              "<style scoped>\n",
              "    .dataframe tbody tr th:only-of-type {\n",
              "        vertical-align: middle;\n",
              "    }\n",
              "\n",
              "    .dataframe tbody tr th {\n",
              "        vertical-align: top;\n",
              "    }\n",
              "\n",
              "    .dataframe thead th {\n",
              "        text-align: right;\n",
              "    }\n",
              "</style>\n",
              "<table border=\"1\" class=\"dataframe\">\n",
              "  <thead>\n",
              "    <tr style=\"text-align: right;\">\n",
              "      <th></th>\n",
              "      <th>Breed</th>\n",
              "      <th>Age (Years)</th>\n",
              "      <th>Weight (kg)</th>\n",
              "      <th>Color</th>\n",
              "      <th>Gender</th>\n",
              "    </tr>\n",
              "  </thead>\n",
              "  <tbody>\n",
              "    <tr>\n",
              "      <th>0</th>\n",
              "      <td>Airedale Terrier</td>\n",
              "      <td>13</td>\n",
              "      <td>35</td>\n",
              "      <td>White</td>\n",
              "      <td>Male</td>\n",
              "    </tr>\n",
              "    <tr>\n",
              "      <th>1</th>\n",
              "      <td>Jack Russell Terrier</td>\n",
              "      <td>10</td>\n",
              "      <td>43</td>\n",
              "      <td>Tan</td>\n",
              "      <td>Female</td>\n",
              "    </tr>\n",
              "    <tr>\n",
              "      <th>2</th>\n",
              "      <td>Dogo Argentino</td>\n",
              "      <td>2</td>\n",
              "      <td>16</td>\n",
              "      <td>Spotted</td>\n",
              "      <td>Female</td>\n",
              "    </tr>\n",
              "  </tbody>\n",
              "</table>\n",
              "</div>\n",
              "    <div class=\"colab-df-buttons\">\n",
              "\n",
              "  <div class=\"colab-df-container\">\n",
              "    <button class=\"colab-df-convert\" onclick=\"convertToInteractive('df-a5ca070e-b5d7-4665-9503-be2eb8f9911d')\"\n",
              "            title=\"Convert this dataframe to an interactive table.\"\n",
              "            style=\"display:none;\">\n",
              "\n",
              "  <svg xmlns=\"http://www.w3.org/2000/svg\" height=\"24px\" viewBox=\"0 -960 960 960\">\n",
              "    <path d=\"M120-120v-720h720v720H120Zm60-500h600v-160H180v160Zm220 220h160v-160H400v160Zm0 220h160v-160H400v160ZM180-400h160v-160H180v160Zm440 0h160v-160H620v160ZM180-180h160v-160H180v160Zm440 0h160v-160H620v160Z\"/>\n",
              "  </svg>\n",
              "    </button>\n",
              "\n",
              "  <style>\n",
              "    .colab-df-container {\n",
              "      display:flex;\n",
              "      gap: 12px;\n",
              "    }\n",
              "\n",
              "    .colab-df-convert {\n",
              "      background-color: #E8F0FE;\n",
              "      border: none;\n",
              "      border-radius: 50%;\n",
              "      cursor: pointer;\n",
              "      display: none;\n",
              "      fill: #1967D2;\n",
              "      height: 32px;\n",
              "      padding: 0 0 0 0;\n",
              "      width: 32px;\n",
              "    }\n",
              "\n",
              "    .colab-df-convert:hover {\n",
              "      background-color: #E2EBFA;\n",
              "      box-shadow: 0px 1px 2px rgba(60, 64, 67, 0.3), 0px 1px 3px 1px rgba(60, 64, 67, 0.15);\n",
              "      fill: #174EA6;\n",
              "    }\n",
              "\n",
              "    .colab-df-buttons div {\n",
              "      margin-bottom: 4px;\n",
              "    }\n",
              "\n",
              "    [theme=dark] .colab-df-convert {\n",
              "      background-color: #3B4455;\n",
              "      fill: #D2E3FC;\n",
              "    }\n",
              "\n",
              "    [theme=dark] .colab-df-convert:hover {\n",
              "      background-color: #434B5C;\n",
              "      box-shadow: 0px 1px 3px 1px rgba(0, 0, 0, 0.15);\n",
              "      filter: drop-shadow(0px 1px 2px rgba(0, 0, 0, 0.3));\n",
              "      fill: #FFFFFF;\n",
              "    }\n",
              "  </style>\n",
              "\n",
              "    <script>\n",
              "      const buttonEl =\n",
              "        document.querySelector('#df-a5ca070e-b5d7-4665-9503-be2eb8f9911d button.colab-df-convert');\n",
              "      buttonEl.style.display =\n",
              "        google.colab.kernel.accessAllowed ? 'block' : 'none';\n",
              "\n",
              "      async function convertToInteractive(key) {\n",
              "        const element = document.querySelector('#df-a5ca070e-b5d7-4665-9503-be2eb8f9911d');\n",
              "        const dataTable =\n",
              "          await google.colab.kernel.invokeFunction('convertToInteractive',\n",
              "                                                    [key], {});\n",
              "        if (!dataTable) return;\n",
              "\n",
              "        const docLinkHtml = 'Like what you see? Visit the ' +\n",
              "          '<a target=\"_blank\" href=https://colab.research.google.com/notebooks/data_table.ipynb>data table notebook</a>'\n",
              "          + ' to learn more about interactive tables.';\n",
              "        element.innerHTML = '';\n",
              "        dataTable['output_type'] = 'display_data';\n",
              "        await google.colab.output.renderOutput(dataTable, element);\n",
              "        const docLink = document.createElement('div');\n",
              "        docLink.innerHTML = docLinkHtml;\n",
              "        element.appendChild(docLink);\n",
              "      }\n",
              "    </script>\n",
              "  </div>\n",
              "\n",
              "\n",
              "<div id=\"df-65600382-2f6f-496e-a13a-57886913ca88\">\n",
              "  <button class=\"colab-df-quickchart\" onclick=\"quickchart('df-65600382-2f6f-496e-a13a-57886913ca88')\"\n",
              "            title=\"Suggest charts\"\n",
              "            style=\"display:none;\">\n",
              "\n",
              "<svg xmlns=\"http://www.w3.org/2000/svg\" height=\"24px\"viewBox=\"0 0 24 24\"\n",
              "     width=\"24px\">\n",
              "    <g>\n",
              "        <path d=\"M19 3H5c-1.1 0-2 .9-2 2v14c0 1.1.9 2 2 2h14c1.1 0 2-.9 2-2V5c0-1.1-.9-2-2-2zM9 17H7v-7h2v7zm4 0h-2V7h2v10zm4 0h-2v-4h2v4z\"/>\n",
              "    </g>\n",
              "</svg>\n",
              "  </button>\n",
              "\n",
              "<style>\n",
              "  .colab-df-quickchart {\n",
              "      --bg-color: #E8F0FE;\n",
              "      --fill-color: #1967D2;\n",
              "      --hover-bg-color: #E2EBFA;\n",
              "      --hover-fill-color: #174EA6;\n",
              "      --disabled-fill-color: #AAA;\n",
              "      --disabled-bg-color: #DDD;\n",
              "  }\n",
              "\n",
              "  [theme=dark] .colab-df-quickchart {\n",
              "      --bg-color: #3B4455;\n",
              "      --fill-color: #D2E3FC;\n",
              "      --hover-bg-color: #434B5C;\n",
              "      --hover-fill-color: #FFFFFF;\n",
              "      --disabled-bg-color: #3B4455;\n",
              "      --disabled-fill-color: #666;\n",
              "  }\n",
              "\n",
              "  .colab-df-quickchart {\n",
              "    background-color: var(--bg-color);\n",
              "    border: none;\n",
              "    border-radius: 50%;\n",
              "    cursor: pointer;\n",
              "    display: none;\n",
              "    fill: var(--fill-color);\n",
              "    height: 32px;\n",
              "    padding: 0;\n",
              "    width: 32px;\n",
              "  }\n",
              "\n",
              "  .colab-df-quickchart:hover {\n",
              "    background-color: var(--hover-bg-color);\n",
              "    box-shadow: 0 1px 2px rgba(60, 64, 67, 0.3), 0 1px 3px 1px rgba(60, 64, 67, 0.15);\n",
              "    fill: var(--button-hover-fill-color);\n",
              "  }\n",
              "\n",
              "  .colab-df-quickchart-complete:disabled,\n",
              "  .colab-df-quickchart-complete:disabled:hover {\n",
              "    background-color: var(--disabled-bg-color);\n",
              "    fill: var(--disabled-fill-color);\n",
              "    box-shadow: none;\n",
              "  }\n",
              "\n",
              "  .colab-df-spinner {\n",
              "    border: 2px solid var(--fill-color);\n",
              "    border-color: transparent;\n",
              "    border-bottom-color: var(--fill-color);\n",
              "    animation:\n",
              "      spin 1s steps(1) infinite;\n",
              "  }\n",
              "\n",
              "  @keyframes spin {\n",
              "    0% {\n",
              "      border-color: transparent;\n",
              "      border-bottom-color: var(--fill-color);\n",
              "      border-left-color: var(--fill-color);\n",
              "    }\n",
              "    20% {\n",
              "      border-color: transparent;\n",
              "      border-left-color: var(--fill-color);\n",
              "      border-top-color: var(--fill-color);\n",
              "    }\n",
              "    30% {\n",
              "      border-color: transparent;\n",
              "      border-left-color: var(--fill-color);\n",
              "      border-top-color: var(--fill-color);\n",
              "      border-right-color: var(--fill-color);\n",
              "    }\n",
              "    40% {\n",
              "      border-color: transparent;\n",
              "      border-right-color: var(--fill-color);\n",
              "      border-top-color: var(--fill-color);\n",
              "    }\n",
              "    60% {\n",
              "      border-color: transparent;\n",
              "      border-right-color: var(--fill-color);\n",
              "    }\n",
              "    80% {\n",
              "      border-color: transparent;\n",
              "      border-right-color: var(--fill-color);\n",
              "      border-bottom-color: var(--fill-color);\n",
              "    }\n",
              "    90% {\n",
              "      border-color: transparent;\n",
              "      border-bottom-color: var(--fill-color);\n",
              "    }\n",
              "  }\n",
              "</style>\n",
              "\n",
              "  <script>\n",
              "    async function quickchart(key) {\n",
              "      const quickchartButtonEl =\n",
              "        document.querySelector('#' + key + ' button');\n",
              "      quickchartButtonEl.disabled = true;  // To prevent multiple clicks.\n",
              "      quickchartButtonEl.classList.add('colab-df-spinner');\n",
              "      try {\n",
              "        const charts = await google.colab.kernel.invokeFunction(\n",
              "            'suggestCharts', [key], {});\n",
              "      } catch (error) {\n",
              "        console.error('Error during call to suggestCharts:', error);\n",
              "      }\n",
              "      quickchartButtonEl.classList.remove('colab-df-spinner');\n",
              "      quickchartButtonEl.classList.add('colab-df-quickchart-complete');\n",
              "    }\n",
              "    (() => {\n",
              "      let quickchartButtonEl =\n",
              "        document.querySelector('#df-65600382-2f6f-496e-a13a-57886913ca88 button');\n",
              "      quickchartButtonEl.style.display =\n",
              "        google.colab.kernel.accessAllowed ? 'block' : 'none';\n",
              "    })();\n",
              "  </script>\n",
              "</div>\n",
              "\n",
              "    </div>\n",
              "  </div>\n"
            ],
            "application/vnd.google.colaboratory.intrinsic+json": {
              "type": "dataframe",
              "variable_name": "dogs",
              "summary": "{\n  \"name\": \"dogs\",\n  \"rows\": 3000,\n  \"fields\": [\n    {\n      \"column\": \"Breed\",\n      \"properties\": {\n        \"dtype\": \"category\",\n        \"num_unique_values\": 53,\n        \"samples\": [\n          \"Vizsla\",\n          \"Bulldog\",\n          \"Alaskan Malamute\"\n        ],\n        \"semantic_type\": \"\",\n        \"description\": \"\"\n      }\n    },\n    {\n      \"column\": \"Age (Years)\",\n      \"properties\": {\n        \"dtype\": \"number\",\n        \"std\": 4,\n        \"min\": 1,\n        \"max\": 14,\n        \"num_unique_values\": 14,\n        \"samples\": [\n          6,\n          8,\n          13\n        ],\n        \"semantic_type\": \"\",\n        \"description\": \"\"\n      }\n    },\n    {\n      \"column\": \"Weight (kg)\",\n      \"properties\": {\n        \"dtype\": \"number\",\n        \"std\": 15,\n        \"min\": 5,\n        \"max\": 59,\n        \"num_unique_values\": 55,\n        \"samples\": [\n          25,\n          8,\n          10\n        ],\n        \"semantic_type\": \"\",\n        \"description\": \"\"\n      }\n    },\n    {\n      \"column\": \"Color\",\n      \"properties\": {\n        \"dtype\": \"category\",\n        \"num_unique_values\": 16,\n        \"samples\": [\n          \"White\",\n          \"Tan\",\n          \"Red\"\n        ],\n        \"semantic_type\": \"\",\n        \"description\": \"\"\n      }\n    },\n    {\n      \"column\": \"Gender\",\n      \"properties\": {\n        \"dtype\": \"category\",\n        \"num_unique_values\": 2,\n        \"samples\": [\n          \"Female\",\n          \"Male\"\n        ],\n        \"semantic_type\": \"\",\n        \"description\": \"\"\n      }\n    }\n  ]\n}"
            }
          },
          "metadata": {},
          "execution_count": 50
        }
      ]
    },
    {
      "source": [
        "# @title Age (Years)\n",
        "\n",
        "from matplotlib import pyplot as plt\n",
        "dogs['Age (Years)'].plot(kind='hist', bins=20, title='Age (Years)')\n",
        "plt.gca().spines[['top', 'right',]].set_visible(False)"
      ],
      "cell_type": "code",
      "execution_count": 51,
      "outputs": [
        {
          "output_type": "display_data",
          "data": {
            "text/plain": [
              "<Figure size 640x480 with 1 Axes>"
            ],
            "image/png": "[encoded data removed]"
          },
          "metadata": {}
        }
      ],
      "metadata": {
        "cellView": "form",
        "colab": {
          "base_uri": "https://localhost:8080/",
          "height": 452
        },
        "id": "n8r5BLmwKkhj",
        "outputId": "7213d90b-50ef-485e-e877-ab4ae0844ce2"
      }
    },
    {
      "cell_type": "code",
      "source": [
        "!wget https://raw.githubusercontent.com/vifirsanova/hse-python-course/main/extracurricular/corpus.json"
      ],
      "metadata": {
        "colab": {
          "base_uri": "https://localhost:8080/"
        },
        "id": "N6tlhaNPKRef",
        "outputId": "c8641228-e99e-4993-f9ab-af41ca45efa9"
      },
      "execution_count": 52,
      "outputs": [
        {
          "output_type": "stream",
          "name": "stdout",
          "text": [
            "--2024-12-18 19:07:45--  https://raw.githubusercontent.com/vifirsanova/hse-python-course/main/extracurricular/corpus.json\n",
            "Resolving raw.githubusercontent.com (raw.githubusercontent.com)... 185.199.108.133, 185.199.109.133, 185.199.110.133, ...\n",
            "Connecting to raw.githubusercontent.com (raw.githubusercontent.com)|185.199.108.133|:443... connected.\n",
            "HTTP request sent, awaiting response... 200 OK\n",
            "Length: 263190 (257K) [text/plain]\n",
            "Saving to: ‘corpus.json.1’\n",
            "\n",
            "\rcorpus.json.1         0%[                    ]       0  --.-KB/s               \rcorpus.json.1       100%[===================>] 257.02K  --.-KB/s    in 0.006s  \n",
            "\n",
            "2024-12-18 19:07:45 (42.0 MB/s) - ‘corpus.json.1’ saved [263190/263190]\n",
            "\n"
          ]
        }
      ]
    },
    {
      "cell_type": "code",
      "source": [
        "import json\n",
        "\n",
        "with open(\"corpus.json\", \"r\", encoding=\"utf8\") as f:\n",
        "   data = json.load(f)"
      ],
      "metadata": {
        "id": "zKgeJREgK0Fn"
      },
      "execution_count": 53,
      "outputs": []
    },
    {
      "cell_type": "code",
      "source": [
        "from pprint import pprint\n",
        "\n",
        "pprint(data[0][0])"
      ],
      "metadata": {
        "colab": {
          "base_uri": "https://localhost:8080/"
        },
        "id": "yVkojESWK3Xn",
        "outputId": "7ed0c0b0-2272-4292-d049-1f763729ad51"
      },
      "execution_count": 71,
      "outputs": [
        {
          "output_type": "stream",
          "name": "stdout",
          "text": [
            "{'body': 'Причиной раздавшегося звука взрыва в Туле, напугавшего местных '\n",
            "         'жителей, стал переход самолета на сверхзвуковую скорость, об этом '\n",
            "         'сообщили в ГУ МЧС по Тульской области, передает РИА Новости. Ранее '\n",
            "         'ряд пабликов сообщил о звуках взрыва в российском городе. Как '\n",
            "         'отмечает Telegram-канал Mash, горожане услышали его около 21:42 в '\n",
            "         'Пролетарском районе, а в 21:37 в районе Заречье пропал свет из-за '\n",
            "         'аварии на подстанции. «Хлопки, которые слышали жители Пролетарского '\n",
            "         'округа города Тулы, предположительно, явились следствием перехода '\n",
            "         'самолета на сверхзвуковую скорость», — пояснили в МЧС. В ведомстве '\n",
            "         'также рассказали, что электроснабжение в Зареченском районе города '\n",
            "         'восстановлено, причиной стала техническая неисправность, авария '\n",
            "         'ликвидирована. Ранее в единой диспетчерской службе (ЕДДС) Тулы '\n",
            "         'сообщили, что в Зареченском районе почти пять тысяч человек остались '\n",
            "         'без света из-за аварийного отключения электроэнергии. Электричество '\n",
            "         'отключилось на улицах Заварная, Карпова, Максима Горького. Без света '\n",
            "         'остались 4832 жителя, в том числе 471 ребенок.',\n",
            " 'description': 'Причиной раздавшегося звука взрыва в Туле, напугавшего '\n",
            "                'местных жителей, стал переход самолета на сверхзвуковую '\n",
            "                'скорость, об этом сообщили в ГУ МЧС по Тульской области. '\n",
            "                'Ранее ряд Telegram-каналов сообщили о звуках взрыва в '\n",
            "                'российском городе и об отключении света. Электроснабжение '\n",
            "                'восстановлено, уточнили в ведомстве.',\n",
            " 'headline': 'Жителям российского города объяснили напугавший их звук взрыва'}\n"
          ]
        }
      ]
    },
    {
      "cell_type": "code",
      "source": [
        "for elem in data:\n",
        "  headlines = elem[5]\n",
        "  print(headlines)"
      ],
      "metadata": {
        "colab": {
          "base_uri": "https://localhost:8080/"
        },
        "id": "w-5evwIKLoB4",
        "outputId": "9b52ae3d-f1d2-4d67-8194-258369bcd063"
      },
      "execution_count": 78,
      "outputs": [
        {
          "output_type": "stream",
          "name": "stdout",
          "text": [
            "{'headline': 'Суд на Украине отказался арестовать активы олигарха Коломойского', 'description': 'Судья Высшего антикоррупционного суда (ВАКС) Украины Олег Ткаченко отказался рассмотреть ходатайство Национального антикоррупционного бюро Украины с просьбой арестовать активы олигарха Игоря Коломойского, об этом сообщил «Центр противодействия коррупции». Арест нужен для конфискации в случае обвинительного приговора.', 'body': 'Судья Высшего антикоррупционного суда (ВАКС) Украины Олег Ткаченко отказался рассмотреть ходатайство Национального антикоррупционного бюро Украины (НАБУ) с просьбой арестовать активы олигарха Игоря Коломойского, об этом в Telegram-канале сообщил «Центр противодействия коррупции». Речь идет о долях в уставном капитале 307 юридических лиц на сумму более 81,2 миллиона долларов, почти тысячи объектов недвижимости, более 1,6 тысячи транспортных средств и судов. В «Центре противодействия коррупции» пояснили, что арест был необходим для конфискации этого имущества в случае обвинительного приговора Коломойскому. Там отметили, что на основании постановления НАБУ на активы был наложен арест на 48 часов, в дальнейшем его должен продлить следственный судья ВАКС. Ходатайство было на рассмотрении у Олега Ткаченко более десяти дней вместо положенных 48 часов, после чего он закрыл дело без рассмотрения. Ранее сообщалось, что Коломойскому предъявили новые обвинения. Его подозревают в организации подделки документов на перевод средств, организации завладения чужим имуществом организованной группой в особо крупных размерах, в приобретении и распоряжении имуществом, полученным преступным путем. '}\n",
            "{'headline': 'В Госдуме сочли невозможным удержать низкие цены на бензин', 'description': 'Председатель комитета Госдумы по энергетике Павел Завальный заявил, что невозможно удерживать низкие цены на бензин.  субсидируя внутренний рынок за счет внешнего. Выходом из ситуации парламентарий видит увеличение таможенных пошлин и с учетом их увеличения пересмотр параметров демпфера.', 'body': 'Председатель комитета Госдумы по энергетике Павел Завальный заявил, что невозможно удерживать низкие цены на бензин.  субсидируя внутренний рынок за счет внешнего. Об этом сообщает «Интерфакс». Выходом из ситуации парламентарий видит увеличение таможенных пошлин и с учетом их увеличения пересмотр параметров демпфера. «Понятно, что введенный запрет экспорта нефтепродуктов не может быть долго - на неделю-две, максимум на месяц, иначе можем загнать переработку в убытки и остановятся нефтеперерабатывающие заводы (НПЗ)», — сказал он. 21 сентября правительство России объявило о введении временных ограничений на экспорт топлива для стабилизации внутреннего рынка. Речь идет о запрете вывоза из страны бензинов товарных групп и дизтоплива, в том числе приобретенного на биржевых торгах, за некоторыми исключениями, которые имеют незначительную долю в общем экспорте. После этого в правительстве указали, что в России отсутствует дефицит топлива как в оптовом, так и розничном сегментах. В кабмине заверили, что на НПЗ, нефтебазах и в резервуарах накоплены достаточные запасы.'}\n",
            "{'headline': 'Путин сообщил о независимой работе ЦИК', 'description': 'Центральная избирательная комиссия (ЦИК) независима в своей работе, заявил президент России Владимир Путин. «Начальников над вами нет, все решения вы принимаете самостоятельно, публично и коллегиально, подчиняетесь только законам», — подчеркнул он в видеообращении, посвященном 30-летию образования ЦИК.', 'body': 'Центральная избирательная комиссия (ЦИК) независима в своей работе. Об этом сообщил президент России Владимир Путин в видеообращении, посвященном 30-летию образования ЦИК. «Вы независимые в своей работе, начальников над вами нет, все решения вы принимаете самостоятельно, публично и коллегиально», — сказал он. Российский лидер подчеркнул, что ЦИК подчиняется только законам и действует на принципах открытости, гласности и высочайшей ответственности. Он также поблагодарил ЦИК за четкую организацию выборов. По его словам, сотрудники и руководство комиссии делают все, чтобы выборы проходили честно и при строгом соблюдении закона. Кроме того, Владимир Путин заявил, что российская избирательная система по праву считается одной из лучших в мире. Он добавил, что система базируется на понятных гражданам и прозрачных процедурах. Ранее глава ЦИК Элла Памфилова сообщила, что организация наблюдения за выборами в Москве — эталон, не имеющий аналогов в мире.'}\n"
          ]
        }
      ]
    },
    {
      "cell_type": "code",
      "source": [
        "print(len(data[0]))"
      ],
      "metadata": {
        "colab": {
          "base_uri": "https://localhost:8080/"
        },
        "id": "RJAaHWVDOne9",
        "outputId": "ceba7f8c-9ded-4797-afee-a1b3fbfc217f"
      },
      "execution_count": 79,
      "outputs": [
        {
          "output_type": "stream",
          "name": "stdout",
          "text": [
            "30\n"
          ]
        }
      ]
    },
    {
      "cell_type": "code",
      "source": [],
      "metadata": {
        "id": "zpIRtS5NVC73"
      },
      "execution_count": null,
      "outputs": []
    },
    {
      "cell_type": "code",
      "source": [
        "with open(\"Corona2.json\", \"r\", encoding=\"utf8\") as f:\n",
        "   data = json.load(f)"
      ],
      "metadata": {
        "id": "YmgTlul1Ti80"
      },
      "execution_count": 86,
      "outputs": []
    },
    {
      "cell_type": "code",
      "source": [
        "pprint(data['examples'][9])"
      ],
      "metadata": {
        "colab": {
          "base_uri": "https://localhost:8080/"
        },
        "id": "iMmU5b50Ur0x",
        "outputId": "ff966f7a-dacc-4876-dee2-4bddf3a6dfe8"
      },
      "execution_count": 87,
      "outputs": [
        {
          "output_type": "stream",
          "name": "stdout",
          "text": [
            "{'annotations': [{'correct': None,\n",
            "                  'end': 124,\n",
            "                  'example_id': '9a0b1ede-2282-4dae-b086-638e45881bf5',\n",
            "                  'human_annotations': [{'annotator_id': 1,\n",
            "                                         'name': 'Ashpat123',\n",
            "                                         'reason': 'exploration',\n",
            "                                         'tagged_token_id': '19770812-2605-424f-9bc4-2d451becd837',\n",
            "                                         'timestamp': '2020-03-18T10:17:37.752000Z'}],\n",
            "                  'id': '19770812-2605-424f-9bc4-2d451becd837',\n",
            "                  'model_annotations': [],\n",
            "                  'start': 116,\n",
            "                  'tag_id': '2340864c-0876-4ad1-8a34-600324a516d1',\n",
            "                  'tag_name': 'Pathogen',\n",
            "                  'value': 'Listeria'},\n",
            "                 {'correct': None,\n",
            "                  'end': 170,\n",
            "                  'example_id': '9a0b1ede-2282-4dae-b086-638e45881bf5',\n",
            "                  'human_annotations': [{'annotator_id': 1,\n",
            "                                         'name': 'Ashpat123',\n",
            "                                         'reason': 'exploration',\n",
            "                                         'tagged_token_id': '63a605e9-9812-498f-81a1-6f2213ba68bf',\n",
            "                                         'timestamp': '2020-03-18T10:18:12.890000Z'}],\n",
            "                  'id': '63a605e9-9812-498f-81a1-6f2213ba68bf',\n",
            "                  'model_annotations': [],\n",
            "                  'start': 155,\n",
            "                  'tag_id': '03eb3e50-d4d8-4261-a60b-fa5aee5deb4a',\n",
            "                  'tag_name': 'Pathogen',\n",
            "                  'value': 'Yersinia pestis'},\n",
            "                 {'correct': None,\n",
            "                  'end': 137,\n",
            "                  'example_id': '9a0b1ede-2282-4dae-b086-638e45881bf5',\n",
            "                  'human_annotations': [{'annotator_id': 1,\n",
            "                                         'name': 'Ashpat123',\n",
            "                                         'reason': 'exploration',\n",
            "                                         'tagged_token_id': '7e0321e2-a3c7-42ce-a4bf-6a852a03b7ac',\n",
            "                                         'timestamp': '2020-03-18T10:17:47.222000Z'}],\n",
            "                  'id': '7e0321e2-a3c7-42ce-a4bf-6a852a03b7ac',\n",
            "                  'model_annotations': [],\n",
            "                  'start': 126,\n",
            "                  'tag_id': '2340864c-0876-4ad1-8a34-600324a516d1',\n",
            "                  'tag_name': 'Pathogen',\n",
            "                  'value': 'Francisella'},\n",
            "                 {'correct': None,\n",
            "                  'end': 79,\n",
            "                  'example_id': '9a0b1ede-2282-4dae-b086-638e45881bf5',\n",
            "                  'human_annotations': [{'annotator_id': 1,\n",
            "                                         'name': 'Ashpat123',\n",
            "                                         'reason': 'exploration',\n",
            "                                         'tagged_token_id': '8d6f893d-e45c-4ad7-935d-dd688e74e4b6',\n",
            "                                         'timestamp': '2020-03-18T10:17:00.307000Z'}],\n",
            "                  'id': '8d6f893d-e45c-4ad7-935d-dd688e74e4b6',\n",
            "                  'model_annotations': [],\n",
            "                  'start': 70,\n",
            "                  'tag_id': '2340864c-0876-4ad1-8a34-600324a516d1',\n",
            "                  'tag_name': 'Pathogen',\n",
            "                  'value': 'Neisseria'},\n",
            "                 {'correct': None,\n",
            "                  'end': 149,\n",
            "                  'example_id': '9a0b1ede-2282-4dae-b086-638e45881bf5',\n",
            "                  'human_annotations': [{'annotator_id': 1,\n",
            "                                         'name': 'Ashpat123',\n",
            "                                         'reason': 'exploration',\n",
            "                                         'tagged_token_id': '97fa1d2f-5aaa-49b5-80fa-e00a17dd7e1d',\n",
            "                                         'timestamp': '2020-03-18T10:17:58.627000Z'}],\n",
            "                  'id': '97fa1d2f-5aaa-49b5-80fa-e00a17dd7e1d',\n",
            "                  'model_annotations': [],\n",
            "                  'start': 139,\n",
            "                  'tag_id': '2340864c-0876-4ad1-8a34-600324a516d1',\n",
            "                  'tag_name': 'Pathogen',\n",
            "                  'value': 'Legionella'},\n",
            "                 {'correct': None,\n",
            "                  'end': 114,\n",
            "                  'example_id': '9a0b1ede-2282-4dae-b086-638e45881bf5',\n",
            "                  'human_annotations': [{'annotator_id': 1,\n",
            "                                         'name': 'Ashpat123',\n",
            "                                         'reason': 'exploration',\n",
            "                                         'tagged_token_id': 'cb543310-f9dc-43be-a747-be4f321b8587',\n",
            "                                         'timestamp': '2020-03-18T10:17:28.742000Z'}],\n",
            "                  'id': 'cb543310-f9dc-43be-a747-be4f321b8587',\n",
            "                  'model_annotations': [],\n",
            "                  'start': 106,\n",
            "                  'tag_id': '2340864c-0876-4ad1-8a34-600324a516d1',\n",
            "                  'tag_name': 'Pathogen',\n",
            "                  'value': 'Nocardia'},\n",
            "                 {'correct': None,\n",
            "                  'end': 104,\n",
            "                  'example_id': '9a0b1ede-2282-4dae-b086-638e45881bf5',\n",
            "                  'human_annotations': [{'annotator_id': 1,\n",
            "                                         'name': 'Ashpat123',\n",
            "                                         'reason': 'exploration',\n",
            "                                         'tagged_token_id': 'd0c3dbdc-7332-4fe7-99bc-a4c558a8a5b0',\n",
            "                                         'timestamp': '2020-03-18T10:17:19.607000Z'}],\n",
            "                  'id': 'd0c3dbdc-7332-4fe7-99bc-a4c558a8a5b0',\n",
            "                  'model_annotations': [],\n",
            "                  'start': 91,\n",
            "                  'tag_id': '2340864c-0876-4ad1-8a34-600324a516d1',\n",
            "                  'tag_name': 'Pathogen',\n",
            "                  'value': 'Mycobacterium'},\n",
            "                 {'correct': None,\n",
            "                  'end': 89,\n",
            "                  'example_id': '9a0b1ede-2282-4dae-b086-638e45881bf5',\n",
            "                  'human_annotations': [{'annotator_id': 1,\n",
            "                                         'name': 'Ashpat123',\n",
            "                                         'reason': 'exploration',\n",
            "                                         'tagged_token_id': 'ea56d843-9534-4724-95f7-a62ffae8d979',\n",
            "                                         'timestamp': '2020-03-18T10:17:10.195000Z'}],\n",
            "                  'id': 'ea56d843-9534-4724-95f7-a62ffae8d979',\n",
            "                  'model_annotations': [],\n",
            "                  'start': 81,\n",
            "                  'tag_id': '2340864c-0876-4ad1-8a34-600324a516d1',\n",
            "                  'tag_name': 'Pathogen',\n",
            "                  'value': 'Brucella'},\n",
            "                 {'correct': None,\n",
            "                  'end': 68,\n",
            "                  'example_id': '9a0b1ede-2282-4dae-b086-638e45881bf5',\n",
            "                  'human_annotations': [{'annotator_id': 1,\n",
            "                                         'name': 'Ashpat123',\n",
            "                                         'reason': 'exploration',\n",
            "                                         'tagged_token_id': 'f1dd29d5-d553-410f-8758-b8e549ec8d4e',\n",
            "                                         'timestamp': '2020-03-18T10:16:51.290000Z'}],\n",
            "                  'id': 'f1dd29d5-d553-410f-8758-b8e549ec8d4e',\n",
            "                  'model_annotations': [],\n",
            "                  'start': 58,\n",
            "                  'tag_id': '2340864c-0876-4ad1-8a34-600324a516d1',\n",
            "                  'tag_name': 'Pathogen',\n",
            "                  'value': 'Salmonella'}],\n",
            " 'classifications': [],\n",
            " 'content': 'Other groups of intracellular bacterial pathogens include '\n",
            "            'Salmonella, Neisseria, Brucella, Mycobacterium, Nocardia, '\n",
            "            'Listeria, Francisella, Legionella, and Yersinia pestis. These can '\n",
            "            'exist intracellularly, but can exist outside of host cells.',\n",
            " 'id': '9a0b1ede-2282-4dae-b086-638e45881bf5',\n",
            " 'metadata': {}}\n"
          ]
        }
      ]
    },
    {
      "cell_type": "code",
      "source": [
        "data = {\n",
        "    \"Golden Retriever\": {\n",
        "        \"temperament\": \"Friendly, intelligent, and gentle\",\n",
        "        \"size\": \"Large\",\n",
        "        \"shedding\": \"Moderate to high\"\n",
        "    },\n",
        "    \"Labrador Retriever\": {\n",
        "        \"temperament\": \"Friendly, outgoing, and energetic\",\n",
        "        \"size\": \"Large\",\n",
        "        \"shedding\": \"Moderate to high\"\n",
        "    },\n",
        "    \"German Shepherd\": {\n",
        "        \"temperament\": \"Intelligent, courageous, and protective\",\n",
        "        \"size\": \"Large\",\n",
        "        \"shedding\": \"Moderate\"\n",
        "    }\n",
        "}"
      ],
      "metadata": {
        "id": "M82n4B7lVWTJ"
      },
      "execution_count": 92,
      "outputs": []
    },
    {
      "cell_type": "code",
      "source": [
        "with open(\"your_file.json\", \"w\") as write_file:\n",
        "    json.dump(data, write_file)\n",
        "    print(data['Golden Retriever']['size'])\n",
        "    print(data['German Shepherd']['temperament'])"
      ],
      "metadata": {
        "colab": {
          "base_uri": "https://localhost:8080/"
        },
        "id": "OhenAG39WbWk",
        "outputId": "3decec7e-d953-4e67-d43e-a3f93eae7bbf"
      },
      "execution_count": 97,
      "outputs": [
        {
          "output_type": "stream",
          "name": "stdout",
          "text": [
            "Large\n",
            "Intelligent, courageous, and protective\n"
          ]
        }
      ]
    }
  ]
}