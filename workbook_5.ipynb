{
 "cells": [
  {
   "cell_type": "code",
   "execution_count": 7,
   "id": "c0c41fd2-5d0b-460d-9ad6-e2cc1524fb2d",
   "metadata": {},
   "outputs": [
    {
     "name": "stdin",
     "output_type": "stream",
     "text": [
      "Введите пароль: 899987\n"
     ]
    },
    {
     "name": "stdout",
     "output_type": "stream",
     "text": [
      "Пароль неверный\n"
     ]
    }
   ],
   "source": [
    "# Задание 1\n",
    "correct_password = '88888888'\n",
    "input_password = input('Введите пароль:')\n",
    "if correct_password == input_password: \n",
    "    print('Пароль верный')\n",
    "else:\n",
    "    print('Пароль неверный')"
   ]
  },
  {
   "cell_type": "code",
   "execution_count": 28,
   "id": "daed5ffc-0adc-41de-bdf9-ee30b281933e",
   "metadata": {},
   "outputs": [
    {
     "name": "stdin",
     "output_type": "stream",
     "text": [
      "Введите возраст 15\n"
     ]
    },
    {
     "name": "stdout",
     "output_type": "stream",
     "text": [
      "Доступ запрещен\n"
     ]
    }
   ],
   "source": [
    "# Задание 2\n",
    "try: \n",
    "    input_age = int(input('Введите возраст'))\n",
    "    if input_age >= 18:\n",
    "        print('Доступ разрешен')\n",
    "    else:\n",
    "        print('Доступ запрещен')\n",
    "except ValueError:\n",
    "    print('Некорректный ввод')"
   ]
  },
  {
   "cell_type": "code",
   "execution_count": 64,
   "id": "1e60a1db-7d55-409d-970c-2aade339e42e",
   "metadata": {},
   "outputs": [
    {
     "name": "stdin",
     "output_type": "stream",
     "text": [
      "Введите время: 12:34\n"
     ]
    },
    {
     "name": "stdout",
     "output_type": "stream",
     "text": [
      "Добрый день!\n"
     ]
    }
   ],
   "source": [
    "# Задание 3\n",
    "\n",
    "time_input = input('Введите время:')\n",
    "time = time_input.split(':')\n",
    "hour = int(time[0])\n",
    "if hour >= 0 and hour < 5:\n",
    "    print ('Доброй ночи!')\n",
    "if hour >= 5 and hour < 12:\n",
    "    print('Доброе утро!')\n",
    "if hour >= 12 and hour < 18:\n",
    "    print('Добрый день!')\n",
    "if hour >= 18 and hour <= 23:\n",
    "    print ('Добрый вечер!')"
   ]
  },
  {
   "cell_type": "code",
   "execution_count": 65,
   "id": "de31c953-8291-42e1-a11d-6e0c5988d1b2",
   "metadata": {},
   "outputs": [
    {
     "name": "stdin",
     "output_type": "stream",
     "text": [
      "Введите выражение: 3 + 4\n"
     ]
    },
    {
     "name": "stdout",
     "output_type": "stream",
     "text": [
      "7\n"
     ]
    }
   ],
   "source": [
    "# Задание 4\n",
    "\n",
    "number_input = input('Введите выражение:')\n",
    "number_list = number_input.split(' ')\n",
    "\n",
    "number_1 = int(number_list[0])\n",
    "operation = number_list[1]\n",
    "number_2 = int(number_list[2])\n",
    "if operation == '+':\n",
    "    print(number_1 + number_2)\n",
    "if operation == '-':\n",
    "    print(number_1 - number_2)\n",
    "if operation == '/':\n",
    "    print(number_1 / number_2)\n",
    "if operation == '*':\n",
    "    print(number_1 * number_2)"
   ]
  },
  {
   "cell_type": "code",
   "execution_count": 2,
   "id": "8dd8cc75-1e39-4c4f-b574-73b6a51eb12a",
   "metadata": {},
   "outputs": [
    {
     "name": "stdin",
     "output_type": "stream",
     "text": [
      "Введите выражение: 5.6 + 4\n"
     ]
    },
    {
     "name": "stdout",
     "output_type": "stream",
     "text": [
      "9.6\n"
     ]
    }
   ],
   "source": [
    "# Задание 5\n",
    "\n",
    "number_input = input('Введите выражение:')\n",
    "number_list = number_input.split(' ')\n",
    "\n",
    "number_1 = float(number_list[0])\n",
    "operation = number_list[1]\n",
    "number_2 = float(number_list[2])\n",
    "result = 0\n",
    "if operation == '+':\n",
    "    result = number_1 + number_2\n",
    "if operation == '-':\n",
    "    result = number_1 - number_2\n",
    "if operation == '/':\n",
    "    result = number_1 / number_2\n",
    "if operation == '*':\n",
    "    result = number_1 * number_2\n",
    "if operation == '==':\n",
    "    result = number_1 == number_2\n",
    "if result - int(result) == 0: # если разница между числом и его целой частью равна 0, то оно целое\n",
    "    print(int(result))\n",
    "else:\n",
    "    print(result)"
   ]
  },
  {
   "cell_type": "code",
   "execution_count": 117,
   "id": "3789c621-6581-4e16-b5f4-54597a7b5967",
   "metadata": {},
   "outputs": [
    {
     "name": "stdout",
     "output_type": "stream",
     "text": [
      "['Laptop', 'Smartphone', 'Tablet']\n"
     ]
    }
   ],
   "source": [
    "# Задание 6\n",
    "\n",
    "list_of_products = [\"Laptop True\", \"Headphones False\", \"Smartphone True\", \"Tablet True\", \"Speaker False\"]\n",
    "result = []\n",
    "for product in list_of_products: \n",
    "    splited = product.split(' ')\n",
    "    tech_product = splited[0]\n",
    "    instock = splited[1]\n",
    "    if instock == 'True':\n",
    "       result.append(tech_product)\n",
    "print(result)    "
   ]
  },
  {
   "cell_type": "code",
   "execution_count": 128,
   "id": "cf2f0546-e550-404d-9600-2650507d669a",
   "metadata": {},
   "outputs": [
    {
     "name": "stdout",
     "output_type": "stream",
     "text": [
      "['Headphones', 'Smartphone', 'Tablet']\n"
     ]
    }
   ],
   "source": [
    "# Задание 7\n",
    "\n",
    "num_products = [\"Laptop 8\", \"Headphones 12\", \"Smartphone 41\", \"Tablet 10\", \"Speaker 6\"]\n",
    "result = []\n",
    "for product in num_products: \n",
    "    splited = product.split(' ')\n",
    "    tech_product = splited[0]\n",
    "    number = int(splited[1])\n",
    "    if number >= 10:\n",
    "       result.append(tech_product)\n",
    "print(result)    "
   ]
  },
  {
   "cell_type": "code",
   "execution_count": 127,
   "id": "a4b5b291-94c1-4ffb-9551-6f2d1147b21b",
   "metadata": {},
   "outputs": [
    {
     "name": "stdout",
     "output_type": "stream",
     "text": [
      "['Headphones 12', 'Smartphone 41', 'Tablet 10']\n"
     ]
    }
   ],
   "source": [
    "# Задание 8 \n",
    "\n",
    "num_products = [\"Laptop 8\", \"Headphones 12\", \"Smartphone 41\", \"Tablet 10\", \"Speaker 6\"]\n",
    "for product in num_products[:]: \n",
    "    splited = product.split(' ')\n",
    "    tech_product = splited[0]\n",
    "    number = int(splited[1])\n",
    "    if number < 10:\n",
    "       num_products.remove(product)\n",
    "        \n",
    "print(num_products) "
   ]
  },
  {
   "cell_type": "code",
   "execution_count": 147,
   "id": "6e7f24d2-c72e-47d9-8399-c51a2f61f648",
   "metadata": {},
   "outputs": [
    {
     "name": "stdout",
     "output_type": "stream",
     "text": [
      "['Alex', 'Chloe', 'George', 'Jordan']\n",
      "['Lauren', 'Tom']\n"
     ]
    }
   ],
   "source": [
    "# Задание 9\n",
    "\n",
    "list_of_names = [\"Tom\", \"Chloe\", \"Alex\", \"George\", \"Lauren\", \"Jordan\"]\n",
    "a_k = []\n",
    "l_z = []\n",
    "for name in list_of_names:\n",
    "    if name[0] >= 'A' and name[0] <= 'K':\n",
    "        a_k.append(name)\n",
    "    else:\n",
    "        l_z.append(name)    \n",
    "\n",
    "print(sorted(a_k))\n",
    "print(sorted(l_z))    "
   ]
  },
  {
   "cell_type": "code",
   "execution_count": 155,
   "id": "1638e510-6fcf-4e94-85d5-ebb98305764a",
   "metadata": {},
   "outputs": [
    {
     "name": "stdout",
     "output_type": "stream",
     "text": [
      "[3, 4]\n",
      "['kiwi', 'apple', 'banana']\n",
      "[7.6, 2.5]\n",
      "[False, True, True]\n"
     ]
    }
   ],
   "source": [
    "# Задание 10\n",
    "\n",
    "mixed_list = [3, 1, \"kiwi\", 7.6, False, True, \"apple\", 2.5, \"banana\", True, 4]\n",
    "nums = []\n",
    "names = []\n",
    "floats = []\n",
    "bools = []\n",
    "for element in mixed_list:\n",
    "    if isinstance(element, int) and element != False and element != True: # https://www.reddit.com/r/Python/comments/jwy32/wtf_isinstancetrue_int_true/?rdt=52052\n",
    "        nums.append(element)\n",
    "    if isinstance(element, float):\n",
    "        floats.append(element)\n",
    "    if isinstance(element, str):\n",
    "        names.append(element)\n",
    "    if isinstance(element, bool):\n",
    "        bools.append(element)\n",
    "        \n",
    "print(nums)\n",
    "print(names)\n",
    "print(floats)\n",
    "print(bools)"
   ]
  }
 ],
 "metadata": {
  "kernelspec": {
   "display_name": "Python 3 (ipykernel)",
   "language": "python",
   "name": "python3"
  },
  "language_info": {
   "codemirror_mode": {
    "name": "ipython",
    "version": 3
   },
   "file_extension": ".py",
   "mimetype": "text/x-python",
   "name": "python",
   "nbconvert_exporter": "python",
   "pygments_lexer": "ipython3",
   "version": "3.12.6"
  }
 },
 "nbformat": 4,
 "nbformat_minor": 5
}
