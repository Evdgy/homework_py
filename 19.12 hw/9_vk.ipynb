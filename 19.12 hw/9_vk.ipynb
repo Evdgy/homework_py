{
 "cells": [
  {
   "cell_type": "code",
   "execution_count": 1,
   "id": "0ec75723-a302-47c1-b420-0e7ee9af3506",
   "metadata": {},
   "outputs": [
    {
     "name": "stdout",
     "output_type": "stream",
     "text": [
      "Requirement already satisfied: vk_api in c:\\users\\elena\\appdata\\local\\programs\\python\\python312\\lib\\site-packages (11.9.9)\n",
      "Requirement already satisfied: requests in c:\\users\\elena\\appdata\\local\\programs\\python\\python312\\lib\\site-packages (from vk_api) (2.32.3)\n",
      "Requirement already satisfied: charset-normalizer<4,>=2 in c:\\users\\elena\\appdata\\local\\programs\\python\\python312\\lib\\site-packages (from requests->vk_api) (3.3.2)\n",
      "Requirement already satisfied: idna<4,>=2.5 in c:\\users\\elena\\appdata\\local\\programs\\python\\python312\\lib\\site-packages (from requests->vk_api) (3.9)\n",
      "Requirement already satisfied: urllib3<3,>=1.21.1 in c:\\users\\elena\\appdata\\local\\programs\\python\\python312\\lib\\site-packages (from requests->vk_api) (2.2.3)\n",
      "Requirement already satisfied: certifi>=2017.4.17 in c:\\users\\elena\\appdata\\local\\programs\\python\\python312\\lib\\site-packages (from requests->vk_api) (2024.8.30)\n"
     ]
    }
   ],
   "source": [
    "!pip install vk_api"
   ]
  },
  {
   "cell_type": "code",
   "execution_count": 2,
   "id": "37229eec-49bb-4450-8cf6-95fb21eda652",
   "metadata": {},
   "outputs": [],
   "source": [
    "import vk_api"
   ]
  },
  {
   "cell_type": "code",
   "execution_count": null,
   "id": "aa284019-5e12-4bc1-89a9-9096b50137e2",
   "metadata": {},
   "outputs": [],
   "source": [
    "posts = vk.wall.get(owner_id=-20629724, count=100)['items'][10]\n",
    "posts"
   ]
  },
  {
   "cell_type": "code",
   "execution_count": null,
   "id": "cfd949a2-f5bc-49cf-8641-fc814668053c",
   "metadata": {},
   "outputs": [],
   "source": [
    "import csv\n",
    "import pandas as pd\n",
    "\n",
    "def scrape_wall_data(token, owner_id, count=10):\n",
    "    try: # блок try-except для обработки возможных ошибок при взаимодействии с API ВКонтакте.\n",
    "        vk_session = vk_api.VkApi(token=token) #выполянем запрос по токену\n",
    "        vk = vk_session.get_api() #получаем объект API, с помощью которого будут выполняться запросы к серверам ВКонтакте.\n",
    "       \n",
    "        # Метод wall.get\n",
    "        posts = vk.wall.get(owner_id=owner_id, count=count)['items'] # записываем записи со стены сообщества в переменную posts\n",
    "\n",
    "        # Хранилище для данных\n",
    "        scraped_data = [] # пустой список для добавления данных с каждой записи при иритации \n",
    "\n",
    "        # Парсинг\n",
    "        for post in posts:\n",
    "            post_data = {\n",
    "                'post_id': post['id'],\n",
    "                'text': post['text'],\n",
    "                'likes': post['likes'],\n",
    "            }\n",
    "            scraped_data.append(post_data)\n",
    "\n",
    "        return scraped_data\n",
    "\n",
    "    except vk_api.exceptions.ApiError as e:\n",
    "        print(f\"Error accessing VK API: {e}\")\n",
    "        return []"
   ]
  },
  {
   "cell_type": "code",
   "execution_count": null,
   "id": "3450cb1a-9b3f-4aff-871d-5fc5b042c5d4",
   "metadata": {},
   "outputs": [],
   "source": [
    "def save_to_csv(data, file_name='vk_wall_posts.csv'): #сохраним наши данные в файл формата csv\n",
    "    with open(file_name, mode='w', newline='', encoding='utf-8') as file:\n",
    "        writer = csv.DictWriter(file, fieldnames=['post_id', 'text','likes'])\n",
    "        writer.writeheader()\n",
    "        for row in data:\n",
    "            writer.writerow(row)"
   ]
  },
  {
   "cell_type": "code",
   "execution_count": null,
   "id": "0fd0f283-9894-4352-aeb9-5495d1b90fd6",
   "metadata": {},
   "outputs": [],
   "source": [
    "import pandas as pd\n",
    "import matplotlib.pyplot as plt"
   ]
  },
  {
   "cell_type": "code",
   "execution_count": null,
   "id": "0d7d24ec-eda6-45a9-b2ab-f6ed3f2fa786",
   "metadata": {},
   "outputs": [],
   "source": [
    "def stats(data):\n",
    "    df = pd.DataFrame(data)\n",
    "    \n",
    "    df['like_count'] = df['likes'].apply(lambda x: x['count']) # посмотрим на количество лайков под постами \n",
    "    df.drop('likes', axis=1, inplace=True)\n",
    "    \n",
    "    # визализация статистики по количеству лайков\n",
    "    plt.bar(df['post_id'], df['like_count'])\n",
    "    plt.xlabel('Post ID')\n",
    "    plt.ylabel('Number of Likes')\n",
    "    plt.title('Likes per Post')\n",
    "    plt.show()\n",
    "    \n",
    "\n",
    "\n",
    "    print(f'Посмортим на общую информацию: \\n {df.describe()}')\n",
    "    print('\\n')\n",
    "    print(df.info())\n",
    "    print('\\n')\n",
    "    print(f'Статистика по первым пяти постам\\n{df.head()}')\n",
    "    pass"
   ]
  },
  {
   "cell_type": "code",
   "execution_count": null,
   "id": "9189257f-a78b-4791-8f39-7dce0795c262",
   "metadata": {},
   "outputs": [],
   "source": [
    "def main():\n",
    "    # Введите ваш токен VK API\n",
    "\n",
    "    # Введите ID сообщества\n",
    "    owner_id = -299\n",
    "\n",
    "    # Введите количество публикаций для скрейпинга\n",
    "    num_posts = 20\n",
    "\n",
    "    wall_data = scrape_wall_data(token, owner_id, num_posts)\n",
    "    print('Посмотрим на полученные данные')\n",
    "    print(wall_data)\n",
    "    print('\\n')\n",
    "    if wall_data:\n",
    "        save_to_csv(wall_data)\n",
    "\n",
    "        stats(wall_data)\n",
    "    else:\n",
    "        print(\"No data\")\n",
    "\n",
    "if __name__ == \"__main__\":\n",
    "    main()"
   ]
  }
 ],
 "metadata": {
  "kernelspec": {
   "display_name": "Python 3 (ipykernel)",
   "language": "python",
   "name": "python3"
  },
  "language_info": {
   "codemirror_mode": {
    "name": "ipython",
    "version": 3
   },
   "file_extension": ".py",
   "mimetype": "text/x-python",
   "name": "python",
   "nbconvert_exporter": "python",
   "pygments_lexer": "ipython3",
   "version": "3.12.6"
  }
 },
 "nbformat": 4,
 "nbformat_minor": 5
}
