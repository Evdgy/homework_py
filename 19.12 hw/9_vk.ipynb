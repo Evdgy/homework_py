{
 "cells": [
  {
   "cell_type": "code",
   "execution_count": 1,
   "id": "0ec75723-a302-47c1-b420-0e7ee9af3506",
   "metadata": {},
   "outputs": [
    {
     "name": "stdout",
     "output_type": "stream",
     "text": [
      "Requirement already satisfied: vk_api in c:\\users\\elena\\appdata\\local\\programs\\python\\python312\\lib\\site-packages (11.9.9)\n",
      "Requirement already satisfied: requests in c:\\users\\elena\\appdata\\local\\programs\\python\\python312\\lib\\site-packages (from vk_api) (2.32.3)\n",
      "Requirement already satisfied: charset-normalizer<4,>=2 in c:\\users\\elena\\appdata\\local\\programs\\python\\python312\\lib\\site-packages (from requests->vk_api) (3.3.2)\n",
      "Requirement already satisfied: idna<4,>=2.5 in c:\\users\\elena\\appdata\\local\\programs\\python\\python312\\lib\\site-packages (from requests->vk_api) (3.9)\n",
      "Requirement already satisfied: urllib3<3,>=1.21.1 in c:\\users\\elena\\appdata\\local\\programs\\python\\python312\\lib\\site-packages (from requests->vk_api) (2.2.3)\n",
      "Requirement already satisfied: certifi>=2017.4.17 in c:\\users\\elena\\appdata\\local\\programs\\python\\python312\\lib\\site-packages (from requests->vk_api) (2024.8.30)\n"
     ]
    }
   ],
   "source": [
    "!pip install vk_api"
   ]
  },
  {
   "cell_type": "code",
   "execution_count": 2,
   "id": "37229eec-49bb-4450-8cf6-95fb21eda652",
   "metadata": {},
   "outputs": [],
   "source": [
    "import vk_api"
   ]
  },
  {
   "cell_type": "code",
   "execution_count": 3,
   "id": "d6cc35ef-175c-4995-a43f-4dbdd1a71f7d",
   "metadata": {},
   "outputs": [],
   "source": [
    "vkApiSession= vk_api.VkApi(token=\"vk1.a.vW70ZdDvxtVK9YAW98sP6zThPn7FSkyYusK8txhSG3mSl3nuuI-POJXK5BuZeeW-NsV3EePdQRpIrv_WURQzqt-hgAqoOikDT02nYAUXwM84lJ3CFaWiHEniPzZZRM8b7ydA2GMv2icQbe9eks9CPapfNSUtxoemSoCwXHlK3oSf1jSgRBtnz6jZAxVBRjU8gYesb-1MF1ItK4iVe9xclg\")\n",
    "\n",
    "vk = vkApiSession.get_api()"
   ]
  },
  {
   "cell_type": "code",
   "execution_count": 4,
   "id": "aa284019-5e12-4bc1-89a9-9096b50137e2",
   "metadata": {},
   "outputs": [
    {
     "data": {
      "text/plain": [
       "{'inner_type': 'wall_wallpost',\n",
       " 'ads_easy_promote': {'type': 2,\n",
       "  'text': 'Что-то пошло не так.',\n",
       "  'label_text': '',\n",
       "  'button_text': '',\n",
       "  'is_ad_not_easy': False},\n",
       " 'comments': {'can_post': 1, 'count': 5, 'groups_can_post': True},\n",
       " 'marked_as_ads': 0,\n",
       " 'activity': {'comments': [{'id': 1601444,\n",
       "    'from_id': 49637527,\n",
       "    'date': 1734629277,\n",
       "    'text': 'Покупайте биткоин глупцы',\n",
       "    'post_id': 1601435,\n",
       "    'owner_id': -20629724,\n",
       "    'parents_stack': [],\n",
       "    'likes': {'can_like': 1,\n",
       "     'count': 1,\n",
       "     'user_likes': 0,\n",
       "     'can_like_by_group': 0,\n",
       "     'group_liked': False},\n",
       "    'thread': {'count': 0}}],\n",
       "  'post_author_id': -20629724,\n",
       "  'type': 'comments',\n",
       "  'discriminator': 'reply'},\n",
       " 'hash': '8czCTaJTa1WAeNQvVk4VAJLNiFOP',\n",
       " 'type': 'post',\n",
       " 'push_subscription': {'is_subscribed': False},\n",
       " 'attachments': [{'type': 'photo',\n",
       "   'photo': {'album_id': -7,\n",
       "    'date': 1734624051,\n",
       "    'id': 457329800,\n",
       "    'owner_id': -20629724,\n",
       "    'access_key': '7b38cf3be46ceaecbb',\n",
       "    'post_id': 1601435,\n",
       "    'sizes': [{'height': 59,\n",
       "      'type': 'm',\n",
       "      'width': 130,\n",
       "      'url': 'https://sun6-20.userapi.com/s/v1/ig2/GDgeIo5GOtoeHlxeC-55nHyKuYW40SRim7P8GlTMbGvD5aI7G2TqNV-Gs24jjSYgv6AUdnaHv4_3DpOU6Nr3RCVu.jpg?quality=96&as=32x15,48x22,72x33,108x49,160x73,240x109,360x164,480x218,540x245,640x291,720x327,1080x491,1280x582,1281x582&from=bu&u=8XhjCjit3nXkgBeBeQ1r3cQ9oBBjawuhsDucmPOwDHY&cs=130x59'},\n",
       "     {'height': 87,\n",
       "      'type': 'o',\n",
       "      'width': 130,\n",
       "      'url': 'https://sun6-20.userapi.com/s/v1/ig2/GDgeIo5GOtoeHlxeC-55nHyKuYW40SRim7P8GlTMbGvD5aI7G2TqNV-Gs24jjSYgv6AUdnaHv4_3DpOU6Nr3RCVu.jpg?quality=96&as=32x15,48x22,72x33,108x49,160x73,240x109,360x164,480x218,540x245,640x291,720x327,1080x491,1280x582,1281x582&from=bu&u=8XhjCjit3nXkgBeBeQ1r3cQ9oBBjawuhsDucmPOwDHY&cs=130x87'},\n",
       "     {'height': 133,\n",
       "      'type': 'p',\n",
       "      'width': 200,\n",
       "      'url': 'https://sun6-20.userapi.com/s/v1/ig2/GDgeIo5GOtoeHlxeC-55nHyKuYW40SRim7P8GlTMbGvD5aI7G2TqNV-Gs24jjSYgv6AUdnaHv4_3DpOU6Nr3RCVu.jpg?quality=96&as=32x15,48x22,72x33,108x49,160x73,240x109,360x164,480x218,540x245,640x291,720x327,1080x491,1280x582,1281x582&from=bu&u=8XhjCjit3nXkgBeBeQ1r3cQ9oBBjawuhsDucmPOwDHY&cs=200x133'},\n",
       "     {'height': 213,\n",
       "      'type': 'q',\n",
       "      'width': 320,\n",
       "      'url': 'https://sun6-20.userapi.com/s/v1/ig2/GDgeIo5GOtoeHlxeC-55nHyKuYW40SRim7P8GlTMbGvD5aI7G2TqNV-Gs24jjSYgv6AUdnaHv4_3DpOU6Nr3RCVu.jpg?quality=96&as=32x15,48x22,72x33,108x49,160x73,240x109,360x164,480x218,540x245,640x291,720x327,1080x491,1280x582,1281x582&from=bu&u=8XhjCjit3nXkgBeBeQ1r3cQ9oBBjawuhsDucmPOwDHY&cs=320x213'},\n",
       "     {'height': 340,\n",
       "      'type': 'r',\n",
       "      'width': 510,\n",
       "      'url': 'https://sun6-20.userapi.com/s/v1/ig2/GDgeIo5GOtoeHlxeC-55nHyKuYW40SRim7P8GlTMbGvD5aI7G2TqNV-Gs24jjSYgv6AUdnaHv4_3DpOU6Nr3RCVu.jpg?quality=96&as=32x15,48x22,72x33,108x49,160x73,240x109,360x164,480x218,540x245,640x291,720x327,1080x491,1280x582,1281x582&from=bu&u=8XhjCjit3nXkgBeBeQ1r3cQ9oBBjawuhsDucmPOwDHY&cs=510x340'},\n",
       "     {'height': 34,\n",
       "      'type': 's',\n",
       "      'width': 75,\n",
       "      'url': 'https://sun6-20.userapi.com/s/v1/ig2/GDgeIo5GOtoeHlxeC-55nHyKuYW40SRim7P8GlTMbGvD5aI7G2TqNV-Gs24jjSYgv6AUdnaHv4_3DpOU6Nr3RCVu.jpg?quality=96&as=32x15,48x22,72x33,108x49,160x73,240x109,360x164,480x218,540x245,640x291,720x327,1080x491,1280x582,1281x582&from=bu&u=8XhjCjit3nXkgBeBeQ1r3cQ9oBBjawuhsDucmPOwDHY&cs=75x34'},\n",
       "     {'height': 582,\n",
       "      'type': 'w',\n",
       "      'width': 1281,\n",
       "      'url': 'https://sun6-20.userapi.com/s/v1/ig2/GDgeIo5GOtoeHlxeC-55nHyKuYW40SRim7P8GlTMbGvD5aI7G2TqNV-Gs24jjSYgv6AUdnaHv4_3DpOU6Nr3RCVu.jpg?quality=96&as=32x15,48x22,72x33,108x49,160x73,240x109,360x164,480x218,540x245,640x291,720x327,1080x491,1280x582,1281x582&from=bu&u=8XhjCjit3nXkgBeBeQ1r3cQ9oBBjawuhsDucmPOwDHY&cs=1281x582'},\n",
       "     {'height': 274,\n",
       "      'type': 'x',\n",
       "      'width': 604,\n",
       "      'url': 'https://sun6-20.userapi.com/s/v1/ig2/GDgeIo5GOtoeHlxeC-55nHyKuYW40SRim7P8GlTMbGvD5aI7G2TqNV-Gs24jjSYgv6AUdnaHv4_3DpOU6Nr3RCVu.jpg?quality=96&as=32x15,48x22,72x33,108x49,160x73,240x109,360x164,480x218,540x245,640x291,720x327,1080x491,1280x582,1281x582&from=bu&u=8XhjCjit3nXkgBeBeQ1r3cQ9oBBjawuhsDucmPOwDHY&cs=604x274'},\n",
       "     {'height': 367,\n",
       "      'type': 'y',\n",
       "      'width': 807,\n",
       "      'url': 'https://sun6-20.userapi.com/s/v1/ig2/GDgeIo5GOtoeHlxeC-55nHyKuYW40SRim7P8GlTMbGvD5aI7G2TqNV-Gs24jjSYgv6AUdnaHv4_3DpOU6Nr3RCVu.jpg?quality=96&as=32x15,48x22,72x33,108x49,160x73,240x109,360x164,480x218,540x245,640x291,720x327,1080x491,1280x582,1281x582&from=bu&u=8XhjCjit3nXkgBeBeQ1r3cQ9oBBjawuhsDucmPOwDHY&cs=807x367'},\n",
       "     {'height': 582,\n",
       "      'type': 'z',\n",
       "      'width': 1280,\n",
       "      'url': 'https://sun6-20.userapi.com/s/v1/ig2/GDgeIo5GOtoeHlxeC-55nHyKuYW40SRim7P8GlTMbGvD5aI7G2TqNV-Gs24jjSYgv6AUdnaHv4_3DpOU6Nr3RCVu.jpg?quality=96&as=32x15,48x22,72x33,108x49,160x73,240x109,360x164,480x218,540x245,640x291,720x327,1080x491,1280x582,1281x582&from=bu&u=8XhjCjit3nXkgBeBeQ1r3cQ9oBBjawuhsDucmPOwDHY&cs=1280x582'}],\n",
       "    'text': '',\n",
       "    'user_id': 100,\n",
       "    'web_view_token': 'd9d2c50aa7daa62a03',\n",
       "    'orig_photo': {'height': 582,\n",
       "     'type': 'base',\n",
       "     'url': 'https://sun6-20.userapi.com/s/v1/ig2/GDgeIo5GOtoeHlxeC-55nHyKuYW40SRim7P8GlTMbGvD5aI7G2TqNV-Gs24jjSYgv6AUdnaHv4_3DpOU6Nr3RCVu.jpg?quality=96&as=32x15,48x22,72x33,108x49,160x73,240x109,360x164,480x218,540x245,640x291,720x327,1080x491,1280x582,1281x582&from=bu&u=8XhjCjit3nXkgBeBeQ1r3cQ9oBBjawuhsDucmPOwDHY',\n",
       "     'width': 1281}}}],\n",
       " 'date': 1734624052,\n",
       " 'from_id': -20629724,\n",
       " 'id': 1601435,\n",
       " 'is_favorite': False,\n",
       " 'likes': {'can_like': 1,\n",
       "  'count': 17,\n",
       "  'user_likes': 0,\n",
       "  'can_publish': 1,\n",
       "  'repost_disabled': False},\n",
       " 'owner_id': -20629724,\n",
       " 'post_source': {'type': 'api'},\n",
       " 'post_type': 'post',\n",
       " 'reposts': {'count': 53, 'user_reposted': 0},\n",
       " 'text': 'Где купить криптовалюту за рубли в России? Стоит ли сейчас покупать криптовалюту или нужно продавать её?\\n\\nКапитализация мирового рынка криптовалют растёт. На момент написания статьи она составляет 3,84 трлн американских долларов. Многие инвесторы задаются вопросом: стоит ли сейчас покупать криптовалюту или лучше продавать свои активы? Чтобы ответить на эти вопросы, рассмотрим текущую ситуацию криптовалютного рынка и проанализируем прогнозы экспертов: https://u.habr.com/NzPq1\\n\\n#гиктаймс@habr',\n",
       " 'views': {'count': 24316},\n",
       " 'track_code': '0xabcdefomdfZrMJkF8fJ5Bn_exCMYwpBTNHIio0wDhKLR1j-c-hREJs5GkyJqNsYEjjLYhg6lXyU-NrpihIK4Bj-XfyWvhKhz7yJqZ_qHOsOOUwIeVuB6D8KCiW'}"
      ]
     },
     "execution_count": 4,
     "metadata": {},
     "output_type": "execute_result"
    }
   ],
   "source": [
    "posts = vk.wall.get(owner_id=-20629724, count=100)['items'][10]\n",
    "posts"
   ]
  },
  {
   "cell_type": "code",
   "execution_count": 77,
   "id": "cfd949a2-f5bc-49cf-8641-fc814668053c",
   "metadata": {},
   "outputs": [],
   "source": [
    "import csv\n",
    "import pandas as pd\n",
    "\n",
    "def scrape_wall_data(token, owner_id, count=10):\n",
    "    try: # блок try-except для обработки возможных ошибок при взаимодействии с API ВКонтакте.\n",
    "        vk_session = vk_api.VkApi(token=token) #выполянем запрос по токену\n",
    "        vk = vk_session.get_api() #получаем объект API, с помощью которого будут выполняться запросы к серверам ВКонтакте.\n",
    "       \n",
    "        # Метод wall.get\n",
    "        posts = vk.wall.get(owner_id=owner_id, count=count)['items'] # записываем записи со стены сообщества в переменную posts\n",
    "\n",
    "        # Хранилище для данных\n",
    "        scraped_data = [] # пустой список для добавления данных с каждой записи при иритации \n",
    "\n",
    "        # Парсинг\n",
    "        for post in posts:\n",
    "            post_data = {\n",
    "                'post_id': post['id'],\n",
    "                'text': post['text'],\n",
    "                'likes': post['likes'],\n",
    "            }\n",
    "            scraped_data.append(post_data)\n",
    "\n",
    "        return scraped_data\n",
    "\n",
    "    except vk_api.exceptions.ApiError as e:\n",
    "        print(f\"Error accessing VK API: {e}\")\n",
    "        return []"
   ]
  },
  {
   "cell_type": "code",
   "execution_count": 78,
   "id": "3450cb1a-9b3f-4aff-871d-5fc5b042c5d4",
   "metadata": {},
   "outputs": [],
   "source": [
    "def save_to_csv(data, file_name='vk_wall_posts.csv'): #сохраним наши данные в файл формата csv\n",
    "    with open(file_name, mode='w', newline='', encoding='utf-8') as file:\n",
    "        writer = csv.DictWriter(file, fieldnames=['post_id', 'text','likes'])\n",
    "        writer.writeheader()\n",
    "        for row in data:\n",
    "            writer.writerow(row)"
   ]
  },
  {
   "cell_type": "code",
   "execution_count": 104,
   "id": "0fd0f283-9894-4352-aeb9-5495d1b90fd6",
   "metadata": {},
   "outputs": [],
   "source": [
    "import pandas as pd\n",
    "import matplotlib.pyplot as plt"
   ]
  },
  {
   "cell_type": "code",
   "execution_count": 113,
   "id": "0d7d24ec-eda6-45a9-b2ab-f6ed3f2fa786",
   "metadata": {},
   "outputs": [],
   "source": [
    "def stats(data):\n",
    "    df = pd.DataFrame(data)\n",
    "    \n",
    "    df['like_count'] = df['likes'].apply(lambda x: x['count']) # посмотрим на количество лайков под постами \n",
    "    df.drop('likes', axis=1, inplace=True)\n",
    "    \n",
    "    # визализация статистики по количеству лайков\n",
    "    plt.bar(df['post_id'], df['like_count'])\n",
    "    plt.xlabel('Post ID')\n",
    "    plt.ylabel('Number of Likes')\n",
    "    plt.title('Likes per Post')\n",
    "    plt.show()\n",
    "    \n",
    "\n",
    "\n",
    "    print(f'Посмортим на общую информацию: \\n {df.describe()}')\n",
    "    print('\\n')\n",
    "    print(df.info())\n",
    "    print('\\n')\n",
    "    print(f'Статистика по первым пяти постам\\n{df.head()}')\n",
    "    pass"
   ]
  },
  {
   "cell_type": "code",
   "execution_count": 114,
   "id": "9189257f-a78b-4791-8f39-7dce0795c262",
   "metadata": {},
   "outputs": [
    {
     "name": "stdout",
     "output_type": "stream",
     "text": [
      "Посмотрим на полученные данные:\n",
      "[{'post_id': 20337, 'text': 'Уважаемые студенты, преподаватели и сотрудники Питерской Вышки! \\n \\nБудьте внимательны: вновь участились случаи, когда якобы от имени руководства НИУ ВШЭ и структурных подразделений университета мошенники совершают звонки и рассылают сообщения. \\n \\nНе переходите по подозрительным ссылкам, не сообщайте личную и служебную информацию посторонним, соблюдайте цифровую гигиену. Рекомендуем заблокировать неизвестный номер/аккаунт, с которого вам поступило сообщение или звонок.', 'likes': {'can_like': 1, 'count': 5, 'user_likes': 0, 'can_publish': 1, 'repost_disabled': False}}, {'post_id': 20336, 'text': 'Историки Питерской Вышки изучили почти 4000 жителей Старой Руссы XV–XVII веков 📜 \\n \\nЦентр исторических исследований вместе с НовГУ несколько лет анализируют, как формировалось российское политическое пространство в малых городах России. За 3 года совместной работы они создали большую базу данных о жителях Старой Руссы периода развития феодализма. Это исследование проходит в рамках зеркальной лаборатории «Практики урбанистического развития в российском политическом пространстве конца XV — начала XVII века: человек и малый город». Проект продлён до 2027 года. \\n \\nПодробнее об исследовании и работе лаборатории читайте в материале: https://clck.ru/3FLtvg', 'likes': {'can_like': 1, 'count': 9, 'user_likes': 0, 'can_publish': 1, 'repost_disabled': False}}, {'post_id': 20335, 'text': 'Сегодня в Питерской Вышке началась зимняя сессия!\\n\\nВерьте в себя, свои силы и знания — и не забывайте отдыхать в перерывах между экзаменами. Всё получится 💪', 'likes': {'can_like': 1, 'count': 55, 'user_likes': 0, 'can_publish': 1, 'repost_disabled': False}}, {'post_id': 20329, 'text': '☃ Подводим итоги новогоднего розыгрыша! Подарки от Питерской Вышки получают: \\n\\n— [id436502976|Денис Кузьмин];\\n— [id764354|Ульяна Галеева];\\n— [id437049318|Илья Кириллов];\\n— [id199732168|Лия Гимадиева];\\n— [id327038769|Дмитрий Юн].\\n\\nПоздравляем победителей! Вы можете забрать подарки в корпусе на Кантемировской, за подробностями напишите в личные сообщения группы. \\n\\nБлагодарим всех, кто участвовал в конкурсе и поделился хорошими событиями в комментариях! Очень радостно, что у многих они связаны с Питерской Вышкой 💙', 'likes': {'can_like': 1, 'count': 18, 'user_likes': 0, 'can_publish': 1, 'repost_disabled': False}}, {'post_id': 20328, 'text': 'Исследователи из Питерской Вышки стали победителями конкурса Комитета по науке и высшей школе для молодых учёных. Они получили гранты до 200 тысяч рублей на проведение исследований 🔥 \\n \\nПоздравляем Анастасию Семёнову, младшего научного сотрудника Центра междисциплинарных фундаментальных исследований; Анну Стримовскую, старшего преподавателя департамента логистики и управления цепями поставок, а также научных сотрудников Международной лаборатории квантовой оптоэлектроники: Никиту Фоминых, Эдуарда Моисеева и Ивана Махова! \\n \\nПодробнее: https://clck.ru/3FKZdt', 'likes': {'can_like': 1, 'count': 7, 'user_likes': 0, 'can_publish': 1, 'repost_disabled': False}}, {'post_id': 20326, 'text': '23 декабря состоится финальное в этом году заседание научного семинара «Современные медиа: структуры и эффекты» 🌐 \\n\\nС докладом выступит Евгений Кожемякин, директор Центра развития научных компетенций факультета креативных индустрий НИУ ВШЭ. Он познакомит участников семинара с современными подходами к изучению восприятия медиатекстов, включая мультимодальный анализ, и расскажет, как гипертекстуальность, интерактивность и другие факторы меняют наше взаимодействие с контентом.\\n\\nЕвгений Кожемякин также поделится результатами двух экспериментальных исследований, в которых он принял участие, и объяснит, как различные элементы текста управляют вниманием читателей и их восприятием текста. \\n\\nСеминар пройдёт в корпусе на наб. канала Грибоедова, 123 и онлайн. Начало в 14:00. Регистрируйтесь по ссылке: https://clck.ru/3FJpPm', 'likes': {'can_like': 1, 'count': 7, 'user_likes': 0, 'can_publish': 1, 'repost_disabled': False}}, {'post_id': 20314, 'text': 'Рассказать о своём исследовании, прокачать ораторские навыки и выиграть грант на научные путешествия 📢\\n \\nТакие возможности даёт участие в проекте «Научные бои: Вышка». Недавно стартовал набор на VIII сезон. Участниками могут стать студенты и аспиранты всех факультетов и кампусов Вышки. Чтобы подать заявку, заполните анкету до 26 декабря: https://vk.cc/cGadrZ\\n \\nПодробнее о проекте: https://nb.hse.ru/', 'likes': {'can_like': 1, 'count': 24, 'user_likes': 0, 'can_publish': 1, 'repost_disabled': False}}, {'post_id': 20310, 'text': 'Звёзды студенческого спорта — в Питерской Вышке ⭐\\n\\nВ середине декабря в Санкт-Петербурге впервые состоялся Бал «Звёзды студенческого спорта». На торжественной церемонии в СПбГУПТД встретились талантливые студенты и спортсмены, их наставники, представителей ведущих вузов региона и известные деятели в области физической культуры и спорта.\\n\\nДиректор Центра поддержки молодёжных проектов Александр Угрюмов получил благодарность за развитие студенческого спорта, а баскетбольная лига Питерской Вышки стала победителем в номинации «Лучшее внутривузовское мероприятие» 🏆', 'likes': {'can_like': 1, 'count': 80, 'user_likes': 0, 'can_publish': 1, 'repost_disabled': False}}, {'post_id': 20304, 'text': 'Карьера, собственная квартира, брак — мы привыкли думать, что появление в жизни таких ценностей делает человека взрослым. Однако сегодня молодые люди считают совсем иначе. Социолог Анастасия Андреева из Центра молодёжных исследований выявила новые критерии взрослости. \\n \\nПочему традиционное понимание взрослости больше не работает и как взрослеет современная молодёжь — читайте в материале: https://clck.ru/3FJEuk', 'likes': {'can_like': 1, 'count': 22, 'user_likes': 0, 'can_publish': 1, 'repost_disabled': False}}, {'post_id': 20298, 'text': 'Научитесь говорить уверенно 🗣 \\n \\nЧерез полчаса начнём трансляцию мастер-класса по самопрезентации. Его проведёт Маргарита Кадчик, директор Центра развития карьеры НИУ ВШЭ — Санкт-Петербург. На мастер-классе обсудим разные способы самопрезентации, структуру идеального питча и психологические аспекты публичных выступлений. Вы научитесь дыхательным и голосовым техникам для подготовки речевого аппарата, а также узнаете, как работать с возражениями и отвечать на сложные вопросы. Подключайтесь!', 'likes': {'can_like': 1, 'count': 32, 'user_likes': 0, 'can_publish': 1, 'repost_disabled': False}}, {'post_id': 20296, 'text': 'Супруги Олеся и Сергей Кольцовы — новые герои проекта «Семьи Вышки». Олеся Юрьевна — профессор департамента социологии, руководит Лабораторией социальной и когнитивной информатики в Питерской Вышке. Сергей Николаевич — ведущий научный сотрудник этой лаборатории, профессор департамента информатики. \\n\\nКоллеги познакомились ещё в студенчестве и позже стали заниматься совместными проектами. Обсуждает ли семья Кольцовых работу дома и должны ли дети идти по «научным стопам» родителей — рассказали в интервью: https://clck.ru/3FHPgH', 'likes': {'can_like': 1, 'count': 101, 'user_likes': 0, 'can_publish': 1, 'repost_disabled': False}}, {'post_id': 20293, 'text': 'Готовность к Новому году — 99% 🎄', 'likes': {'can_like': 1, 'count': 72, 'user_likes': 0, 'can_publish': 1, 'repost_disabled': False}}, {'post_id': 20292, 'text': 'Команда Международной лаборатории квантовой оптоэлектроники — в числе победителей акселератора «Квантовые вычисления» от «Росатома». Исследование физиков из Питерской Вышки посвящено микролазерам для систем квантовых вычислений 🚀 \\n \\nОсновная цель акселератора — подтвердить научный потенциал предлагаемых инициатив. Всего в проекте участвовали 43 проекта, которые представили крупные российские вузы и корпорации. Главными критериями качества исследовательских проектов были востребованность в науке и бизнесе, перспективность технологий и высокая экспертиза команд. Подробнее: https://clck.ru/3FH8Jf', 'likes': {'can_like': 1, 'count': 7, 'user_likes': 0, 'can_publish': 1, 'repost_disabled': False}}, {'post_id': 20233, 'text': 'Игорь Кузинер, старший преподаватель департамента истории, с 2016 года исследует религиозные сообщества, а в своей кандидатской он изучил биографии старообрядцев-странников. Этой осенью учёный выпустил подкаст «Святые из подполья» для «Яндекс Книг» и «Яндекс Музыки». \\n \\nКак превратить многолетнее исследование в подкаст, пересмотреть своё отношение к старообрядцам, почему в научной работе важно сомневаться и быть не только «хорошим парнем» — в рубрике «Код учёного»: https://clck.ru/3FGEFm', 'likes': {'can_like': 1, 'count': 95, 'user_likes': 0, 'can_publish': 1, 'repost_disabled': False}}, {'post_id': 20203, 'text': 'Праздник к нам приходит! А вместе с ним — традиционный розыгрыш подарков от Питерской Вышки. Дарим 5 комплектов мерча: \\n \\n1⃣ толстовку и термокружку; \\n2⃣ свитшот и шапку; \\n3⃣ термокружку и портативную зарядку; \\n4⃣ плед и термокружку; \\n5⃣ новогодний набор с кружкой, чаем, гирляндой и свечкой. \\n \\nЧтобы принять участие: \\n \\n— убедитесь, что вы подписаны на сообщество [club299|Питерской Вышки]; \\n— поставьте лайк этой записи; \\n— расскажите в комментариях, чем запомнился уходящий год: какие хорошие события произошли с вами в 2024 и чего удалось достичь. \\n \\nКомментарий нужно оставить до 23:59 18 декабря. 19 декабря выберем победителей с помощью генератора случайных чисел. Участвовать в розыгрыше могут студенты бакалавриата и магистратуры НИУ ВШЭ — Санкт-Петербург любого года обучения. Удачи! ✨', 'likes': {'can_like': 1, 'count': 231, 'user_likes': 0, 'can_publish': 1, 'repost_disabled': False}}, {'post_id': 20202, 'text': 'Конец декабря — время показать, на что способен каждый из нас 💪🏻\\n\\nСобраться с силами помогут мероприятия недели: последняя в сезоне игра баскетбольной команды, первый регулярный семинар историков, новогодний просмотр «Гринча» и…дедлайн СОПа! Чем ещё порадует новая неделя — рассказываем в дайджесте: https://vk.cc/cG5i8R', 'likes': {'can_like': 1, 'count': 4, 'user_likes': 0, 'can_publish': 1, 'repost_disabled': False}}, {'post_id': 20200, 'text': '1–2 февраля в Питерской Вышке пройдёт ежегодная Зимняя школа: для тех, кто планирует поступать в магистратуру в 2025 году, хочет сменить профессиональную траекторию или сомневается, стоит ли получать степень магистра. \\n \\nВы сможете выбрать подходящую программу, проконсультироваться по подготовке к экзаменам и портфолио; узнать про поступление по олимпиадам и конкурсам. Все участники получат сертификат, который даёт дополнительные баллы при поступлении в магистратуру Питерской Вышки. \\n \\nРегистрируйтесь на сайте: https://vk.cc/cG5gbT', 'likes': {'can_like': 1, 'count': 10, 'user_likes': 0, 'can_publish': 1, 'repost_disabled': False}}, {'post_id': 20197, 'text': '', 'likes': {'can_like': 1, 'count': 74, 'user_likes': 0, 'can_publish': 1, 'repost_disabled': False}}, {'post_id': 20196, 'text': 'В Санкт-Петербурге прошёл демо-день Инженерно-математической школы — совместного проекта VK и НИУ ВШЭ 🚀\\n\\nСтуденты из питерского и московского кампусов Вышки посетили офис компании в Доме Зингера, участвовали в IT-квизе и презентовали итоговые проекты, выполненные в мастерских ИМШ: модель оценки синтеза речи, которая улучшает процесс преобразования аудио в текст, и новые функции для редактора изображений. Чем ещё запомнился демо-день — читайте в репортаже: https://clck.ru/3FDanT', 'likes': {'can_like': 1, 'count': 15, 'user_likes': 0, 'can_publish': 1, 'repost_disabled': False}}, {'post_id': 20194, 'text': 'Верный способ получить порцию новогоднего настроения — подарить его другим 🌟\\n\\nВ Питерской Вышке проходит традиционный благотворительный сбор, организованный [club212232725|Добро.Центром] .Рассказываем, как принять в нём участие ➡', 'likes': {'can_like': 1, 'count': 21, 'user_likes': 0, 'can_publish': 1, 'repost_disabled': False}}]\n",
      "\n",
      "\n"
     ]
    },
    {
     "data": {
      "image/png": "[encoded data removed]",
      "text/plain": [
       "<Figure size 640x480 with 1 Axes>"
      ]
     },
     "metadata": {},
     "output_type": "display_data"
    },
    {
     "name": "stdout",
     "output_type": "stream",
     "text": [
      "Посмортим на общую информацию: \n",
      "             post_id  like_count\n",
      "count     20.000000   20.000000\n",
      "mean   20276.150000   44.450000\n",
      "std       56.857416   54.579228\n",
      "min    20194.000000    4.000000\n",
      "25%    20202.750000    8.500000\n",
      "50%    20297.000000   21.500000\n",
      "75%    20326.500000   72.500000\n",
      "max    20337.000000  231.000000\n",
      "\n",
      "\n",
      "<class 'pandas.core.frame.DataFrame'>\n",
      "RangeIndex: 20 entries, 0 to 19\n",
      "Data columns (total 3 columns):\n",
      " #   Column      Non-Null Count  Dtype \n",
      "---  ------      --------------  ----- \n",
      " 0   post_id     20 non-null     int64 \n",
      " 1   text        20 non-null     object\n",
      " 2   like_count  20 non-null     int64 \n",
      "dtypes: int64(2), object(1)\n",
      "memory usage: 612.0+ bytes\n",
      "None\n",
      "\n",
      "\n",
      "Статистика по первым пяти постам\n",
      "   post_id                                               text  like_count\n",
      "0    20337  Уважаемые студенты, преподаватели и сотрудники...           5\n",
      "1    20336  Историки Питерской Вышки изучили почти 4000 жи...           9\n",
      "2    20335  Сегодня в Питерской Вышке началась зимняя сесс...          55\n",
      "3    20329  ☃ Подводим итоги новогоднего розыгрыша! Подарк...          18\n",
      "4    20328  Исследователи из Питерской Вышки стали победит...           7\n"
     ]
    }
   ],
   "source": [
    "def main():\n",
    "    # Введите ваш токен VK API\n",
    "    token = \"vk1.a.vW70ZdDvxtVK9YAW98sP6zThPn7FSkyYusK8txhSG3mSl3nuuI-POJXK5BuZeeW-NsV3EePdQRpIrv_WURQzqt-hgAqoOikDT02nYAUXwM84lJ3CFaWiHEniPzZZRM8b7ydA2GMv2icQbe9eks9CPapfNSUtxoemSoCwXHlK3oSf1jSgRBtnz6jZAxVBRjU8gYesb-1MF1ItK4iVe9xclg\"\n",
    "\n",
    "    # Введите ID сообщества\n",
    "    owner_id = -299\n",
    "\n",
    "    # Введите количество публикаций для скрейпинга\n",
    "    num_posts = 20\n",
    "\n",
    "    wall_data = scrape_wall_data(token, owner_id, num_posts)\n",
    "    print('Посмотрим на полученные данные:')\n",
    "    print(wall_data)\n",
    "    print('\\n')\n",
    "    if wall_data:\n",
    "        save_to_csv(wall_data)\n",
    "\n",
    "        stats(wall_data)\n",
    "    else:\n",
    "        print(\"No data\")\n",
    "\n",
    "if __name__ == \"__main__\":\n",
    "    main()"
   ]
  }
 ],
 "metadata": {
  "kernelspec": {
   "display_name": "Python 3 (ipykernel)",
   "language": "python",
   "name": "python3"
  },
  "language_info": {
   "codemirror_mode": {
    "name": "ipython",
    "version": 3
   },
   "file_extension": ".py",
   "mimetype": "text/x-python",
   "name": "python",
   "nbconvert_exporter": "python",
   "pygments_lexer": "ipython3",
   "version": "3.12.6"
  }
 },
 "nbformat": 4,
 "nbformat_minor": 5
}
