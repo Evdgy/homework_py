{
 "cells": [
  {
   "cell_type": "code",
   "execution_count": 35,
   "id": "4d115f49",
   "metadata": {},
   "outputs": [
    {
     "name": "stdout",
     "output_type": "stream",
     "text": [
      "Defaulting to user installation because normal site-packages is not writeable\n",
      "Requirement already satisfied: pandas in c:\\users\\elena\\appdata\\local\\packages\\pythonsoftwarefoundation.python.3.13_qbz5n2kfra8p0\\localcache\\local-packages\\python313\\site-packages (2.3.0)\n",
      "Requirement already satisfied: numpy in c:\\users\\elena\\appdata\\local\\packages\\pythonsoftwarefoundation.python.3.13_qbz5n2kfra8p0\\localcache\\local-packages\\python313\\site-packages (2.3.0)\n",
      "Requirement already satisfied: matplotlib in c:\\users\\elena\\appdata\\local\\packages\\pythonsoftwarefoundation.python.3.13_qbz5n2kfra8p0\\localcache\\local-packages\\python313\\site-packages (3.10.3)\n",
      "Requirement already satisfied: seaborn in c:\\users\\elena\\appdata\\local\\packages\\pythonsoftwarefoundation.python.3.13_qbz5n2kfra8p0\\localcache\\local-packages\\python313\\site-packages (0.13.2)\n",
      "Requirement already satisfied: scikit-learn in c:\\users\\elena\\appdata\\local\\packages\\pythonsoftwarefoundation.python.3.13_qbz5n2kfra8p0\\localcache\\local-packages\\python313\\site-packages (1.7.0)\n",
      "Requirement already satisfied: python-dateutil>=2.8.2 in c:\\users\\elena\\appdata\\local\\packages\\pythonsoftwarefoundation.python.3.13_qbz5n2kfra8p0\\localcache\\local-packages\\python313\\site-packages (from pandas) (2.9.0.post0)\n",
      "Requirement already satisfied: pytz>=2020.1 in c:\\users\\elena\\appdata\\local\\packages\\pythonsoftwarefoundation.python.3.13_qbz5n2kfra8p0\\localcache\\local-packages\\python313\\site-packages (from pandas) (2025.2)\n",
      "Requirement already satisfied: tzdata>=2022.7 in c:\\users\\elena\\appdata\\local\\packages\\pythonsoftwarefoundation.python.3.13_qbz5n2kfra8p0\\localcache\\local-packages\\python313\\site-packages (from pandas) (2025.2)\n",
      "Requirement already satisfied: contourpy>=1.0.1 in c:\\users\\elena\\appdata\\local\\packages\\pythonsoftwarefoundation.python.3.13_qbz5n2kfra8p0\\localcache\\local-packages\\python313\\site-packages (from matplotlib) (1.3.2)\n",
      "Requirement already satisfied: cycler>=0.10 in c:\\users\\elena\\appdata\\local\\packages\\pythonsoftwarefoundation.python.3.13_qbz5n2kfra8p0\\localcache\\local-packages\\python313\\site-packages (from matplotlib) (0.12.1)\n",
      "Requirement already satisfied: fonttools>=4.22.0 in c:\\users\\elena\\appdata\\local\\packages\\pythonsoftwarefoundation.python.3.13_qbz5n2kfra8p0\\localcache\\local-packages\\python313\\site-packages (from matplotlib) (4.58.2)\n",
      "Requirement already satisfied: kiwisolver>=1.3.1 in c:\\users\\elena\\appdata\\local\\packages\\pythonsoftwarefoundation.python.3.13_qbz5n2kfra8p0\\localcache\\local-packages\\python313\\site-packages (from matplotlib) (1.4.8)\n",
      "Requirement already satisfied: packaging>=20.0 in c:\\users\\elena\\appdata\\local\\packages\\pythonsoftwarefoundation.python.3.13_qbz5n2kfra8p0\\localcache\\local-packages\\python313\\site-packages (from matplotlib) (25.0)\n",
      "Requirement already satisfied: pillow>=8 in c:\\users\\elena\\appdata\\local\\packages\\pythonsoftwarefoundation.python.3.13_qbz5n2kfra8p0\\localcache\\local-packages\\python313\\site-packages (from matplotlib) (11.2.1)\n",
      "Requirement already satisfied: pyparsing>=2.3.1 in c:\\users\\elena\\appdata\\local\\packages\\pythonsoftwarefoundation.python.3.13_qbz5n2kfra8p0\\localcache\\local-packages\\python313\\site-packages (from matplotlib) (3.2.3)\n",
      "Requirement already satisfied: scipy>=1.8.0 in c:\\users\\elena\\appdata\\local\\packages\\pythonsoftwarefoundation.python.3.13_qbz5n2kfra8p0\\localcache\\local-packages\\python313\\site-packages (from scikit-learn) (1.15.3)\n",
      "Requirement already satisfied: joblib>=1.2.0 in c:\\users\\elena\\appdata\\local\\packages\\pythonsoftwarefoundation.python.3.13_qbz5n2kfra8p0\\localcache\\local-packages\\python313\\site-packages (from scikit-learn) (1.5.1)\n",
      "Requirement already satisfied: threadpoolctl>=3.1.0 in c:\\users\\elena\\appdata\\local\\packages\\pythonsoftwarefoundation.python.3.13_qbz5n2kfra8p0\\localcache\\local-packages\\python313\\site-packages (from scikit-learn) (3.6.0)\n",
      "Requirement already satisfied: six>=1.5 in c:\\users\\elena\\appdata\\local\\packages\\pythonsoftwarefoundation.python.3.13_qbz5n2kfra8p0\\localcache\\local-packages\\python313\\site-packages (from python-dateutil>=2.8.2->pandas) (1.17.0)\n",
      "Note: you may need to restart the kernel to use updated packages.\n"
     ]
    },
    {
     "name": "stderr",
     "output_type": "stream",
     "text": [
      "\n",
      "[notice] A new release of pip is available: 25.0.1 -> 25.1.1\n",
      "[notice] To update, run: C:\\Users\\Elena\\AppData\\Local\\Microsoft\\WindowsApps\\PythonSoftwareFoundation.Python.3.13_qbz5n2kfra8p0\\python.exe -m pip install --upgrade pip\n"
     ]
    }
   ],
   "source": [
    "%pip install pandas numpy matplotlib seaborn scikit-learn"
   ]
  },
  {
   "cell_type": "code",
   "execution_count": 36,
   "id": "971de100",
   "metadata": {},
   "outputs": [],
   "source": [
    "# Импорт необходимых библиотек\n",
    "\n",
    "import pandas as pd\n",
    "import numpy as np\n",
    "import seaborn as sns\n",
    "import matplotlib.pyplot as plt\n",
    "\n",
    "from sklearn.model_selection import train_test_split\n",
    "from sklearn.preprocessing import StandardScaler, LabelEncoder\n",
    "from sklearn.impute import SimpleImputer\n",
    "from sklearn.linear_model import LogisticRegression\n",
    "from sklearn.naive_bayes import GaussianNB\n",
    "from sklearn.metrics import accuracy_score, classification_report, confusion_matrix"
   ]
  },
  {
   "cell_type": "code",
   "execution_count": 52,
   "id": "8f4522d4",
   "metadata": {},
   "outputs": [
    {
     "name": "stdout",
     "output_type": "stream",
     "text": [
      "   PassengerId  Survived  Pclass  \\\n",
      "0            1         0       3   \n",
      "1            2         1       1   \n",
      "2            3         1       3   \n",
      "3            4         1       1   \n",
      "4            5         0       3   \n",
      "\n",
      "                                                Name     Sex   Age  SibSp  \\\n",
      "0                            Braund, Mr. Owen Harris    male  22.0      1   \n",
      "1  Cumings, Mrs. John Bradley (Florence Briggs Th...  female  38.0      1   \n",
      "2                             Heikkinen, Miss. Laina  female  26.0      0   \n",
      "3       Futrelle, Mrs. Jacques Heath (Lily May Peel)  female  35.0      1   \n",
      "4                           Allen, Mr. William Henry    male  35.0      0   \n",
      "\n",
      "   Parch            Ticket     Fare Cabin Embarked  \n",
      "0      0         A/5 21171   7.2500   NaN        S  \n",
      "1      0          PC 17599  71.2833   C85        C  \n",
      "2      0  STON/O2. 3101282   7.9250   NaN        S  \n",
      "3      0            113803  53.1000  C123        S  \n",
      "4      0            373450   8.0500   NaN        S  \n"
     ]
    }
   ],
   "source": [
    "# Загрузка данных\n",
    "url = \"https://raw.githubusercontent.com/datasciencedojo/datasets/master/titanic.csv\"\n",
    "df = pd.read_csv(url)\n",
    "\n",
    "print(df.head())"
   ]
  },
  {
   "cell_type": "code",
   "execution_count": 53,
   "id": "8ca5a5e5",
   "metadata": {},
   "outputs": [
    {
     "name": "stdout",
     "output_type": "stream",
     "text": [
      "<class 'pandas.core.frame.DataFrame'>\n",
      "RangeIndex: 891 entries, 0 to 890\n",
      "Data columns (total 12 columns):\n",
      " #   Column       Non-Null Count  Dtype  \n",
      "---  ------       --------------  -----  \n",
      " 0   PassengerId  891 non-null    int64  \n",
      " 1   Survived     891 non-null    int64  \n",
      " 2   Pclass       891 non-null    int64  \n",
      " 3   Name         891 non-null    object \n",
      " 4   Sex          891 non-null    object \n",
      " 5   Age          714 non-null    float64\n",
      " 6   SibSp        891 non-null    int64  \n",
      " 7   Parch        891 non-null    int64  \n",
      " 8   Ticket       891 non-null    object \n",
      " 9   Fare         891 non-null    float64\n",
      " 10  Cabin        204 non-null    object \n",
      " 11  Embarked     889 non-null    object \n",
      "dtypes: float64(2), int64(5), object(5)\n",
      "memory usage: 83.7+ KB\n",
      "None\n"
     ]
    }
   ],
   "source": [
    "# Анализ данных\n",
    "print(df.info())"
   ]
  },
  {
   "cell_type": "markdown",
   "id": "c4c0c3be",
   "metadata": {},
   "source": [
    "В каких столбцах есть NaN'ы?\n",
    "Ответ: NaN'ы присутствуют в столбцах 'Age', 'Cabin' и 'Embarked'."
   ]
  },
  {
   "cell_type": "markdown",
   "id": "80f3a13d",
   "metadata": {},
   "source": [
    "Ориентируясь на количество NaN'ов в столбцах, определите, какие строки \"не жалко\" выбросить, а какие лучше сохранить.\n",
    "Ответ: cтолбец 'Age' имеет 177 пустых значений.Поскольку 'Age' может быть важным признаком для предсказания выживаемости на Титанике, поэтому выбрасывать все строки с пропущенными значениями в 'Age' может привести к потере значительной части данных.\n",
    "Столбец 'Cabin' имеет только 204 непустых значения из 891. Это означает, что 687 значений пропущены.690 значений в 'Cabin' отсутствуют. Это очень большое количество пропусков. В таком случае, скорее всего, этот столбец лучше будет удалить, так как он содержит слишком много пропущенных данных"
   ]
  },
  {
   "cell_type": "code",
   "execution_count": 54,
   "id": "1d2af188",
   "metadata": {},
   "outputs": [
    {
     "data": {
      "image/png": "[encoded data removed]",
      "text/plain": [
       "<Figure size 600x400 with 1 Axes>"
      ]
     },
     "metadata": {},
     "output_type": "display_data"
    }
   ],
   "source": [
    "# Визуализация распределение классов по столбцу Survived\n",
    "plt.figure(figsize=(6, 4))\n",
    "sns.countplot(x='Survived', data=df)\n",
    "plt.title('Распределение классов по столбцу Survived')\n",
    "plt.xlabel('Выжил (0 = Нет, 1 = Да)')\n",
    "plt.ylabel('Количество')\n",
    "plt.show()"
   ]
  },
  {
   "cell_type": "code",
   "execution_count": 55,
   "id": "c4439be7",
   "metadata": {},
   "outputs": [
    {
     "name": "stdout",
     "output_type": "stream",
     "text": [
      "Количество объектов в каждом классе 'Survived':\n",
      "Survived\n",
      "0    549\n",
      "1    342\n",
      "Name: count, dtype: int64\n",
      "\n",
      "Процентное соотношение классов 'Survived':\n",
      "Survived\n",
      "0    0.616162\n",
      "1    0.383838\n",
      "Name: proportion, dtype: float64\n",
      "\n",
      "Выживших (1): 342 (38.38%)\n",
      "Невыживших (0): 549 (61.62%)\n"
     ]
    }
   ],
   "source": [
    "# Количество каждого класса в столбце 'Survived'\n",
    "class_counts = df['Survived'].value_counts()\n",
    "print(\"Количество объектов в каждом классе 'Survived':\")\n",
    "print(class_counts)\n",
    "\n",
    "class_proportions = df['Survived'].value_counts(normalize=True)\n",
    "print(\"\\nПроцентное соотношение классов 'Survived':\")\n",
    "print(class_proportions)\n",
    "\n",
    "survived_0_count = class_counts[0]\n",
    "survived_1_count = class_counts[1]\n",
    "total_passengers = len(df)\n",
    "\n",
    "print(f\"\\nВыживших (1): {survived_1_count} ({survived_1_count / total_passengers:.2%})\")\n",
    "print(f\"Невыживших (0): {survived_0_count} ({survived_0_count / total_passengers:.2%})\")"
   ]
  },
  {
   "cell_type": "markdown",
   "id": "58339509",
   "metadata": {},
   "source": [
    "Сбалансированы ли классы в нашем датасете?\n",
    "Ответ: Нет, классы в столбце 'Survived' не сбалансированы. Судя по графику (и по процентному соотношению), количество невыживших (0) превышает количество выживших (1)."
   ]
  },
  {
   "cell_type": "markdown",
   "id": "02dd4803",
   "metadata": {},
   "source": [
    "Столбцы с категориальными данными"
   ]
  },
  {
   "cell_type": "code",
   "execution_count": 56,
   "id": "6b72deb2",
   "metadata": {},
   "outputs": [
    {
     "name": "stdout",
     "output_type": "stream",
     "text": [
      "\n",
      "Столбцы с категориальными данными: ['Name', 'Sex', 'Ticket', 'Cabin', 'Embarked', 'Pclass']\n"
     ]
    }
   ],
   "source": [
    "categorical_columns = df.select_dtypes(include='object').columns.tolist()\n",
    "categorical_columns.append('Pclass')\n",
    "print(f\"\\nСтолбцы с категориальными данными: {categorical_columns}\") \n",
    "# Ответ: большинство алгоритмов машинного обучения работают только с числовыми данными. Категориальные данные не могут быть напрямую поданы в такие модели, их необходимо преобразовать в числовой формат."
   ]
  },
  {
   "cell_type": "markdown",
   "id": "4c4e2c9d",
   "metadata": {},
   "source": [
    "Требуется ли балансировка классов?\n",
    "Ответ: балансировка классов, скорее всего, потребуется. Как мы выяснили ранее, классы в столбце Survived несбалансированы (невыживших значительно больше).\n",
    "\n",
    "Какие столбцы нужно дропнуть?\n",
    "\n",
    "Ответ: Cabin (содержит слишком много пропущенных значений), Name и Ticket (содержит уникальные значения, не несут информации для модели).\n",
    "\n",
    "Какие данные нужно преобразовать к виду числовых?\n",
    "\n",
    "Ответ: категориальные столбцы (Sex, Embarked, Pclass)."
   ]
  },
  {
   "cell_type": "code",
   "execution_count": 57,
   "id": "32abd1f8",
   "metadata": {},
   "outputs": [
    {
     "name": "stdout",
     "output_type": "stream",
     "text": [
      "   Survived  Pclass     Sex   Age  SibSp  Parch     Fare Embarked\n",
      "0         0       3    male  22.0      1      0   7.2500        S\n",
      "1         1       1  female  38.0      1      0  71.2833        C\n",
      "2         1       3  female  26.0      0      0   7.9250        S\n",
      "3         1       1  female  35.0      1      0  53.1000        S\n",
      "4         0       3    male  35.0      0      0   8.0500        S\n"
     ]
    }
   ],
   "source": [
    "# Создаем новый датафрейм с нужными данными\n",
    "columns_to_drop = ['Cabin', 'Name', 'Ticket', 'PassengerId'] # удаляем ненужные столбцы \n",
    "\n",
    "df = df.drop(columns=columns_to_drop)\n",
    "\n",
    "# Выведем первые 5 строк нового датафрейма\n",
    "print(df_cleaned.head())"
   ]
  },
  {
   "cell_type": "code",
   "execution_count": 58,
   "id": "799ce165",
   "metadata": {},
   "outputs": [
    {
     "data": {
      "text/html": [
       "<div>\n",
       "<style scoped>\n",
       "    .dataframe tbody tr th:only-of-type {\n",
       "        vertical-align: middle;\n",
       "    }\n",
       "\n",
       "    .dataframe tbody tr th {\n",
       "        vertical-align: top;\n",
       "    }\n",
       "\n",
       "    .dataframe thead th {\n",
       "        text-align: right;\n",
       "    }\n",
       "</style>\n",
       "<table border=\"1\" class=\"dataframe\">\n",
       "  <thead>\n",
       "    <tr style=\"text-align: right;\">\n",
       "      <th></th>\n",
       "      <th>Survived</th>\n",
       "      <th>Pclass</th>\n",
       "      <th>Sex</th>\n",
       "      <th>Age</th>\n",
       "      <th>SibSp</th>\n",
       "      <th>Parch</th>\n",
       "      <th>Fare</th>\n",
       "      <th>Embarked</th>\n",
       "    </tr>\n",
       "  </thead>\n",
       "  <tbody>\n",
       "    <tr>\n",
       "      <th>0</th>\n",
       "      <td>0</td>\n",
       "      <td>3</td>\n",
       "      <td>1</td>\n",
       "      <td>22.0</td>\n",
       "      <td>1</td>\n",
       "      <td>0</td>\n",
       "      <td>7.2500</td>\n",
       "      <td>S</td>\n",
       "    </tr>\n",
       "    <tr>\n",
       "      <th>1</th>\n",
       "      <td>1</td>\n",
       "      <td>1</td>\n",
       "      <td>0</td>\n",
       "      <td>38.0</td>\n",
       "      <td>1</td>\n",
       "      <td>0</td>\n",
       "      <td>71.2833</td>\n",
       "      <td>C</td>\n",
       "    </tr>\n",
       "    <tr>\n",
       "      <th>2</th>\n",
       "      <td>1</td>\n",
       "      <td>3</td>\n",
       "      <td>0</td>\n",
       "      <td>26.0</td>\n",
       "      <td>0</td>\n",
       "      <td>0</td>\n",
       "      <td>7.9250</td>\n",
       "      <td>S</td>\n",
       "    </tr>\n",
       "    <tr>\n",
       "      <th>3</th>\n",
       "      <td>1</td>\n",
       "      <td>1</td>\n",
       "      <td>0</td>\n",
       "      <td>35.0</td>\n",
       "      <td>1</td>\n",
       "      <td>0</td>\n",
       "      <td>53.1000</td>\n",
       "      <td>S</td>\n",
       "    </tr>\n",
       "    <tr>\n",
       "      <th>4</th>\n",
       "      <td>0</td>\n",
       "      <td>3</td>\n",
       "      <td>1</td>\n",
       "      <td>35.0</td>\n",
       "      <td>0</td>\n",
       "      <td>0</td>\n",
       "      <td>8.0500</td>\n",
       "      <td>S</td>\n",
       "    </tr>\n",
       "  </tbody>\n",
       "</table>\n",
       "</div>"
      ],
      "text/plain": [
       "   Survived  Pclass  Sex   Age  SibSp  Parch     Fare Embarked\n",
       "0         0       3    1  22.0      1      0   7.2500        S\n",
       "1         1       1    0  38.0      1      0  71.2833        C\n",
       "2         1       3    0  26.0      0      0   7.9250        S\n",
       "3         1       1    0  35.0      1      0  53.1000        S\n",
       "4         0       3    1  35.0      0      0   8.0500        S"
      ]
     },
     "execution_count": 58,
     "metadata": {},
     "output_type": "execute_result"
    }
   ],
   "source": [
    "# образец кодирования столбца 'Sex' с LabelEncoder\n",
    "df['Sex'] = LabelEncoder().fit_transform(df['Sex'])  # 0 = female, 1 = male\n",
    "df.head()"
   ]
  },
  {
   "cell_type": "code",
   "execution_count": 59,
   "id": "758a3bcd",
   "metadata": {},
   "outputs": [
    {
     "name": "stdout",
     "output_type": "stream",
     "text": [
      "Окончательный обработанный датафрейм:\n",
      "   Survived  Sex   Age  SibSp  Parch     Fare  Embarked_C  Embarked_Q  \\\n",
      "0         0    1  22.0      1      0   7.2500       False       False   \n",
      "1         1    0  38.0      1      0  71.2833        True       False   \n",
      "2         1    0  26.0      0      0   7.9250       False       False   \n",
      "3         1    0  35.0      1      0  53.1000       False       False   \n",
      "4         0    1  35.0      0      0   8.0500       False       False   \n",
      "\n",
      "   Embarked_S  Pclass_1  Pclass_2  Pclass_3  \n",
      "0        True         0         0         1  \n",
      "1       False         1         0         0  \n",
      "2        True         0         0         1  \n",
      "3        True         1         0         0  \n",
      "4        True         0         0         1  \n"
     ]
    }
   ],
   "source": [
    "# Кодирование 'Embarked' с get_dummies (One-Hot Encoding)\n",
    "df = pd.get_dummies(df, columns=['Embarked'])  # one-hot encoding\n",
    "\n",
    "df = pd.get_dummies(df, columns=['Pclass'], prefix='Pclass', dtype=int)\n",
    "\n",
    "\n",
    "print(\"Окончательный обработанный датафрейм:\")\n",
    "print(df.head())"
   ]
  },
  {
   "cell_type": "markdown",
   "id": "6118206d",
   "metadata": {},
   "source": [
    "Изучите документацию и найдите дополнительные материалы, ответьте на вопрос: чем LabelEncoder отличается от get_dummies и когда какой метод лучше использовать?\n",
    "Ответ: LabelEncoder преобразует категориальные метки в числа и создает один столбец с этими числовыми значениями. One-hot-encoding преобразует каждую категориальную метку в новый бинарный столбец, каждый столбец получает название от значение: \"Columns in the output are each named after a value\". Get_dummies не создает искусственный порядок, каждая категория является независимой (LabelEncoding создает искусственный порядок). "
   ]
  },
  {
   "cell_type": "markdown",
   "id": "ff0e308f",
   "metadata": {},
   "source": [
    "LabelEncoder лучше использовать в задачах классификации, как уже была представлена классификация Survived в Титанике (0 или 1). Для признаков, которые имеют порядок 0<1<2 и в случаях, когжа признаков слишком много, т.к. One-Hot Encoding создат много столбцов, что повлияет на производительность. \n",
    "\n",
    "Итог:\n",
    "Выбор между LabelEncoder и get_dummies зависит от типа категориального признака (порядковый или номинальный) и типа используемой модели машинного обучения. Для номинальных признаков и моделей, чувствительных к порядку, get_dummies является более безопасным выбором. LabelEncoder лучше использовать для целевой переменной или для порядковых признаков."
   ]
  },
  {
   "cell_type": "code",
   "execution_count": 60,
   "id": "81618949",
   "metadata": {},
   "outputs": [],
   "source": [
    "# Заполнение пропусков\n",
    "# заполняем пропуски в столбце Age\n",
    "imputer = SimpleImputer(strategy=\"mean\")\n",
    "df['Age'] = imputer.fit_transform(df[['Age']])"
   ]
  },
  {
   "cell_type": "code",
   "execution_count": null,
   "id": "5c6acc02",
   "metadata": {},
   "outputs": [],
   "source": [
    "Изучите документацию sklearn и ответьте на вопросы: какие стратегии доступы для работы с методом SimpleImputer? Чем они отличаются? Какие стратегии подойдут для работы с категориальными данными?\n",
    "\n",
    "Ответ:согласно документации, доступны следующие стратегии:\"mean\", \"median\",\"most_frequent\",\"constant\". Каждая стратегия определяет, каким образом будут заполняться NaNы в столбцах.\n",
    "\n",
    "strategy=\"mean\" Заменяет пропущенные значения в каждом столбце на среднее арифметическое значение всех непустых значений в этом столбце.\n",
    "strategy=\"median\" Заменяет пропущенные значения в каждом столбце на медиану всех непустых значений в этом столбце.\n",
    "strategy=\"most_frequent\" Заменяет пропущенные значения в каждом столбце на наиболее часто встречающееся значение всех непустых значений в этом столбце.\n",
    "strategy=\"constant\" Заменяет пропущенные значения в каждом столбце на заданное пользователем постоянное значение. Это значение указывается в параметре fill_value.\n",
    "\n",
    "strategy=\"most_frequent\": наиболее распространенная и  стратегия для заполнения пропусков в категориальных столбцах. Она позволяет сохранить существующие категории и заполнить пропуски наиболее типичным значением.\n",
    "strategy=\"constant\": стратегия также отлично подходит для категориальных данных, чтобы заполнить пропуски специальной строкой, например, \"Другое\"."
   ]
  },
  {
   "cell_type": "code",
   "execution_count": 61,
   "id": "a04df51a",
   "metadata": {},
   "outputs": [
    {
     "data": {
      "text/html": [
       "<div>\n",
       "<style scoped>\n",
       "    .dataframe tbody tr th:only-of-type {\n",
       "        vertical-align: middle;\n",
       "    }\n",
       "\n",
       "    .dataframe tbody tr th {\n",
       "        vertical-align: top;\n",
       "    }\n",
       "\n",
       "    .dataframe thead th {\n",
       "        text-align: right;\n",
       "    }\n",
       "</style>\n",
       "<table border=\"1\" class=\"dataframe\">\n",
       "  <thead>\n",
       "    <tr style=\"text-align: right;\">\n",
       "      <th></th>\n",
       "      <th>Survived</th>\n",
       "      <th>Sex</th>\n",
       "      <th>Age</th>\n",
       "      <th>SibSp</th>\n",
       "      <th>Parch</th>\n",
       "      <th>Fare</th>\n",
       "      <th>Embarked_C</th>\n",
       "      <th>Embarked_Q</th>\n",
       "      <th>Embarked_S</th>\n",
       "      <th>Pclass_1</th>\n",
       "      <th>Pclass_2</th>\n",
       "      <th>Pclass_3</th>\n",
       "      <th>FamilySize</th>\n",
       "      <th>IsAlone</th>\n",
       "    </tr>\n",
       "  </thead>\n",
       "  <tbody>\n",
       "    <tr>\n",
       "      <th>0</th>\n",
       "      <td>0</td>\n",
       "      <td>1</td>\n",
       "      <td>22.0</td>\n",
       "      <td>1</td>\n",
       "      <td>0</td>\n",
       "      <td>7.2500</td>\n",
       "      <td>False</td>\n",
       "      <td>False</td>\n",
       "      <td>True</td>\n",
       "      <td>0</td>\n",
       "      <td>0</td>\n",
       "      <td>1</td>\n",
       "      <td>2</td>\n",
       "      <td>0</td>\n",
       "    </tr>\n",
       "    <tr>\n",
       "      <th>1</th>\n",
       "      <td>1</td>\n",
       "      <td>0</td>\n",
       "      <td>38.0</td>\n",
       "      <td>1</td>\n",
       "      <td>0</td>\n",
       "      <td>71.2833</td>\n",
       "      <td>True</td>\n",
       "      <td>False</td>\n",
       "      <td>False</td>\n",
       "      <td>1</td>\n",
       "      <td>0</td>\n",
       "      <td>0</td>\n",
       "      <td>2</td>\n",
       "      <td>0</td>\n",
       "    </tr>\n",
       "    <tr>\n",
       "      <th>2</th>\n",
       "      <td>1</td>\n",
       "      <td>0</td>\n",
       "      <td>26.0</td>\n",
       "      <td>0</td>\n",
       "      <td>0</td>\n",
       "      <td>7.9250</td>\n",
       "      <td>False</td>\n",
       "      <td>False</td>\n",
       "      <td>True</td>\n",
       "      <td>0</td>\n",
       "      <td>0</td>\n",
       "      <td>1</td>\n",
       "      <td>1</td>\n",
       "      <td>1</td>\n",
       "    </tr>\n",
       "    <tr>\n",
       "      <th>3</th>\n",
       "      <td>1</td>\n",
       "      <td>0</td>\n",
       "      <td>35.0</td>\n",
       "      <td>1</td>\n",
       "      <td>0</td>\n",
       "      <td>53.1000</td>\n",
       "      <td>False</td>\n",
       "      <td>False</td>\n",
       "      <td>True</td>\n",
       "      <td>1</td>\n",
       "      <td>0</td>\n",
       "      <td>0</td>\n",
       "      <td>2</td>\n",
       "      <td>0</td>\n",
       "    </tr>\n",
       "    <tr>\n",
       "      <th>4</th>\n",
       "      <td>0</td>\n",
       "      <td>1</td>\n",
       "      <td>35.0</td>\n",
       "      <td>0</td>\n",
       "      <td>0</td>\n",
       "      <td>8.0500</td>\n",
       "      <td>False</td>\n",
       "      <td>False</td>\n",
       "      <td>True</td>\n",
       "      <td>0</td>\n",
       "      <td>0</td>\n",
       "      <td>1</td>\n",
       "      <td>1</td>\n",
       "      <td>1</td>\n",
       "    </tr>\n",
       "  </tbody>\n",
       "</table>\n",
       "</div>"
      ],
      "text/plain": [
       "   Survived  Sex   Age  SibSp  Parch     Fare  Embarked_C  Embarked_Q  \\\n",
       "0         0    1  22.0      1      0   7.2500       False       False   \n",
       "1         1    0  38.0      1      0  71.2833        True       False   \n",
       "2         1    0  26.0      0      0   7.9250       False       False   \n",
       "3         1    0  35.0      1      0  53.1000       False       False   \n",
       "4         0    1  35.0      0      0   8.0500       False       False   \n",
       "\n",
       "   Embarked_S  Pclass_1  Pclass_2  Pclass_3  FamilySize  IsAlone  \n",
       "0        True         0         0         1           2        0  \n",
       "1       False         1         0         0           2        0  \n",
       "2        True         0         0         1           1        1  \n",
       "3        True         1         0         0           2        0  \n",
       "4        True         0         0         1           1        1  "
      ]
     },
     "execution_count": 61,
     "metadata": {},
     "output_type": "execute_result"
    }
   ],
   "source": [
    "# Добавим фичу Family size = SibSp + Parch + 1 (единица обозначает самого пассажира)\n",
    "df['FamilySize'] = df['SibSp'] + df['Parch'] + 1\n",
    "\n",
    "# Фича Alone для тех, кто путешествует один\n",
    "df['IsAlone'] = (df['FamilySize'] == 1).astype(int)\n",
    "\n",
    "df.head()"
   ]
  },
  {
   "cell_type": "code",
   "execution_count": 62,
   "id": "89de36a1",
   "metadata": {},
   "outputs": [
    {
     "name": "stdout",
     "output_type": "stream",
     "text": [
      "\n",
      "Уникальные значения в 'AgeGroup':\n",
      "AgeGroup\n",
      "Adult       747\n",
      "Teenager     70\n",
      "Child        69\n",
      "Senior        5\n",
      "Name: count, dtype: int64\n",
      "   Survived  Sex   Age  SibSp  Parch     Fare  Embarked_C  Embarked_Q  \\\n",
      "0         0    1  22.0      1      0   7.2500       False       False   \n",
      "1         1    0  38.0      1      0  71.2833        True       False   \n",
      "2         1    0  26.0      0      0   7.9250       False       False   \n",
      "3         1    0  35.0      1      0  53.1000       False       False   \n",
      "4         0    1  35.0      0      0   8.0500       False       False   \n",
      "\n",
      "   Embarked_S  Pclass_1  Pclass_2  Pclass_3  FamilySize  IsAlone AgeGroup  \n",
      "0        True         0         0         1           2        0    Adult  \n",
      "1       False         1         0         0           2        0    Adult  \n",
      "2        True         0         0         1           1        1    Adult  \n",
      "3        True         1         0         0           2        0    Adult  \n",
      "4        True         0         0         1           1        1    Adult  \n"
     ]
    }
   ],
   "source": [
    "# Добавление AgeGroup\n",
    "\n",
    "bins = [0, 12, 18, 70, np.inf] # Дети (0-12), Подростки (13-18), Взрослые (19-60), Пожилые (71+)\n",
    "labels = ['Child', 'Teenager', 'Adult', 'Senior']\n",
    "\n",
    "df['AgeGroup'] = pd.cut(df['Age'], bins=bins, labels=labels, right=True)\n",
    "\n",
    "print(\"\\nУникальные значения в 'AgeGroup':\")\n",
    "print(df['AgeGroup'].value_counts())\n",
    "print(df.head())"
   ]
  },
  {
   "cell_type": "code",
   "execution_count": null,
   "id": "83a9b90d",
   "metadata": {},
   "outputs": [],
   "source": [
    "# Преобразование AgeGroup в числовые значения с помощью get_dummies\n",
    "df = pd.get_dummies(df, columns=['AgeGroup'], prefix='AgeGroup', dtype=int)"
   ]
  },
  {
   "cell_type": "code",
   "execution_count": 66,
   "id": "1cb8efaf",
   "metadata": {},
   "outputs": [
    {
     "name": "stdout",
     "output_type": "stream",
     "text": [
      "Размер обучающей выборки X_train: (712, 17)\n",
      "Размер тестовой выборки X_test: (179, 17)\n",
      "Размер обучающей выборки y_train: (712,)\n",
      "Размер тестовой выборки y_test: (179,)\n",
      "\n",
      "Распределение классов в y:\n",
      "Survived\n",
      "0    0.616162\n",
      "1    0.383838\n",
      "Name: proportion, dtype: float64\n",
      "\n",
      "Распределение классов в y_train:\n",
      "Survived\n",
      "0    0.616573\n",
      "1    0.383427\n",
      "Name: proportion, dtype: float64\n",
      "\n",
      "Распределение классов в y_test:\n",
      "Survived\n",
      "0    0.614525\n",
      "1    0.385475\n",
      "Name: proportion, dtype: float64\n"
     ]
    }
   ],
   "source": [
    "# Обучени \n",
    "X = df.drop(columns=['Survived']) # данные = все столбцы кроме метки Survived\n",
    "y = df['Survived'] # метки = только столбец Survived\n",
    "\n",
    "X_train, X_test, y_train, y_test = train_test_split(X, y, test_size=0.20, random_state=42, stratify=y)\n",
    "\n",
    "print(\"Размер обучающей выборки X_train:\", X_train.shape)\n",
    "print(\"Размер тестовой выборки X_test:\", X_test.shape)\n",
    "print(\"Размер обучающей выборки y_train:\", y_train.shape)\n",
    "print(\"Размер тестовой выборки y_test:\", y_test.shape)\n",
    "\n",
    "print(\"\\nРаспределение классов в y:\")\n",
    "print(y.value_counts(normalize=True))\n",
    "print(\"\\nРаспределение классов в y_train:\")\n",
    "print(y_train.value_counts(normalize=True))\n",
    "print(\"\\nРаспределение классов в y_test:\")\n",
    "print(y_test.value_counts(normalize=True))"
   ]
  },
  {
   "cell_type": "markdown",
   "id": "bc39c772",
   "metadata": {},
   "source": [
    "Какую роль играет StandardScaler в работе с логистической регрессией?\n",
    "Ответ: StandardScaler перед обучением логистической регрессии ускоряет процесс обучения, повышения стабильности модели, особенно при использовании регуляризации, улучшения интерпретируемости весов/коэффициентов модели."
   ]
  },
  {
   "cell_type": "code",
   "execution_count": 67,
   "id": "0e8ce662",
   "metadata": {},
   "outputs": [],
   "source": [
    "scaler = StandardScaler()\n",
    "X_train_scaled = scaler.fit_transform(X_train)\n",
    "X_test_scaled = scaler.transform(X_test)"
   ]
  },
  {
   "cell_type": "markdown",
   "id": "61871989",
   "metadata": {},
   "source": [
    "Логистическая регрессия - это алгоритм классификации, который предсказывает вероятность того, что объект принадлежит к определенному классу. Она использует линейную комбинацию входных признаков, а затем пропускает результат через сигмоидную функцию, чтобы преобразовать его в вероятность от 0 до 1. Если эта вероятность превышает заданный порог, объект классифицируется как принадлежащий к одному классу, в противном случае - к другому."
   ]
  },
  {
   "cell_type": "code",
   "execution_count": 68,
   "id": "ebe065b3",
   "metadata": {},
   "outputs": [
    {
     "name": "stdout",
     "output_type": "stream",
     "text": [
      "Logistic Regression Performance:\n",
      "Accuracy: 0.8268156424581006\n",
      "              precision    recall  f1-score   support\n",
      "\n",
      "           0       0.83      0.91      0.87       110\n",
      "           1       0.83      0.70      0.76        69\n",
      "\n",
      "    accuracy                           0.83       179\n",
      "   macro avg       0.83      0.80      0.81       179\n",
      "weighted avg       0.83      0.83      0.82       179\n",
      "\n"
     ]
    }
   ],
   "source": [
    "log_reg = LogisticRegression()\n",
    "log_reg.fit(X_train_scaled, y_train)\n",
    "\n",
    "# предсказания\n",
    "y_pred_log = log_reg.predict(X_test_scaled)\n",
    "\n",
    "# вывод репорта\n",
    "print(\"Logistic Regression Performance:\")\n",
    "print(\"Accuracy:\", accuracy_score(y_test, y_pred_log))\n",
    "print(classification_report(y_test, y_pred_log))"
   ]
  },
  {
   "cell_type": "markdown",
   "id": "91f88515",
   "metadata": {},
   "source": [
    "Что значит Gaussian в названии метода GaussianNB? Почему для этого метода не нужен StandardScaler?\n",
    "Gaussian значит, что фичи имеют нормальное (Гауссово) распределение. StandardScaler не нужен, потому что GaussianNB внутренне сам работает с предположением о нормальном распределении данных. Он вычисляет среднее и стандартное отклонение для каждого признака. "
   ]
  },
  {
   "cell_type": "code",
   "execution_count": 69,
   "id": "93c3ad1f",
   "metadata": {},
   "outputs": [
    {
     "name": "stdout",
     "output_type": "stream",
     "text": [
      "Naïve Bayes Performance:\n",
      "Accuracy: 0.7430167597765364\n",
      "              precision    recall  f1-score   support\n",
      "\n",
      "           0       0.80      0.78      0.79       110\n",
      "           1       0.66      0.68      0.67        69\n",
      "\n",
      "    accuracy                           0.74       179\n",
      "   macro avg       0.73      0.73      0.73       179\n",
      "weighted avg       0.74      0.74      0.74       179\n",
      "\n"
     ]
    }
   ],
   "source": [
    "nb = GaussianNB()\n",
    "nb.fit(X_train, y_train)\n",
    "\n",
    "y_pred_nb = nb.predict(X_test)\n",
    "\n",
    "print(\"Naïve Bayes Performance:\")\n",
    "print(\"Accuracy:\", accuracy_score(y_test, y_pred_nb))\n",
    "print(classification_report(y_test, y_pred_nb))"
   ]
  },
  {
   "cell_type": "code",
   "execution_count": null,
   "id": "9c1f5ba7",
   "metadata": {},
   "outputs": [
    {
     "data": {
      "image/png": "[encoded data removed]",
      "text/plain": [
       "<Figure size 1200x500 with 4 Axes>"
      ]
     },
     "metadata": {},
     "output_type": "display_data"
    },
    {
     "ename": "",
     "evalue": "",
     "output_type": "error",
     "traceback": [
      "\u001b[1;31mThe Kernel crashed while executing code in the current cell or a previous cell. \n",
      "\u001b[1;31mPlease review the code in the cell(s) to identify a possible cause of the failure. \n",
      "\u001b[1;31mClick <a href='https://aka.ms/vscodeJupyterKernelCrash'>here</a> for more info. \n",
      "\u001b[1;31mView Jupyter <a href='command:jupyter.viewOutput'>log</a> for further details."
     ]
    }
   ],
   "source": [
    "conf_matrix_log = confusion_matrix(y_test, y_pred_log)\n",
    "conf_matrix_nb = confusion_matrix(y_test, y_pred_nb)\n",
    "\n",
    "fig, axes = plt.subplots(1, 2, figsize=(12, 5))\n",
    "\n",
    "sns.heatmap(conf_matrix_log, annot=True, fmt=\"d\", cmap=\"Blues\", ax=axes[0])\n",
    "axes[0].set_title(\"Logistic Regression Confusion Matrix\")\n",
    "axes[0].set_xlabel(\"Predicted Label\")\n",
    "axes[0].set_ylabel(\"True Label\")\n",
    "\n",
    "sns.heatmap(conf_matrix_nb, annot=True, fmt=\"d\", cmap=\"Reds\", ax=axes[1])\n",
    "axes[1].set_title(\"Naïve Bayes Confusion Matrix\")\n",
    "axes[1].set_xlabel(\"Predicted Label\")\n",
    "axes[1].set_ylabel(\"True Label\")\n",
    "\n",
    "plt.tight_layout() # Для улучшения расположения графиков\n",
    "plt.show()"
   ]
  },
  {
   "cell_type": "code",
   "execution_count": null,
   "id": "9a7e901e",
   "metadata": {},
   "outputs": [
    {
     "ename": "ModuleNotFoundError",
     "evalue": "No module named 'pkg_resources'",
     "output_type": "error",
     "traceback": [
      "\u001b[31m---------------------------------------------------------------------------\u001b[39m",
      "\u001b[31mModuleNotFoundError\u001b[39m                       Traceback (most recent call last)",
      "\u001b[36mCell\u001b[39m\u001b[36m \u001b[39m\u001b[32mIn[3]\u001b[39m\u001b[32m, line 1\u001b[39m\n\u001b[32m----> \u001b[39m\u001b[32m1\u001b[39m \u001b[38;5;28;01mimport\u001b[39;00m\u001b[38;5;250m \u001b[39m\u001b[34;01mfeaturetools\u001b[39;00m\u001b[38;5;250m \u001b[39m\u001b[38;5;28;01mas\u001b[39;00m\u001b[38;5;250m \u001b[39m\u001b[34;01mft\u001b[39;00m\n",
      "\u001b[36mFile \u001b[39m\u001b[32m~\\AppData\\Local\\Packages\\PythonSoftwareFoundation.Python.3.13_qbz5n2kfra8p0\\LocalCache\\local-packages\\Python313\\site-packages\\featuretools\\__init__.py:4\u001b[39m\n\u001b[32m      2\u001b[39m \u001b[38;5;28;01mfrom\u001b[39;00m\u001b[38;5;250m \u001b[39m\u001b[34;01mfeaturetools\u001b[39;00m\u001b[34;01m.\u001b[39;00m\u001b[34;01mversion\u001b[39;00m\u001b[38;5;250m \u001b[39m\u001b[38;5;28;01mimport\u001b[39;00m __version__\n\u001b[32m      3\u001b[39m \u001b[38;5;28;01mfrom\u001b[39;00m\u001b[38;5;250m \u001b[39m\u001b[34;01mfeaturetools\u001b[39;00m\u001b[34;01m.\u001b[39;00m\u001b[34;01mconfig_init\u001b[39;00m\u001b[38;5;250m \u001b[39m\u001b[38;5;28;01mimport\u001b[39;00m config\n\u001b[32m----> \u001b[39m\u001b[32m4\u001b[39m \u001b[38;5;28;01mfrom\u001b[39;00m\u001b[38;5;250m \u001b[39m\u001b[34;01mfeaturetools\u001b[39;00m\u001b[34;01m.\u001b[39;00m\u001b[34;01mentityset\u001b[39;00m\u001b[34;01m.\u001b[39;00m\u001b[34;01mapi\u001b[39;00m\u001b[38;5;250m \u001b[39m\u001b[38;5;28;01mimport\u001b[39;00m *\n\u001b[32m      5\u001b[39m \u001b[38;5;28;01mfrom\u001b[39;00m\u001b[38;5;250m \u001b[39m\u001b[34;01mfeaturetools\u001b[39;00m\u001b[38;5;250m \u001b[39m\u001b[38;5;28;01mimport\u001b[39;00m primitives\n\u001b[32m      6\u001b[39m \u001b[38;5;28;01mfrom\u001b[39;00m\u001b[38;5;250m \u001b[39m\u001b[34;01mfeaturetools\u001b[39;00m\u001b[34;01m.\u001b[39;00m\u001b[34;01msynthesis\u001b[39;00m\u001b[34;01m.\u001b[39;00m\u001b[34;01mapi\u001b[39;00m\u001b[38;5;250m \u001b[39m\u001b[38;5;28;01mimport\u001b[39;00m *\n",
      "\u001b[36mFile \u001b[39m\u001b[32m~\\AppData\\Local\\Packages\\PythonSoftwareFoundation.Python.3.13_qbz5n2kfra8p0\\LocalCache\\local-packages\\Python313\\site-packages\\featuretools\\entityset\\__init__.py:2\u001b[39m\n\u001b[32m      1\u001b[39m \u001b[38;5;66;03m# flake8: noqa\u001b[39;00m\n\u001b[32m----> \u001b[39m\u001b[32m2\u001b[39m \u001b[38;5;28;01mfrom\u001b[39;00m\u001b[38;5;250m \u001b[39m\u001b[34;01mfeaturetools\u001b[39;00m\u001b[34;01m.\u001b[39;00m\u001b[34;01mentityset\u001b[39;00m\u001b[34;01m.\u001b[39;00m\u001b[34;01mapi\u001b[39;00m\u001b[38;5;250m \u001b[39m\u001b[38;5;28;01mimport\u001b[39;00m *\n",
      "\u001b[36mFile \u001b[39m\u001b[32m~\\AppData\\Local\\Packages\\PythonSoftwareFoundation.Python.3.13_qbz5n2kfra8p0\\LocalCache\\local-packages\\Python313\\site-packages\\featuretools\\entityset\\api.py:2\u001b[39m\n\u001b[32m      1\u001b[39m \u001b[38;5;66;03m# flake8: noqa\u001b[39;00m\n\u001b[32m----> \u001b[39m\u001b[32m2\u001b[39m \u001b[38;5;28;01mfrom\u001b[39;00m\u001b[38;5;250m \u001b[39m\u001b[34;01mfeaturetools\u001b[39;00m\u001b[34;01m.\u001b[39;00m\u001b[34;01mentityset\u001b[39;00m\u001b[34;01m.\u001b[39;00m\u001b[34;01mdeserialize\u001b[39;00m\u001b[38;5;250m \u001b[39m\u001b[38;5;28;01mimport\u001b[39;00m read_entityset\n\u001b[32m      3\u001b[39m \u001b[38;5;28;01mfrom\u001b[39;00m\u001b[38;5;250m \u001b[39m\u001b[34;01mfeaturetools\u001b[39;00m\u001b[34;01m.\u001b[39;00m\u001b[34;01mentityset\u001b[39;00m\u001b[34;01m.\u001b[39;00m\u001b[34;01mentityset\u001b[39;00m\u001b[38;5;250m \u001b[39m\u001b[38;5;28;01mimport\u001b[39;00m EntitySet\n\u001b[32m      4\u001b[39m \u001b[38;5;28;01mfrom\u001b[39;00m\u001b[38;5;250m \u001b[39m\u001b[34;01mfeaturetools\u001b[39;00m\u001b[34;01m.\u001b[39;00m\u001b[34;01mentityset\u001b[39;00m\u001b[34;01m.\u001b[39;00m\u001b[34;01mrelationship\u001b[39;00m\u001b[38;5;250m \u001b[39m\u001b[38;5;28;01mimport\u001b[39;00m Relationship\n",
      "\u001b[36mFile \u001b[39m\u001b[32m~\\AppData\\Local\\Packages\\PythonSoftwareFoundation.Python.3.13_qbz5n2kfra8p0\\LocalCache\\local-packages\\Python313\\site-packages\\featuretools\\entityset\\deserialize.py:8\u001b[39m\n\u001b[32m      5\u001b[39m \u001b[38;5;28;01mfrom\u001b[39;00m\u001b[38;5;250m \u001b[39m\u001b[34;01minspect\u001b[39;00m\u001b[38;5;250m \u001b[39m\u001b[38;5;28;01mimport\u001b[39;00m getfullargspec\n\u001b[32m      7\u001b[39m \u001b[38;5;28;01mimport\u001b[39;00m\u001b[38;5;250m \u001b[39m\u001b[34;01mpandas\u001b[39;00m\u001b[38;5;250m \u001b[39m\u001b[38;5;28;01mas\u001b[39;00m\u001b[38;5;250m \u001b[39m\u001b[34;01mpd\u001b[39;00m\n\u001b[32m----> \u001b[39m\u001b[32m8\u001b[39m \u001b[38;5;28;01mimport\u001b[39;00m\u001b[38;5;250m \u001b[39m\u001b[34;01mwoodwork\u001b[39;00m\u001b[34;01m.\u001b[39;00m\u001b[34;01mtype_sys\u001b[39;00m\u001b[34;01m.\u001b[39;00m\u001b[34;01mtype_system\u001b[39;00m\u001b[38;5;250m \u001b[39m\u001b[38;5;28;01mas\u001b[39;00m\u001b[38;5;250m \u001b[39m\u001b[34;01mww_type_system\u001b[39;00m\n\u001b[32m      9\u001b[39m \u001b[38;5;28;01mfrom\u001b[39;00m\u001b[38;5;250m \u001b[39m\u001b[34;01mwoodwork\u001b[39;00m\u001b[34;01m.\u001b[39;00m\u001b[34;01mdeserialize\u001b[39;00m\u001b[38;5;250m \u001b[39m\u001b[38;5;28;01mimport\u001b[39;00m read_woodwork_table\n\u001b[32m     11\u001b[39m \u001b[38;5;28;01mfrom\u001b[39;00m\u001b[38;5;250m \u001b[39m\u001b[34;01mfeaturetools\u001b[39;00m\u001b[34;01m.\u001b[39;00m\u001b[34;01mentityset\u001b[39;00m\u001b[34;01m.\u001b[39;00m\u001b[34;01mrelationship\u001b[39;00m\u001b[38;5;250m \u001b[39m\u001b[38;5;28;01mimport\u001b[39;00m Relationship\n",
      "\u001b[36mFile \u001b[39m\u001b[32m~\\AppData\\Local\\Packages\\PythonSoftwareFoundation.Python.3.13_qbz5n2kfra8p0\\LocalCache\\local-packages\\Python313\\site-packages\\woodwork\\__init__.py:2\u001b[39m\n\u001b[32m      1\u001b[39m \u001b[38;5;66;03m# flake8: noqa\u001b[39;00m\n\u001b[32m----> \u001b[39m\u001b[32m2\u001b[39m \u001b[38;5;28;01mimport\u001b[39;00m\u001b[38;5;250m \u001b[39m\u001b[34;01mpkg_resources\u001b[39;00m\n\u001b[32m      3\u001b[39m \u001b[38;5;28;01mimport\u001b[39;00m\u001b[38;5;250m \u001b[39m\u001b[34;01msys\u001b[39;00m\n\u001b[32m      4\u001b[39m \u001b[38;5;28;01mimport\u001b[39;00m\u001b[38;5;250m \u001b[39m\u001b[34;01mwarnings\u001b[39;00m\n",
      "\u001b[31mModuleNotFoundError\u001b[39m: No module named 'pkg_resources'"
     ]
    },
    {
     "ename": "",
     "evalue": "",
     "output_type": "error",
     "traceback": [
      "\u001b[1;31mThe Kernel crashed while executing code in the current cell or a previous cell. \n",
      "\u001b[1;31mPlease review the code in the cell(s) to identify a possible cause of the failure. \n",
      "\u001b[1;31mClick <a href='https://aka.ms/vscodeJupyterKernelCrash'>here</a> for more info. \n",
      "\u001b[1;31mView Jupyter <a href='command:jupyter.viewOutput'>log</a> for further details."
     ]
    }
   ],
   "source": [
    "import featuretools as ft"
   ]
  }
 ],
 "metadata": {
  "kernelspec": {
   "display_name": "Python 3",
   "language": "python",
   "name": "python3"
  },
  "language_info": {
   "codemirror_mode": {
    "name": "ipython",
    "version": 3
   },
   "file_extension": ".py",
   "mimetype": "text/x-python",
   "name": "python",
   "nbconvert_exporter": "python",
   "pygments_lexer": "ipython3",
   "version": "3.13.3"
  }
 },
 "nbformat": 4,
 "nbformat_minor": 5
}
