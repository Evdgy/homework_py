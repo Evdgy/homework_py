{
 "cells": [
  {
   "cell_type": "code",
   "execution_count": 1,
   "id": "a53a281c-4ddc-42b2-ae02-a079dce43e16",
   "metadata": {},
   "outputs": [
    {
     "name": "stdout",
     "output_type": "stream",
     "text": [
      "Requirement already satisfied: wget in c:\\users\\elena\\appdata\\local\\programs\\python\\python312\\lib\\site-packages (3.2)\n"
     ]
    },
    {
     "name": "stderr",
     "output_type": "stream",
     "text": [
      "--2024-10-20 23:16:48--  https://raw.githubusercontent.com/vifirsanova/hse-python-course/main/data/data_cleaning.txt\n",
      "Resolving raw.githubusercontent.com (raw.githubusercontent.com)... 185.199.108.133, 185.199.109.133, 185.199.110.133, ...\n",
      "Connecting to raw.githubusercontent.com (raw.githubusercontent.com)|185.199.108.133|:443... connected.\n",
      "HTTP request sent, awaiting response... 200 OK\n",
      "Length: 2377 (2,3K) [text/plain]\n",
      "Saving to: 'data_cleaning.txt.8'\n",
      "\n",
      "     0K ..                                                    100%  352K=0,007s\n",
      "\n",
      "2024-10-20 23:16:48 (352 KB/s) - 'data_cleaning.txt.8' saved [2377/2377]\n",
      "\n"
     ]
    }
   ],
   "source": [
    "# Задание 1: Загрузка данных \n",
    "# загружаем тренировочные данные\n",
    "\n",
    "!pip install wget\n",
    "import wget\n",
    "!wget https://raw.githubusercontent.com/vifirsanova/hse-python-course/main/data/data_cleaning.txt\n"
   ]
  },
  {
   "cell_type": "code",
   "execution_count": 2,
   "id": "c65d0eb4-2676-4106-aa49-53bb635d24d7",
   "metadata": {},
   "outputs": [
    {
     "name": "stdout",
     "output_type": "stream",
     "text": [
      "<!DOCTYPE html>\n",
      "<html>\n",
      "<head>\n",
      "    <title>Sample HTML Document</title>\n",
      "</head>\n",
      "<body>\n",
      "    <h1>Welcome\n"
     ]
    }
   ],
   "source": [
    "# запишем данные в переменную data\n",
    "with open('data_cleaning.txt', 'r') as f:\n",
    "    data = f.read()\n",
    "    resultint_string = data[:100]\n",
    "print(resultint_string)"
   ]
  },
  {
   "cell_type": "code",
   "execution_count": 3,
   "id": "753bfbe0-3a5c-4ac2-a0d1-501d51437eb5",
   "metadata": {},
   "outputs": [
    {
     "name": "stdout",
     "output_type": "stream",
     "text": [
      " It's crucial to handle HTML entities such as &lt;div&gt;, &lt;p&gt;, &amp;, etc\n"
     ]
    }
   ],
   "source": [
    "#Задание 2: Удаление артефактов \n",
    "import re\n",
    "tag_pattern = r'<[^>]+>'\n",
    "repl = \"\"\n",
    "clean_text = re.sub(tag_pattern, repl, data) # clean tags\n",
    "print(clean_text[720:800])"
   ]
  },
  {
   "cell_type": "code",
   "execution_count": 4,
   "id": "2692540e-4415-4690-85e0-bef35b716e12",
   "metadata": {},
   "outputs": [
    {
     "name": "stdout",
     "output_type": "stream",
     "text": [
      " It's crucial to handle HTML entities such as div, p, , etc. HTML entities are s\n"
     ]
    }
   ],
   "source": [
    "symbols_pattern = r'&\\w+;' # creat pattern for symbols\n",
    "clean_text = re.sub(symbols_pattern, repl, clean_text)\n",
    "print(clean_text[720:800]) "
   ]
  },
  {
   "cell_type": "code",
   "execution_count": 5,
   "id": "9a890af7-4b03-40bb-b02c-9c08367b913b",
   "metadata": {},
   "outputs": [
    {
     "data": {
      "text/plain": [
       "'\\n\\n\\n    Sample HTML Document\\n\\n\\n    Welcome to Data Cleaning\\n    This is a sample paragraph with HTML '"
      ]
     },
     "execution_count": 5,
     "metadata": {},
     "output_type": "execute_result"
    }
   ],
   "source": [
    "clean_text[0:100] # выведите на экран первые 100 символов вашего текущего результата"
   ]
  },
  {
   "cell_type": "code",
   "execution_count": 6,
   "id": "09866756-0787-4542-ae4b-dd97935814a6",
   "metadata": {},
   "outputs": [
    {
     "data": {
      "text/plain": [
       "' Sample HTML Document Welcome to Data Cleaning This is a sample paragraph with HTML artifacts such a'"
      ]
     },
     "execution_count": 6,
     "metadata": {},
     "output_type": "execute_result"
    }
   ],
   "source": [
    "space_pattern = r'\\s+' # pattern for double spaces\n",
    "repl = ' ' \n",
    "clean_text = re.sub(space_pattern, repl, clean_text)\n",
    "(clean_text[0:100])"
   ]
  },
  {
   "cell_type": "code",
   "execution_count": 7,
   "id": "b5235c93-9743-48ea-ae34-f958d20bfc0b",
   "metadata": {},
   "outputs": [
    {
     "name": "stdout",
     "output_type": "stream",
     "text": [
      "e learning models, making predictions, or generating insights to support decision-making processes. \n"
     ]
    }
   ],
   "source": [
    "# Задание 3: Смена регситра \n",
    "text_lower = clean_text.lower()\n",
    "print(text_lower[-100:])"
   ]
  },
  {
   "cell_type": "code",
   "execution_count": 8,
   "id": "d71d9e19-34f6-47ff-8f15-40ac28384437",
   "metadata": {},
   "outputs": [
    {
     "name": "stderr",
     "output_type": "stream",
     "text": [
      "--2024-10-20 23:16:48--  https://raw.githubusercontent.com/vifirsanova/hse-python-course/main/data/stopwords.txt\n",
      "Resolving raw.githubusercontent.com (raw.githubusercontent.com)... 185.199.108.133, 185.199.109.133, 185.199.110.133, ...\n",
      "Connecting to raw.githubusercontent.com (raw.githubusercontent.com)|185.199.108.133|:443... connected.\n",
      "HTTP request sent, awaiting response... 200 OK\n",
      "Length: 954 [text/plain]\n",
      "Saving to: 'stopwords.txt.8'\n",
      "\n",
      "     0K                                                       100% 22,2M=0s\n",
      "\n",
      "2024-10-20 23:16:48 (22,2 MB/s) - 'stopwords.txt.8' saved [954/954]\n",
      "\n"
     ]
    }
   ],
   "source": [
    "# Задание 4: Удаление стоп-слов \n",
    "!wget https://raw.githubusercontent.com/vifirsanova/hse-python-course/main/data/stopwords.txt\n"
   ]
  },
  {
   "cell_type": "code",
   "execution_count": 9,
   "id": "5e767f53-6431-4c9a-8171-7f1e5e14a2df",
   "metadata": {},
   "outputs": [
    {
     "name": "stdout",
     "output_type": "stream",
     "text": [
      "['a', 'about', 'above', 'after', 'again', 'against', 'all', 'am', 'an', 'and']\n"
     ]
    }
   ],
   "source": [
    "with open('stopwords.txt','r') as f:\n",
    "    stopwords = f.read().split()\n",
    "print(stopwords[0:10])"
   ]
  },
  {
   "cell_type": "code",
   "execution_count": 10,
   "id": "6a5f2e52-2c4b-423e-83e6-b5ffa8bf31fa",
   "metadata": {},
   "outputs": [],
   "source": [
    "import random \n",
    "random_word = random.choice(stopwords) # записать в переменную случайное стоп-слово"
   ]
  },
  {
   "cell_type": "code",
   "execution_count": 11,
   "id": "1b3cbe77-a095-43af-835f-7fb51ecf8d79",
   "metadata": {},
   "outputs": [
    {
     "name": "stdout",
     "output_type": "stream",
     "text": [
      "Результат проверки: True\n",
      "Случайное слово: other\n"
     ]
    }
   ],
   "source": [
    "find_word = random_word in text_lower\n",
    "print('Результат проверки:', find_word)\n",
    "print('Случайное слово:', random_word)"
   ]
  },
  {
   "cell_type": "code",
   "execution_count": 12,
   "id": "fad65ea0-3f4e-4e46-88f0-27aa9a8884ed",
   "metadata": {},
   "outputs": [
    {
     "name": "stdout",
     "output_type": "stream",
     "text": [
      "[' sample html document welcome to data cleaning this is a sample paragraph with html artifacts such as bold and italic text', 'data cleaning is an essential process in preparing data for analysis', 'it involves various techniques to clean, transform, and preprocess data', 'in data cleaning, it\\'s important to remove stop words like \"the\", \"and\", \"of\", etc', 'stop words are common words that are often filtered out from text data because they do not carry significant meaning', \"here's another paragraph\", 'sometimes text is in uppercase or lowercase', \"it's important to standardize the text case to ensure consistency in the dataset\", 'this can be achieved by converting all text to lowercase or uppercase', \"it's crucial to handle html entities such as div, p, , etc\"]\n"
     ]
    }
   ],
   "source": [
    "# Задание 5: Токенизация \n",
    "sentence = text_lower.split('. ')\n",
    "print(sentence[:10]) # выводим первые 10 предложений"
   ]
  },
  {
   "cell_type": "code",
   "execution_count": 13,
   "id": "71693215-ba40-48e5-ae0a-0f308ea0114d",
   "metadata": {},
   "outputs": [
    {
     "name": "stdout",
     "output_type": "stream",
     "text": [
      "['sample', 'html', 'document', 'welcome', 'to', 'data', 'cleaning', 'this', 'is', 'a']\n"
     ]
    }
   ],
   "source": [
    "tokens = text_lower.split()\n",
    "print(tokens[:10]) # выводим первые 10 слов "
   ]
  },
  {
   "cell_type": "code",
   "execution_count": 14,
   "id": "9cdde278-d50a-40ce-b856-c4d1fe1d1e1f",
   "metadata": {},
   "outputs": [
    {
     "name": "stdout",
     "output_type": "stream",
     "text": [
      "['sample', 'html', 'document', 'welcome', 'data', 'cleaning', 'sample', 'paragraph', 'html', 'artifacts']\n"
     ]
    }
   ],
   "source": [
    "clean_tokens = []\n",
    "\n",
    "for token in tokens: \n",
    "    if token not in stopwords:\n",
    "        clean_tokens.append(token)\n",
    "print(clean_tokens[:10]) # удаляем стоп-слова и выводим первые 10 элементов"
   ]
  },
  {
   "cell_type": "code",
   "execution_count": 15,
   "id": "e811d0d0-9112-4a53-b3bd-69e437125670",
   "metadata": {},
   "outputs": [
    {
     "name": "stderr",
     "output_type": "stream",
     "text": [
      "--2024-10-20 23:16:49--  https://raw.githubusercontent.com/vifirsanova/hse-python-course/main/extracurricular/artefacts.txt\n",
      "Resolving raw.githubusercontent.com (raw.githubusercontent.com)... 185.199.108.133, 185.199.109.133, 185.199.110.133, ...\n",
      "Connecting to raw.githubusercontent.com (raw.githubusercontent.com)|185.199.108.133|:443... connected.\n",
      "HTTP request sent, awaiting response... 200 OK\n",
      "Length: 845 [text/plain]\n",
      "Saving to: 'artefacts.txt.10'\n",
      "\n",
      "     0K                                                       100% 14,5M=0s\n",
      "\n",
      "2024-10-20 23:16:49 (14,5 MB/s) - 'artefacts.txt.10' saved [845/845]\n",
      "\n"
     ]
    }
   ],
   "source": [
    "# Задание 6\n",
    "\n",
    "!wget https://raw.githubusercontent.com/vifirsanova/hse-python-course/main/extracurricular/artefacts.txt\n"
   ]
  },
  {
   "cell_type": "code",
   "execution_count": 16,
   "id": "d456ecc9-64be-4295-bcdd-55e8a083bacf",
   "metadata": {},
   "outputs": [
    {
     "name": "stdout",
     "output_type": "stream",
     "text": [
      "<!DOCTYPE html>\n",
      "<html>\n",
      "<head>\n",
      "    <title>Sample Web Page</title>\n",
      "</head>\n",
      "<body>\n",
      "    <h1>Welcome to Our Website</h1>\n",
      "    <p>This is some sample text on our website. You can contact us at <a href=\"mailto:info@example.com\">info@example.com</a>.</p>\n",
      "\n",
      "    <h2>Latest News</h2>\n",
      "    <div class=\"news-article\">\n",
      "        <h3><a href=\"https://example-news.com/article-123\">Breaking News: Important Announcement</a></h3>\n",
      "        <p>Lorem ipsum dolor sit amet, consectetur adipiscing elit. Vivamus lacinia, arcu in fermentum tincidunt.</p>\n",
      "    </div>\n",
      "\n",
      "    <div id=\"footer\">\n",
      "        <p>&copy; 2023 Our Website. All rights reserved. | <a href=\"/privacy-policy\">Privacy Policy</a> | <a href=\"/contact-us\">Contact Us</a></p>\n",
      "    </div>\n",
      "\n",
      "    <script>\n",
      "        console.log('This is some JavaScript content that runs in the browser.');\n",
      "    </script>\n",
      "</body>\n",
      "</html>\n",
      "\n"
     ]
    }
   ],
   "source": [
    "with open('artefacts.txt', 'r') as f:\n",
    "    artefacts = f.read()\n",
    "print(artefacts)"
   ]
  },
  {
   "cell_type": "code",
   "execution_count": 17,
   "id": "442324af-d6e4-4e48-acc3-1bdd6e3a2d46",
   "metadata": {},
   "outputs": [
    {
     "name": "stdout",
     "output_type": "stream",
     "text": [
      "\n",
      "\n",
      "\n",
      "    Sample Web Page\n",
      "\n",
      "\n",
      "    Welcome to Our Website\n",
      "    This is some sample text on our website. You can contact us at info@example.com.\n",
      "\n",
      "    Latest News\n",
      "    \n",
      "        Breaking News: Important Announcement\n",
      "        Lorem ipsum dolor sit amet, consectetur adipiscing elit. Vivamus lacinia, arcu in fermentum tincidunt.\n",
      "    \n",
      "\n",
      "    \n",
      "        &copy; 2023 Our Website. All rights reserved. | Privacy Policy | Contact Us\n",
      "    \n",
      "\n",
      "    \n",
      "        console.log('This is some JavaScript content that runs in the browser.');\n",
      "    \n",
      "\n",
      "\n",
      "\n"
     ]
    }
   ],
   "source": [
    "tag_pattern = r'<[^>]+>' # регулярное выражение для очистки текста от тегов\n",
    "repl = '' # одинарный пробел\n",
    "cleaned_artefacts = re.sub(tag_pattern, repl, artefacts) # использование регулярного выражения \n",
    "print(cleaned_artefacts)"
   ]
  },
  {
   "cell_type": "code",
   "execution_count": 18,
   "id": "3017c24a-2b8c-4b9b-90fb-866e62e2271c",
   "metadata": {},
   "outputs": [
    {
     "name": "stdout",
     "output_type": "stream",
     "text": [
      "\n",
      "\n",
      "\n",
      "    Sample Web Page\n",
      "\n",
      "\n",
      "    Welcome to Our Website\n",
      "    This is some sample text on our website. You can contact us at info@example.com.\n",
      "\n",
      "    Latest News\n",
      "    \n",
      "        Breaking News: Important Announcement\n",
      "        Lorem ipsum dolor sit amet, consectetur adipiscing elit. Vivamus lacinia, arcu in fermentum tincidunt.\n",
      "    \n",
      "\n",
      "    \n",
      "         2023 Our Website. All rights reserved. | Privacy Policy | Contact Us\n",
      "    \n",
      "\n",
      "    \n",
      "        console.log('This is some JavaScript content that runs in the browser.');\n",
      "    \n",
      "\n",
      "\n",
      "\n"
     ]
    }
   ],
   "source": [
    "symbol_pattern = r'&\\w+;'\n",
    "cleaned_artefacts = re.sub(symbol_pattern, repl, cleaned_artefacts)\n",
    "print(cleaned_artefacts)"
   ]
  },
  {
   "cell_type": "code",
   "execution_count": 19,
   "id": "3e5bbb3b-efb3-4800-8811-b1419f84a6df",
   "metadata": {},
   "outputs": [
    {
     "name": "stdout",
     "output_type": "stream",
     "text": [
      "\n",
      "\n",
      "\n",
      "    Sample Web Page\n",
      "\n",
      "\n",
      "    Welcome to Our Website\n",
      "    This is some sample text on our website. You can contact us at \n",
      "\n",
      "    Latest News\n",
      "    \n",
      "        Breaking News: Important Announcement\n",
      "        Lorem ipsum dolor sit amet, consectetur adipiscing elit. Vivamus lacinia, arcu in fermentum tincidunt.\n",
      "    \n",
      "\n",
      "    \n",
      "         2023 Our Website. All rights reserved. | Privacy Policy | Contact Us\n",
      "    \n",
      "\n",
      "    \n",
      "        console.log('This is some JavaScript content that runs in the browser.');\n",
      "    \n",
      "\n",
      "\n",
      "\n"
     ]
    }
   ],
   "source": [
    "mail_pattern = r'\\S+@\\S+'\n",
    "cleaned_artefacts = re.sub(mail_pattern, repl, cleaned_artefacts)\n",
    "print(cleaned_artefacts)"
   ]
  },
  {
   "cell_type": "code",
   "execution_count": 20,
   "id": "3035b08a-17cf-45c6-b07a-bf18ae0f7e4f",
   "metadata": {},
   "outputs": [],
   "source": [
    "pipe_pattern = r'\\|'\n",
    "cleaned_artefacts = re.sub(pipe_pattern, repl, cleaned_artefacts)\n",
    "cleaned_artefacts = cleaned_artefacts.strip()"
   ]
  },
  {
   "cell_type": "code",
   "execution_count": 21,
   "id": "d87cd840-14df-4756-a7dc-b1984d323f3f",
   "metadata": {},
   "outputs": [],
   "source": [
    "space_pattern = r'\\s+'\n",
    "repl = ' ' \n",
    "cleaned_artefacts = re.sub(space_pattern, repl, cleaned_artefacts)\n",
    "cleaned_artefacts = cleaned_artefacts.strip()"
   ]
  },
  {
   "cell_type": "code",
   "execution_count": 22,
   "id": "29fff45c-cab9-43db-94de-9297f4a0797a",
   "metadata": {},
   "outputs": [
    {
     "name": "stdout",
     "output_type": "stream",
     "text": [
      "Sample Web Page Welcome to Our Website This is some sample text on our website. You can contact us at Latest News Breaking News: Important Announcement Lorem ipsum dolor sit amet, consectetur adipiscing elit. Vivamus lacinia, arcu in fermentum tincidunt. 2023 Our Website. All rights reserved. Privacy Policy Contact Us \n"
     ]
    }
   ],
   "source": [
    "code_to_remove_lenght = len('console.log(\\'This is some JavaScript content that runs in the browser.\\');') # removing extra technical text \n",
    "cleaned_artefacts = cleaned_artefacts[0:-73]\n",
    "print(cleaned_artefacts)"
   ]
  },
  {
   "cell_type": "code",
   "execution_count": 23,
   "id": "e426352d-da6e-47d5-ba2e-16937234d7e0",
   "metadata": {},
   "outputs": [
    {
     "name": "stdout",
     "output_type": "stream",
     "text": [
      "sample web page welcome to our website this is some sample text on our website. you can contact us at latest news breaking news: important announcement lorem ipsum dolor sit amet, consectetur adipiscing elit. vivamus lacinia, arcu in fermentum tincidunt. 2023 our website. all rights reserved. privacy policy contact us \n"
     ]
    }
   ],
   "source": [
    "artefacts_lower = cleaned_artefacts.lower() # приводим к нижнему регистру \n",
    "print(artefacts_lower)"
   ]
  },
  {
   "cell_type": "code",
   "execution_count": 24,
   "id": "bf70052d-9686-4cbc-b2ad-21bf422b0721",
   "metadata": {},
   "outputs": [
    {
     "name": "stdout",
     "output_type": "stream",
     "text": [
      "['sample web page welcome to our website this is some sample text on our website', 'you can contact us at latest news breaking news: important announcement lorem ipsum dolor sit amet, consectetur adipiscing elit', 'vivamus lacinia, arcu in fermentum tincidunt', '2023 our website', 'all rights reserved', 'privacy policy contact us ']\n"
     ]
    }
   ],
   "source": [
    "artefacts_sentence = artefacts_lower.split('. ') # разбиваем на предожения\n",
    "print(artefacts_sentence)"
   ]
  },
  {
   "cell_type": "code",
   "execution_count": 25,
   "id": "394ace61-8983-4711-a490-5aced1181c82",
   "metadata": {},
   "outputs": [
    {
     "name": "stdout",
     "output_type": "stream",
     "text": [
      "['sample', 'web', 'page', 'welcome', 'to', 'our', 'website', 'this', 'is', 'some', 'sample', 'text', 'on', 'our', 'website.', 'you', 'can', 'contact', 'us', 'at', 'latest', 'news', 'breaking', 'news:', 'important', 'announcement', 'lorem', 'ipsum', 'dolor', 'sit', 'amet,', 'consectetur', 'adipiscing', 'elit.', 'vivamus', 'lacinia,', 'arcu', 'in', 'fermentum', 'tincidunt.', '2023', 'our', 'website.', 'all', 'rights', 'reserved.', 'privacy', 'policy', 'contact', 'us']\n"
     ]
    }
   ],
   "source": [
    "artefacts_words = artefacts_lower.split() # разбиваем на слова \n",
    "print(artefacts_words)"
   ]
  },
  {
   "cell_type": "code",
   "execution_count": 26,
   "id": "47b32414-3bad-4b28-a5f2-f7267730fffe",
   "metadata": {},
   "outputs": [
    {
     "name": "stdout",
     "output_type": "stream",
     "text": [
      "['sample', 'web', 'page', 'welcome', 'website', 'sample', 'text', 'website.', 'can', 'contact', 'us', 'latest', 'news', 'breaking', 'news:', 'important', 'announcement', 'lorem', 'ipsum', 'dolor', 'sit', 'amet,', 'consectetur', 'adipiscing', 'elit.', 'vivamus', 'lacinia,', 'arcu', 'fermentum', 'tincidunt.', '2023', 'website.', 'rights', 'reserved.', 'privacy', 'policy', 'contact', 'us']\n"
     ]
    }
   ],
   "source": [
    "artefacts_stop_words = [] \n",
    "\n",
    "for t in artefacts_words:\n",
    "    if t not in stopwords:\n",
    "        artefacts_stop_words.append(t)\n",
    "print(artefacts_stop_words)"
   ]
  }
 ],
 "metadata": {
  "kernelspec": {
   "display_name": "Python 3 (ipykernel)",
   "language": "python",
   "name": "python3"
  },
  "language_info": {
   "codemirror_mode": {
    "name": "ipython",
    "version": 3
   },
   "file_extension": ".py",
   "mimetype": "text/x-python",
   "name": "python",
   "nbconvert_exporter": "python",
   "pygments_lexer": "ipython3",
   "version": "3.12.6"
  }
 },
 "nbformat": 4,
 "nbformat_minor": 5
}
