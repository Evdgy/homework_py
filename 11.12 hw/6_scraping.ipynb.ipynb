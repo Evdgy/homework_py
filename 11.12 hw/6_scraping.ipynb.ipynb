{
 "cells": [
  {
   "cell_type": "markdown",
   "id": "584a8632-34ac-4fa5-87ee-9da2bfd54d87",
   "metadata": {},
   "source": [
    "#Задание 1\n",
    "\n",
    "##Написать функцию для скрейпинга веб-страниц"
   ]
  },
  {
   "cell_type": "code",
   "execution_count": 1,
   "id": "f2cd3d75-4b1a-42d1-b16a-f9a53c77a008",
   "metadata": {},
   "outputs": [],
   "source": [
    "import os\n",
    "import requests\n",
    "from bs4 import BeautifulSoup\n",
    "import re"
   ]
  },
  {
   "cell_type": "code",
   "execution_count": 2,
   "id": "a8f48896-82f2-4c8b-8a0a-d154984faf28",
   "metadata": {},
   "outputs": [],
   "source": [
    "def scrape_text_from_url(url, tag, class_=None): \n",
    "\n",
    "    response =  requests.get(url) #выполните HTML-запрос\n",
    "    if response.status_code == 200: #если запрос успешный (возвращается значение 200)\n",
    "        soup = BeautifulSoup(response.text, 'html.parser') # парсим контент или текст с помощью BeautifulSoup html.parser \n",
    "        paragraphs = soup.find_all(tag, class_) # ищем теги и классы на основании аргументов функции; по умолчанию ищем только тег\n",
    "\n",
    "        text = ''\n",
    "        for p in paragraphs:\n",
    "            text += p.get_text() # извлекаем тектовые данные с использованием list comprehension  \n",
    "        return text \n",
    "\n",
    "    else:\n",
    "        print(f\"Запрос не удался. Статус: {response.status_code}\") # выводим статус-код и сообщение об ошибке \n",
    "    "
   ]
  },
  {
   "cell_type": "code",
   "execution_count": 3,
   "id": "95176c12-2731-4484-85e6-1c47f23f722b",
   "metadata": {},
   "outputs": [
    {
     "data": {
      "text/plain": [
       "'The Chomsky hierarchy in the fields of formal language theory, computer science, and linguistics, is a containment hierarchy of classes of formal grammars. A formal grammar describes how to form strings from a language\\'s vocabulary (or alphabet) that are valid according to the language\\'s syntax. The linguist Noam Chomsky theorized that four different classes of formal grammars existed that could generate increasingly complex languages. Each class can also completely generate the language of all inferior classes (set inclusive).\\nThe general idea of a hierarchy of grammars was first described by Noam Chomsky in \"Three models for the description of language\" during the formalization of transformational-generative grammar (TGG).[1] Marcel-Paul Schützenberger also played a role in the development of the theory of formal languages; the paper \"The algebraic theory of context free languages\"[2] describes the modern hierarchy, including context-free grammars.[3]\\nIndependently, alongside linguists, mathematicians were developing models of computation (via automata). Parsing a sentence in a language is similar to computation, and the grammars described by Chomsky proved to both resemble and be equivalent in computational power to various machine models.[4]\\nThe following table summarizes each of Chomsky\\'s four types of grammars, the class of language it generates, the type of automaton that recognizes it, and the form its rules must have. The classes are defined by the constraints on the productions rules.\\nNote that the set of grammars corresponding to recursive languages is not a member of this hierarchy; these would be properly between Type-0 and Type-1.\\nEvery regular language is context-free, every context-free language is context-sensitive, every context-sensitive language is recursive and every recursive language is recursively enumerable. These are all proper inclusions, meaning that there exist recursively enumerable languages that are not context-sensitive, context-sensitive languages that are not context-free and context-free languages that are not regular.[7]\\nType-3 grammars generate the regular languages. Such a grammar restricts its rules to a single nonterminal on the left-hand side and a right-hand side consisting of a single terminal, possibly followed by a single nonterminal, in which case the grammar is right regular. Alternatively, all the rules can have their right-hand sides consist of a single terminal, possibly preceded by a single nonterminal (left regular). These generate the same languages. However, if left-regular rules and right-regular rules are combined, the language need no longer be regular. The rule \\n\\n\\n\\nS\\n→\\nε\\n\\n\\n{\\\\displaystyle S\\\\rightarrow \\\\varepsilon }\\n\\n is also allowed here if \\n\\n\\n\\nS\\n\\n\\n{\\\\displaystyle S}\\n\\n does not appear on the right side of any rule. These languages are exactly all languages that can be decided by a finite-state automaton. Additionally, this family of formal languages can be obtained by regular expressions. Regular languages are commonly used to define search patterns and the lexical structure of programming languages.\\nFor example, the regular language \\n\\n\\n\\nL\\n=\\n{\\n\\na\\n\\nn\\n\\n\\n\\n|\\n\\nn\\n>\\n0\\n}\\n\\n\\n{\\\\displaystyle L=\\\\{a^{n}|n>0\\\\}}\\n\\n is generated by the Type-3 grammar \\n\\n\\n\\nG\\n=\\n(\\n{\\nS\\n}\\n,\\n{\\na\\n,\\nb\\n}\\n,\\nP\\n,\\nS\\n)\\n\\n\\n{\\\\displaystyle G=(\\\\{S\\\\},\\\\{a,b\\\\},P,S)}\\n\\n with the productions \\n\\n\\n\\nP\\n\\n\\n{\\\\displaystyle P}\\n\\n being the following.\\nType-2 grammars generate the context-free languages. These are defined by rules of the form \\n\\n\\n\\nA\\n→\\nα\\n\\n\\n{\\\\displaystyle A\\\\rightarrow \\\\alpha }\\n\\n with \\n\\n\\n\\nA\\n\\n\\n{\\\\displaystyle A}\\n\\n being a nonterminal and \\n\\n\\n\\nα\\n\\n\\n{\\\\displaystyle \\\\alpha }\\n\\n being a string of terminals and/or nonterminals. These languages are exactly all languages that can be recognized by a non-deterministic pushdown automaton. Context-free languages—or rather its subset of deterministic context-free languages—are the theoretical basis for the phrase structure of most programming languages, though their syntax also includes context-sensitive name resolution due to declarations and scope. Often a subset of grammars is used to make parsing easier, such as by an LL parser.\\nFor example, the context-free language  \\n\\n\\n\\nL\\n=\\n{\\n\\na\\n\\nn\\n\\n\\n\\nb\\n\\nn\\n\\n\\n\\n|\\n\\nn\\n>\\n0\\n}\\n\\n\\n{\\\\displaystyle L=\\\\{a^{n}b^{n}|n>0\\\\}}\\n\\n is generated by the Type-2 grammar \\n\\n\\n\\nG\\n=\\n(\\n{\\nS\\n}\\n,\\n{\\na\\n,\\nb\\n}\\n,\\nP\\n,\\nS\\n)\\n\\n\\n{\\\\displaystyle G=(\\\\{S\\\\},\\\\{a,b\\\\},P,S)}\\n\\n with the productions \\n\\n\\n\\nP\\n\\n\\n{\\\\displaystyle P}\\n\\n being the following.\\nThe language is context-free but not regular (by the pumping lemma for regular languages).\\nType-1 grammars generate context-sensitive languages. These grammars have rules of the form \\n\\n\\n\\nα\\nA\\nβ\\n→\\nα\\nγ\\nβ\\n\\n\\n{\\\\displaystyle \\\\alpha A\\\\beta \\\\rightarrow \\\\alpha \\\\gamma \\\\beta }\\n\\n with \\n\\n\\n\\nA\\n\\n\\n{\\\\displaystyle A}\\n\\n a nonterminal and \\n\\n\\n\\nα\\n\\n\\n{\\\\displaystyle \\\\alpha }\\n\\n, \\n\\n\\n\\nβ\\n\\n\\n{\\\\displaystyle \\\\beta }\\n\\n and \\n\\n\\n\\nγ\\n\\n\\n{\\\\displaystyle \\\\gamma }\\n\\n strings of terminals and/or nonterminals. The strings \\n\\n\\n\\nα\\n\\n\\n{\\\\displaystyle \\\\alpha }\\n\\n and \\n\\n\\n\\nβ\\n\\n\\n{\\\\displaystyle \\\\beta }\\n\\n may be empty, but \\n\\n\\n\\nγ\\n\\n\\n{\\\\displaystyle \\\\gamma }\\n\\n must be nonempty.  The rule \\n\\n\\n\\nS\\n→\\nϵ\\n\\n\\n{\\\\displaystyle S\\\\rightarrow \\\\epsilon }\\n\\n is allowed if \\n\\n\\n\\nS\\n\\n\\n{\\\\displaystyle S}\\n\\n does not appear on the right side of any rule.  The languages described by these grammars are exactly all languages that can be recognized by a linear bounded automaton (a nondeterministic Turing machine whose tape is bounded by a constant times the length of the input.)\\nFor example, the context-sensitive language  \\n\\n\\n\\nL\\n=\\n{\\n\\na\\n\\nn\\n\\n\\n\\nb\\n\\nn\\n\\n\\n\\nc\\n\\nn\\n\\n\\n\\n|\\n\\nn\\n>\\n0\\n}\\n\\n\\n{\\\\displaystyle L=\\\\{a^{n}b^{n}c^{n}|n>0\\\\}}\\n\\n is generated by the Type-1 grammar \\n\\n\\n\\nG\\n=\\n(\\n{\\nS\\n,\\nA\\n,\\nB\\n,\\nC\\n,\\nW\\n,\\nZ\\n}\\n,\\n{\\na\\n,\\nb\\n}\\n,\\nP\\n,\\nS\\n)\\n\\n\\n{\\\\displaystyle G=(\\\\{S,A,B,C,W,Z\\\\},\\\\{a,b\\\\},P,S)}\\n\\n with the productions \\n\\n\\n\\nP\\n\\n\\n{\\\\displaystyle P}\\n\\n being the following.\\nThe language is context-sensitive but not context-free (by the pumping lemma for context-free languages).\\nA proof that this grammar generates \\n\\n\\n\\nL\\n=\\n{\\n\\na\\n\\nn\\n\\n\\n\\nb\\n\\nn\\n\\n\\n\\nc\\n\\nn\\n\\n\\n\\n|\\n\\nn\\n>\\n0\\n}\\n\\n\\n{\\\\displaystyle L=\\\\{a^{n}b^{n}c^{n}|n>0\\\\}}\\n\\n is sketched in the article on Context-sensitive grammars.\\nType-0 grammars include all formal grammars. There are no constraints on the productions rules. They generate exactly all languages that can be recognized by a Turing machine, thus any language that is possible to be generated can be generated by a Type-0 grammar.[8] These languages are also known as the recursively enumerable or Turing-recognizable languages.[8] Note that this is different from the recursive languages, which can be decided by an always-halting Turing machine.\\n'"
      ]
     },
     "execution_count": 3,
     "metadata": {},
     "output_type": "execute_result"
    }
   ],
   "source": [
    "scrape_text_from_url(url='https://en.wikipedia.org/wiki/Chomsky_hierarchy', tag='p')"
   ]
  },
  {
   "cell_type": "code",
   "execution_count": 4,
   "id": "eb62fb44-5ab7-4dbf-ba9a-0a190d24c4a6",
   "metadata": {},
   "outputs": [
    {
     "data": {
      "text/plain": [
       "\"Civil War is not a film about why extreme division happens; it’s about the personal impact of division at its worst.A staggering and frequently brilliant film looking at a hopefully just fictionalized version of America destroying itself from within.Garland seems poised to be make political points, to show how our current political dysfunction could lead to something far worse… but he never follows through.This violent tale of anaesthetised reporters is just a war yarn with a twist.This easy digital fakeness is there to get the audience used to it...Rather than glorifying war, the film is artful and meditative, making us feel the pointlessness of this violence, how unglamorous and exhausting and unheroic it is.It’s not always subtle, and in some cases it’s even frustrating with some of its narrative decisions, but nothing can deny its uncanny ability to leave you horrified by how war, civil or otherwise, can be truly monstrous from any humanist angle.The film isn’t very deep, but it does paint the grimmest picture possible of a divided nation with bodies bodies bodies everywhere.With a career best performance from Kirsten Dunst and a pulsating sound design, Civil War is a thrilling body of work that should be talked about in journalism circles.Garland's decision to forego any narrative antecedent makes the predictable ending that much more of a bummer. Civil War is a more muscular film than Men. Like that movie, however, it mistakes broad brush strokes for insight.Audiences expecting a meticulously-crafted backstory for how this war started and who the players are will be sorely disappointed.This is another war-is-awful movie, tracing the experiences of a team of photojournalists who throw themselves into the firing line. And even without much of a point, it's rivetingly well-made.Garland uses violence as a means to a much larger end that should leave moviegoers disturbed and, at times, sickened; that should leave us challenged to think rather than feeling any kind of welcome catharsis. The final shot ... is stunning in its irony.The film seems caught between wanting to be exciting and devastating, as it threatens to turn its captivating story into another generic shoot-them-up war film, just on a grander scale.Civil War is not a polemic, but it is a mirror to the USA’s political crisis.If beauty is the sole standard for their work, then the film’s view of war photography is as an aesthetic death cult.Garland appears to make movies less for audiences than as think pieces, and, given the esteem in which his films are held, the ploy has paid off handsomely.An urgent film about a barely-distant future.There’s a cautionary message then in the madness: stop or perish; the choice is entirely ours.Civil War is a reflection of what you bring to it. That puts the impetus on the viewer to meet the film on its level. Some won’t like what they find. The nature of that discussion is what will ultimately make this film immortal.\""
      ]
     },
     "execution_count": 4,
     "metadata": {},
     "output_type": "execute_result"
    }
   ],
   "source": [
    "scrape_text_from_url(url='https://www.rottentomatoes.com/m/civil_war_2024/reviews', tag='p', class_='review-text')"
   ]
  },
  {
   "cell_type": "code",
   "execution_count": 5,
   "id": "96d7d2d1-eee9-4fb0-a63e-904099a44914",
   "metadata": {},
   "outputs": [],
   "source": [
    "## Задание 2 Написать функцию для сентимент-анализа"
   ]
  },
  {
   "cell_type": "code",
   "execution_count": 6,
   "id": "21785240-5e72-4bff-8077-133211445d91",
   "metadata": {},
   "outputs": [],
   "source": [
    "with open('neg.txt') as f:\n",
    "  neg = f.read()\n",
    "\n",
    "with open('pos.txt') as f:\n",
    "  pos = f.read()"
   ]
  },
  {
   "cell_type": "markdown",
   "id": "09393191-da7f-4feb-a8bc-4a0e9cddbc28",
   "metadata": {},
   "source": [
    "Создайте списки слов, разделив строку по знаку \\n"
   ]
  },
  {
   "cell_type": "code",
   "execution_count": 7,
   "id": "c2cf946d-d981-48f1-bdf1-729d63944101",
   "metadata": {},
   "outputs": [
    {
     "name": "stdout",
     "output_type": "stream",
     "text": [
      "['a+', 'abound', 'abounds', 'abundance', 'abundant', 'accessable', 'accessible', 'acclaim', 'acclaimed', 'acclamation']\n"
     ]
    }
   ],
   "source": [
    "pos_list, neg_list = pos.split('\\n'), neg.split('\\n')\n",
    "\n",
    "print(pos_list[:10])  # Вывод первых 10 положительных слов"
   ]
  },
  {
   "cell_type": "code",
   "execution_count": 8,
   "id": "5f17f32b-1dbd-469a-834c-71ecf7d54f9f",
   "metadata": {},
   "outputs": [],
   "source": [
    "import spacy \n",
    "nlp = spacy.load('en_core_web_sm')"
   ]
  },
  {
   "cell_type": "code",
   "execution_count": 9,
   "id": "b0d196b9-ffc2-4b5c-b517-3eb0414c07eb",
   "metadata": {},
   "outputs": [],
   "source": [
    "def analyze_sentiment(text, positive_words, negative_words):\n",
    "    \n",
    "    lower_text = text.lower()\n",
    "    doc = nlp(lower_text)\n",
    "    words = [token.text for token in doc if token.is_stop != True] \n",
    "\n",
    "    # Считаем скор тональности: количество пересечений между списками words и положительными / отрицательными словами\n",
    "    positive_count = sum(1 for word in words if word in positive_words)\n",
    "    negative_count = sum(1 for word in words if word in negative_words)\n",
    "\n",
    "    if positive_count > negative_count:\n",
    "        return 'positive'\n",
    "    if positive_count < negative_count:\n",
    "        return 'negative' \n",
    "    else:\n",
    "        return 'neutral' "
   ]
  },
  {
   "cell_type": "code",
   "execution_count": 10,
   "id": "ef03c67f-fec6-4e78-8b8c-39b486790ca8",
   "metadata": {},
   "outputs": [
    {
     "data": {
      "text/plain": [
       "'positive'"
      ]
     },
     "execution_count": 10,
     "metadata": {},
     "output_type": "execute_result"
    }
   ],
   "source": [
    "analyze_sentiment('This sample text is awesome!', pos_list, neg_list)"
   ]
  },
  {
   "cell_type": "code",
   "execution_count": 11,
   "id": "298f5bd6-14d5-4a16-8af6-df95a4612401",
   "metadata": {},
   "outputs": [
    {
     "data": {
      "text/plain": [
       "'negative'"
      ]
     },
     "execution_count": 11,
     "metadata": {},
     "output_type": "execute_result"
    }
   ],
   "source": [
    "analyze_sentiment('I hate this sample text.', pos_list, neg_list)"
   ]
  },
  {
   "cell_type": "code",
   "execution_count": 12,
   "id": "3c3664be-107b-4076-907c-a0c4a2aef428",
   "metadata": {},
   "outputs": [
    {
     "data": {
      "text/plain": [
       "'neutral'"
      ]
     },
     "execution_count": 12,
     "metadata": {},
     "output_type": "execute_result"
    }
   ],
   "source": [
    "analyze_sentiment('We love and hate this sample text at the same time!', pos_list, neg_list)"
   ]
  },
  {
   "cell_type": "markdown",
   "id": "993110eb-35bf-4e75-8911-b982e044b979",
   "metadata": {},
   "source": [
    "## Задача 3"
   ]
  },
  {
   "cell_type": "code",
   "execution_count": 13,
   "id": "2adee705-063e-4366-8228-14f6270a4d13",
   "metadata": {},
   "outputs": [],
   "source": [
    "# Допишите функцию для вывода скоров по заданному URL\n",
    "\n",
    "def analyze(positive_words, negative_words, url, tag, class_=None):\n",
    "    scraped_text = scrape_text_from_url(url, tag)\n",
    "    sentences =  scraped_text.split('.')\n",
    "    sentiments = []\n",
    "\n",
    "    for sent in sentences:\n",
    "       sentiments.append(analyze_sentiment(sent, positive_words, negative_words))\n",
    "    return sentiments\n",
    "        "
   ]
  },
  {
   "cell_type": "code",
   "execution_count": 14,
   "id": "44f06e3e-b112-4a37-9860-99f2137cdf5b",
   "metadata": {},
   "outputs": [
    {
     "data": {
      "text/plain": [
       "['neutral',\n",
       " 'negative',\n",
       " 'negative',\n",
       " 'negative',\n",
       " 'positive',\n",
       " 'positive',\n",
       " 'neutral',\n",
       " 'neutral',\n",
       " 'negative',\n",
       " 'negative']"
      ]
     },
     "execution_count": 14,
     "metadata": {},
     "output_type": "execute_result"
    }
   ],
   "source": [
    "analyze(url='https://en.wikipedia.org/wiki/Chomsky_hierarchy', tag='p', positive_words=pos, negative_words=neg)[:10]"
   ]
  },
  {
   "cell_type": "code",
   "execution_count": 15,
   "id": "0c2e5606-ecf3-4aa4-b5a3-eae275c639f1",
   "metadata": {},
   "outputs": [
    {
     "data": {
      "text/plain": [
       "['positive',\n",
       " 'negative',\n",
       " 'positive',\n",
       " 'neutral',\n",
       " 'positive',\n",
       " 'negative',\n",
       " 'positive',\n",
       " 'neutral',\n",
       " 'neutral',\n",
       " 'neutral']"
      ]
     },
     "execution_count": 15,
     "metadata": {},
     "output_type": "execute_result"
    }
   ],
   "source": [
    "analyze(url='https://www.rottentomatoes.com/m/civil_war_2024/reviews', tag='p', class_='review-text', positive_words=pos, negative_words=neg)[:10]"
   ]
  },
  {
   "cell_type": "markdown",
   "id": "30dfab1e-781a-4ec5-9b7a-78e79faf1525",
   "metadata": {},
   "source": [
    "## Задача 4"
   ]
  },
  {
   "cell_type": "code",
   "execution_count": 16,
   "id": "4b370959-97ec-4845-a441-e905899fea5e",
   "metadata": {},
   "outputs": [],
   "source": [
    "from collections import Counter"
   ]
  },
  {
   "cell_type": "code",
   "execution_count": 17,
   "id": "25f12a41-5ba8-44d6-8faa-20b5d1dfbff0",
   "metadata": {},
   "outputs": [
    {
     "data": {
      "text/plain": [
       "Counter({'negative': 26, 'neutral': 12, 'positive': 6})"
      ]
     },
     "execution_count": 17,
     "metadata": {},
     "output_type": "execute_result"
    }
   ],
   "source": [
    "sample1 = Counter(analyze(url='https://en.wikipedia.org/wiki/Chomsky_hierarchy', tag='p', positive_words=pos, negative_words=neg))\n",
    "sample2 = Counter(analyze(url='https://www.rottentomatoes.com/m/civil_war_2024/reviews', tag='p', class_='review-text', positive_words=pos, negative_words=neg))\n",
    "\n",
    "sample1"
   ]
  },
  {
   "cell_type": "code",
   "execution_count": 18,
   "id": "9323d13d-a686-4653-8470-79f68bed7fec",
   "metadata": {},
   "outputs": [],
   "source": [
    "import numpy as np\n",
    "import pandas as pd"
   ]
  },
  {
   "cell_type": "code",
   "execution_count": 19,
   "id": "c735f401-9dce-4deb-9098-d79047318b75",
   "metadata": {},
   "outputs": [],
   "source": [
    "import matplotlib.pyplot as plt"
   ]
  },
  {
   "cell_type": "code",
   "execution_count": 20,
   "id": "488b8d1a-b1d8-4d88-ab18-0f29f9cbf78c",
   "metadata": {},
   "outputs": [],
   "source": [
    "my_sample1 = Counter(analyze(url='https://www.theguardian.com/film/2019/sep/26/the-goldfinch-review', tag='p', positive_words=pos, negative_words=neg))\n",
    "my_sample2 = Counter(analyze(url = 'https://www.buzzmag.co.uk/the-goldfinch-film-review/', tag='p',positive_words=pos, negative_words=neg))"
   ]
  },
  {
   "cell_type": "code",
   "execution_count": 21,
   "id": "f8b8f605-8b12-45a4-8066-b5ef12b27b43",
   "metadata": {},
   "outputs": [
    {
     "data": {
      "image/png": "[encoded data removed]",
      "text/plain": [
       "<Figure size 640x480 with 2 Axes>"
      ]
     },
     "metadata": {},
     "output_type": "display_data"
    }
   ],
   "source": [
    "df1 = pd.DataFrame.from_dict(my_sample1, orient='index', columns=['The Guardian'])\n",
    "df2 = pd.DataFrame.from_dict(my_sample2, orient='index', columns=['The Buzz Magazine'])\n",
    "fig, (ax1, ax2) = plt.subplots(ncols=2)\n",
    "\n",
    "ax1 = df1.plot.bar(ax=ax1, color = 'grey')\n",
    "ax2 = df2.plot.bar(ax=ax2, color='red')\n",
    "\n",
    "plt.suptitle('\"The Goldfinch\"  Rating Comparison (The Guardian vs. The Buzz Magazine)')  # Set title\n",
    "\n",
    "ax1.set_xlabel('Movie')\n",
    "ax1.set_ylabel('The Guardian Rating')\n",
    "ax2.set_xlabel('Movie')\n",
    "ax2.set_ylabel('The Buzz Magazine Rating')\n",
    "\n",
    "plt.show()"
   ]
  },
  {
   "cell_type": "markdown",
   "id": "028e7241-5790-4d10-adbb-8f3f0c0ca37d",
   "metadata": {},
   "source": [
    "## Задача 5"
   ]
  },
  {
   "cell_type": "code",
   "execution_count": 23,
   "id": "94c82299-3969-415c-8cc9-671b9033a99f",
   "metadata": {},
   "outputs": [
    {
     "name": "stdout",
     "output_type": "stream",
     "text": [
      "Successful: <Response [200]>\n",
      "\n",
      "Ниже представленны списки токенов в предложениях очищенные от стоп-слов и приведенные к нижнему регистру:\n",
      "\n",
      "['nicole', 'kidman', 'fine', 'cameo', 'save', 'infuriating', 'adaptation', 'renders', 'complex', 'novel', 'broad', 'brushstrokes', 'despite', '-', 'list', 'talent', 'camera', ',', 'gone', 'worryingly', 'wrong', 'adaptation', 'donna', 'tartt', 'pulitzer', '-', 'winning', 'novel', '2013', ',', 'directed', 'john', 'crowley']\n",
      "\n",
      "[' ', 'book', 'unwieldy', 'digressive', 'aspects', 'hypnotised', 'film', '-', 'makers', ',', 'want', 'justice', 'writerly', 'aspects', 'tartt', 'extravagant', 'dickensian', 'adventure', ',', 'fetishistic', 'connoisseur', 'detail']\n",
      "\n",
      "[' ', 'mislaid', 'underplayed', 'straightforwardly', 'exciting', 'set', 'pieces', 'voltage', 'film']\n",
      "\n",
      "['film', 'co', '-', 'financed', 'amazon', 'studios', 'maybe', 'worked', 'better', '-', 'tv', 'drama']\n",
      "\n",
      "[' ', ',', 'story', 'effortfully', 'squeezed', 'half', 'hours', ',', 'key', 'moments', 'suddenly', 'whizzing', 'past', 'fast', '-', 'forward', ',', 'explosively', 'important', 'bafflingly', 'relegated', 'flashback', 'fragments', 'come', 'single', ',', 'compelling', 'scene']\n",
      "\n",
      "['said', 'casting', 'performances', ',', 'crucial', 'cases', ',', 'seriously']\n",
      "\n",
      "[' ', 'gambling', 'addict', 'deprived', 'money', 'lot', 'histrionic', 'screaming']\n",
      "\n",
      "[' ', ',', 'russian', 'characters', ':', ',', 'played', 'russian', 'actors', 'course', ',', 'non', '-', 'russians', 'given', 'job', 'spyeak', 'yin', 'uncyonvincying', 'ryussian', 'accyent']\n",
      "\n",
      "['oakes', 'fegley', 'role', '13', '-', 'year', '-', 'old', 'theo', 'decker', ',', 'child', 'broken', 'home', 'new', 'york', 'day', 'visits', 'city', 'art', 'museum', 'mother', ';', 'find', 'looking', 'carel', 'fabritius', '1654', 'painting', 'goldfinch', ',', 'bird', 'chained', 'post', ',', 'poignant', 'image', 'beauty', 'imprisonment']\n",
      "\n",
      "[' ', 'moment', ',', 'terrorist', 'bomb', 'rips', 'museum', 'building', '–', 'quasi-9/11', 'outrage', 'political', 'motive', 'initiates', 'tragic', 'chain', 'events']\n",
      "\n",
      "['theo', 'mother', 'killed']\n",
      "\n",
      "[' ', 'groggily', 'regains', 'consciousness', 'dust', ',', 'rubble', 'bodies', ',', 'dying', 'man', 'theo', 'initially', 'noticed', 'little', 'girl', 'alive', ',', 'expiring', ',', 'entrusts', 'ring', 'gives', 'place', 'deliver']\n",
      "\n",
      "[' ', 'theo', 'impulsively', 'takes', 'goldfinch', 'wall', 'staggers', 'building', 'bag']\n",
      "\n",
      "[' ', 'chaos', 'cops', ',', 'firefighters', 'paramedics', ',', 'thinks', 'challenge']\n",
      "\n",
      "[' ', 'theo', 'taken', 'friend', 'elegant', 'mother', '(', 'tremendous', 'cameo', 'nicole', 'kidman', ')', ',', 'sent', 'live', 'louche', 'grasping', 'dad', '(', 'luke', 'wilson', ')', 'las', 'vegas', ',', 'befriends', 'ukrainian', 'kid', ',', 'boris', '(', 'finn', 'wolfhard', ')']\n",
      "\n",
      "['poor', 'theo', 'grows', 'damaged', 'vicodin', '-', 'addicted', 'adult', '(', 'played', 'ansel', 'elgort', ')', ',', 'hides', 'hurt', 'veneer', 'bogus', 'sophistication', 'having', 'undergone', 'ripleyesque', 'reinvention', 'smooth', 'crooked', 'antiques', 'dealer', 'tutelage', 'kindly', 'expert', 'hobie', '(', 'jeffrey', 'wright', ')', ',', 'ring', 'led']\n",
      "\n",
      "[' ', 'priceless', 'painting', ',', 'theo', 'secretly', 'wraps', 'storage', 'depot', ',', 'throbs', 'like', 'second', ',', 'unexploded', 'bomb', ',', 'destined', 'meet', 'grownup', 'boris', '(', 'aneurin', 'barnard', ')']\n",
      "\n",
      "['goldfinch', 'stands', ',', 'theo', 'mind', ',', 'mother', ',', 'terrible', 'fact', 'absence', ':', 'poignant', 'symbol', 'irrecoverable', 'loss', 'hurt']\n",
      "\n",
      "[' ', 'painting', 'supposed', 'value', 'immortal', 'thing', 'beauty', 'simultaneously', 'supercharged', 'diminished', 'association']\n",
      "\n",
      "[' ', 'movie', 'fair', 'justice', 'painting', 'macguffin', '-', 'ish', 'properties']\n",
      "\n",
      "[' ', 'long', 'episodes', 'clunk', 'past', 'laboriously', 'elgort', 'access', 'character', 'emotional', 'tumult']\n",
      "\n",
      "[' ', '(', 'kidman', ',', 'hand', ',', 'plays', 'character', 'arc']\n",
      "\n",
      "[')', 'comes', 'extraordinary', 'scene', 'triggers', ':', 'bomb', 'art', 'gallery']\n",
      "\n",
      "[' ', 'book', 'riveting', ',', 'complex', ',', 'detailed', 'affair']\n",
      "\n",
      "[' ', 'film', ',', 'legitimate', 'avoid', '-', '-', 'nose', 'storytelling', ',', 'frustratingly', 'deferred', 'dispersed', 'flashback', 'glimpses', ',', 'bewilderingly', ',', 'allowed', 'simple', 'thrill', 'piecing', 'order']\n",
      "\n",
      "[' ', 'pure', 'power', 'detonation', 'muffled']\n",
      "\n",
      "[' ', 'carpark', 'shootout', 'end', ':', 'dispensed', 'hurriedly', ',', 'film', 'wishes', 'rise', 'mere', 'action', 'entertainment']\n",
      "\n",
      "['shame']\n",
      "\n",
      "[' ', 'film', 'looks', 'good', 'eye', 'cinematographer', 'roger', 'deakins', ',', 'screenwriter', 'peter', 'straughan', 'renders', 'elegant', 'amusing', 'dialogue', ',', 'goldfinch', 'stays', 'earthbound']\n",
      "\n",
      "['goldfinch', 'released', 'uk', '27', 'september']\n",
      "\n",
      "[]\n",
      "\n",
      "Sentiments:\n",
      "['neutral', 'negative', 'positive', 'positive', 'negative', 'neutral', 'negative', 'negative', 'negative', 'negative']\n",
      "\n",
      "Sentiments Counter:\n",
      "Counter({'negative': 6, 'neutral': 2, 'positive': 2})\n"
     ]
    }
   ],
   "source": [
    "def scrape_text_from_url(url, tag, class_=None):     \n",
    "    response =  requests.get(url) #выполните HTML-запрос    \n",
    "    print(f'Successful: {response}') # проверяем запрос  \n",
    "    print()\n",
    "    \n",
    "    try:      \n",
    "        response.raise_for_status() #  метод raise_for_status из библиотеки requests вызовет HTTPError, если в запросе HTTP возникнет статус код ошибки.\n",
    "        soup = BeautifulSoup(response.text, 'html.parser')     \n",
    "        paragraphs = soup.find_all(tag, class_)   \n",
    "        text = ''                \n",
    "        \n",
    "        for p in paragraphs:    \n",
    "            text += p.get_text()\n",
    "\n",
    "        # Сделаем текст чуть более читабельным \n",
    "        text = re.sub(r'\\s+', ' ', text)  # убираем лишние пробелы с помощью регулярки         \n",
    "\n",
    "        return text     \n",
    "        \n",
    "    except requests.exceptions.HTTPError as error:      \n",
    "        print(f'Ошибка HTTP-запроса: {error}')    \n",
    "    except Exception as error:     \n",
    "        print(f\"Неизвестная ошибка: {error}\") \n",
    "        \n",
    "def analyze_sentiment(text, positive_words, negative_words):\n",
    "    doc = nlp(text.lower()) \n",
    "    words = [token.text for token in doc if token.is_stop != True]\n",
    "    \n",
    "    print(words) # проверим список токенов на наличие стоп-слов и нижнего регистра\n",
    "    print()\n",
    "    \n",
    "    positive_count = sum(1 for word in words if word in positive_words)\n",
    "    negative_count = sum(1 for word in words if word in negative_words)\n",
    "\n",
    "    return 'positive' if positive_count > negative_count else 'negative' if negative_count > positive_count else 'neutral' # вёрнем строчку positive, negative или neutralв зависимости выполнении условия \n",
    "\n",
    "def analyze(positive_words, negative_words, url, tag, class_=None):\n",
    "    scraped_text = scrape_text_from_url(url, tag, class_)\n",
    "    sentences = scraped_text.split('.')\n",
    "    \n",
    "    print('Ниже представленны списки токенов в предложениях очищенные от стоп-слов и приведенные к нижнему регистру:\\n')\n",
    "    \n",
    "    sentiments = [analyze_sentiment(sent, positive_words, negative_words) for sent in sentences]\n",
    "\n",
    "    return sentiments\n",
    "\n",
    "sentiments = analyze(url='https://www.theguardian.com/film/2019/sep/26/the-goldfinch-review', tag='p', positive_words=pos, negative_words=neg)[:10]\n",
    "sentiments_counter = Counter(sentiments)\n",
    "\n",
    "print('Sentiments:')\n",
    "print(sentiments)\n",
    "\n",
    "print()\n",
    "\n",
    "print('Sentiments Counter:')\n",
    "print(sentiments_counter)"
   ]
  }
 ],
 "metadata": {
  "kernelspec": {
   "display_name": "Python 3 (ipykernel)",
   "language": "python",
   "name": "python3"
  },
  "language_info": {
   "codemirror_mode": {
    "name": "ipython",
    "version": 3
   },
   "file_extension": ".py",
   "mimetype": "text/x-python",
   "name": "python",
   "nbconvert_exporter": "python",
   "pygments_lexer": "ipython3",
   "version": "3.12.6"
  }
 },
 "nbformat": 4,
 "nbformat_minor": 5
}
