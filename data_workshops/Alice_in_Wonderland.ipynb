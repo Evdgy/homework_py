{
 "cells": [
  {
   "cell_type": "code",
   "execution_count": 1,
   "id": "a8cafaa9-bfd7-4a7e-9674-6b0cdc9f6a4b",
   "metadata": {},
   "outputs": [],
   "source": [
    "import re\n",
    "\n",
    "with open('alice_in_wonderland.txt', 'r') as f:\n",
    "    text = f.read()\n",
    "\n",
    "with open ('stopwords.txt','r') as f:\n",
    "    sw = f.read()"
   ]
  },
  {
   "cell_type": "code",
   "execution_count": 2,
   "id": "4c5b4c8e-bdfd-48ba-8dd0-fba81b1a24cb",
   "metadata": {},
   "outputs": [],
   "source": [
    "# Очищаем текст от знаков и стоп-слов\n",
    "def remove_punctuation(text):\n",
    "\n",
    "    return re.sub(r'[^\\w\\s]', ' ', text)\n",
    "     \n",
    "def remove_sw(text, sw):\n",
    "    stopwords = sw.split() # разбейте строку со стоп-словами на список слов\n",
    "    words = text.split() # разбейте текст из переменной text на слова\n",
    "    filtered_words = []\n",
    "    \n",
    "    for word in words:\n",
    "        if word.lower() not in stopwords: \n",
    "            filtered_words.append(word)   \n",
    "    cleaned_text = ' '.join(filtered_words) # объедините слова из списка filtered_words в строку с join\n",
    "    \n",
    "    return cleaned_text\n",
    "\n"
   ]
  },
  {
   "cell_type": "code",
   "execution_count": 3,
   "id": "32fefe17-4452-47e0-b961-d0a0a9327b09",
   "metadata": {},
   "outputs": [
    {
     "data": {
      "text/plain": [
       "'This is a sample text  Wow    '"
      ]
     },
     "execution_count": 3,
     "metadata": {},
     "output_type": "execute_result"
    }
   ],
   "source": [
    "remove_punctuation('This is a sample text! Wow :-)')"
   ]
  },
  {
   "cell_type": "code",
   "execution_count": 4,
   "id": "bfe8ebd1-1f02-491d-9511-57b0258ee3c9",
   "metadata": {},
   "outputs": [
    {
     "data": {
      "text/plain": [
       "'text without stopwords'"
      ]
     },
     "execution_count": 4,
     "metadata": {},
     "output_type": "execute_result"
    }
   ],
   "source": [
    "remove_sw('Below is the text without stopwords', sw)"
   ]
  },
  {
   "cell_type": "code",
   "execution_count": 5,
   "id": "d20d81af-5d82-4c84-9846-b22c8ab6c17a",
   "metadata": {},
   "outputs": [],
   "source": [
    "# Токенизация \n",
    "def tokenization(text):\n",
    "    text = text.lower()\n",
    "    tokenized_text = text.split('\\n')\n",
    "    \n",
    "    return tokenized_text"
   ]
  },
  {
   "cell_type": "code",
   "execution_count": 6,
   "id": "f1c01ea8-b9de-46f8-b546-944d00a032ea",
   "metadata": {},
   "outputs": [
    {
     "data": {
      "text/plain": [
       "['tokenize this text', \"we've got to tokenize it\"]"
      ]
     },
     "execution_count": 6,
     "metadata": {},
     "output_type": "execute_result"
    }
   ],
   "source": [
    "tokenization('Tokenize this text\\nWe\\'ve got to tokenize it')"
   ]
  },
  {
   "cell_type": "code",
   "execution_count": 7,
   "id": "6de46415-3c1e-4a90-a610-ffd612785de6",
   "metadata": {},
   "outputs": [],
   "source": [
    "# Применяем фуннкцию токенизации к данным \n",
    "tokenized_data = tokenization(text)\n",
    "cleaned_data = []\n",
    "\n",
    "for element in tokenized_data:\n",
    "    element = remove_punctuation(element)\n",
    "    element = remove_sw(element, sw)\n",
    "    \n",
    "    cleaned_data.append(element)"
   ]
  },
  {
   "cell_type": "code",
   "execution_count": 8,
   "id": "e8f6546f-e52a-4b46-bb73-52f9006b583b",
   "metadata": {},
   "outputs": [
    {
     "name": "stdout",
     "output_type": "stream",
     "text": [
      "<class 'list'>\n",
      "3600\n",
      "alice's adventures in wonderland\n",
      "\n"
     ]
    }
   ],
   "source": [
    "print(type(tokenized_data))\n",
    "print(len(tokenized_data))\n",
    "print(tokenized_data[0][:100])\n",
    "print(tokenized_data[1][:100])"
   ]
  },
  {
   "cell_type": "code",
   "execution_count": 9,
   "id": "1d1b8d6b-4f4b-4ffb-81a6-55202e1ca1f3",
   "metadata": {},
   "outputs": [
    {
     "data": {
      "text/plain": [
       "['<SoS>alice s adventures wonderland<EoS>',\n",
       " '<SoS>alice s adventures wonderland<EoS>',\n",
       " '<SoS>lewis carroll<EoS>',\n",
       " '<SoS>millennium fulcrum edition 3 0<EoS>',\n",
       " '<SoS>chapter<EoS>',\n",
       " '<SoS>rabbit hole<EoS>',\n",
       " '<SoS>alice beginning get tired sitting sister<EoS>',\n",
       " '<SoS>bank nothing twice<EoS>',\n",
       " '<SoS>peeped book sister reading<EoS>',\n",
       " '<SoS>pictures conversations use book<EoS>']"
      ]
     },
     "execution_count": 9,
     "metadata": {},
     "output_type": "execute_result"
    }
   ],
   "source": [
    "formatted_texts = []\n",
    "for text in cleaned_data:\n",
    "  if len(text) >0:\n",
    "    formatted_text = f'<SoS>{text.strip()}<EoS>'\n",
    "    formatted_texts.append(formatted_text)\n",
    "        \n",
    "formatted_texts[:10]  "
   ]
  },
  {
   "cell_type": "code",
   "execution_count": 10,
   "id": "0e951ac4-00d0-404c-a374-e1efea818433",
   "metadata": {},
   "outputs": [],
   "source": [
    "with open('aliceinwonderland_gpt2.txt','w') as f:\n",
    "    f.write(('\\n'.join(formatted_texts)))"
   ]
  },
  {
   "cell_type": "code",
   "execution_count": 11,
   "id": "bc1dae29-0098-406f-aa07-a6cba1a6654e",
   "metadata": {},
   "outputs": [],
   "source": [
    "# Лингвичтисечкий анализ \n",
    "import random\n",
    "\n",
    "filtered_data = [] # если длина текста из cleaned_data > 0, добавляем его в список filtered_data\n",
    "for text in cleaned_data:\n",
    "    if len(text) > 0:\n",
    "        filtered_data.append(text)\n",
    "\n",
    "sample_size = max(1, int(len(filtered_data) * 0.1))  # задаем размер выборки: 10%\n",
    "sample_data = random.sample(filtered_data, sample_size) # семплирование\n",
    "sample_text = ' '.join((sample_data))"
   ]
  },
  {
   "cell_type": "code",
   "execution_count": 12,
   "id": "f3198490-a452-48d5-afa4-0cbd28cf1a06",
   "metadata": {},
   "outputs": [
    {
     "name": "stdout",
     "output_type": "stream",
     "text": [
      "chance began looking everything trumpet one hand scroll parchment exactly nothing happened use now thought poor alice pretend two people melancholy tone nobody seems like m reply fear forget end quite much use trial one way generally ridge furrow way wherever curiosity alice began telling adventures time found said duck foot matters good deal said alice hastily m like rude bore well footman seemed think good opportunity looking fan pair white kid gloves wouldn t mind said alice three inches wretched creatures argue s enough drive one crazy trying every door walked sadly middle must said cat wouldn t come heard muttering duchess duchess morcar earls mercia northumbria conversation dropped party sat silent minute first thing ve got said alice said queen pointing three reeling writhing course begin mock ll likely story indeed said pigeon tone round face large eyes like frog footmen indeed said alice sort dance best butter know next day maybe footman continued tone boxed queen s ears rabbit began alice gave ahem said mouse important air ready wish wouldn t squeeze said dormouse ever good bye feet looked never said queen furiously throwing inkstand can said duchess em m afraid can t put clearly alice replied gently smiling jaws everything alice said s large mustard mine near stays year long time together just missed like see little said mock turtle mouth addressed languid sleepy voice somebody managed put one cupboards opening eyes course course just going got head going begin little golden key went back table alice see well looking hard attempt proved failure alice heard took housemaid said ran s pun king added offended tone alice wish offend dormouse began oh dear paws oh fur whiskers ll get wake alice dear said sister long many hours day lessons said alice duchess ugly secondly remark knot said alice always ready make useful dreadfully savage exclaimed alice low voice fact see miss seem sending presents one s feet odd hadn t time said gryphon went classics shan t beheaded said alice put hold tongue added gryphon alice speak looking anxiously oh let help undo didn t said alice don t think s pity instance s arch ve got go next think good reason caterpillar seemed making faces spoke still listened seemed listen whole place trial proceed said king grave hard whistle terribly frightened never saw one heard one said alice act crawling away besides remarked lessen day day don t impertinent said king don t look impatiently shrimp told first thought must walrus hippopotamus five seven said nothing looked two two began somebody said alice whispered s done everybody mentioned dear d nearly forgotten ve got grow let rattling window hit face idea somehow fallen sea getting now dear continued turning alice secret kept rest minute two sobs choked voice bone twist round look face trial head brandy now don t choke old fellow work nibbling mushroom kept piece try sneezing every now great crash dish cause fan holding dropped s atom meaning none attempted looking hear tones confusing thing ever heard bottle hope ll make grow large crossed hands lap saying lessons eyes filled tears went must mabel confusion never knew whether turn gryphon lifted paws surprise never s important king said turning jury nearly carried now give fair warning shouted queen stamping denial looked round eager see queen sort every day good height indeed said caterpillar going heard queen s voice distance caterpillar sitting top arms folded trims belt buttons turns toes quicker sister s dream lay blame others first question course get dry much d right size oh sat nobody spoke minutes alice procession came opposite alice stopped anxiously among trees little sharp bark just turned pig alice quietly said just hopeful tone though won t pepper kitchen one can explain said alice bit mushroom raised two feet high even dare say may one found nothing tops trees must manage best way can must first dreamed little alice upon tiptoe put mouth close ear hard word will just explain done d whisper hint time round goes consider verdict king said jury couldn t wanted much said alice living moved alice soon left alone writing slate one finger found made ventured ask said march hare said one spoken first angrily rearing upright spoke exactly three turtle soup will old fellow lock great delight fitted thought perhaps pepper wandering hair always get eyes getting home night air doesn t suit throat canary however last stretched arms round far can t help said alice meekly m growing haven t opened yet said white rabbit seems may lived much sea haven t said alice way back barking hoarsely till last sat pool tears wept nine doze pinched hatter woke sounds broken glass number cucumber frames white rabbit returning splendidly dressed alice going hurry ll look sister well remember strange finished said using cushion resting elbows talking creatures alice led way whole party swam direction march hare said live ve seen twinkle twinkle heads saying come dear shall look serpent screamed pigeon hedgehog engaged fight another hedgehog shall get better please said alice get first question know seemed rise like stalk sea green leaves lay rather sharply advise leave minute angry wags tail s pleased now growl m said raven like writing desk saying daughter ah dear let lesson alice laughed much run back looking cat s head great curiosity doubtful temper flamingo shall try made awfully clever said curiouser curiouser cried alice much poor alice much lying one birds tittered audibly mushroom crawled away grass merely mixed flavour cherry tart custard pine apple roast chapter iv minding business well say see eat thing eat cat seemed think enough now sight feared might injure brain said caterpillar face quite jumped saw another moment addressed can t think glad see dear old thank s interesting dance watch said little made next remark eleventh day gryphon queen put spectacles began staring says kills rats oh dear cried alice pocket pulled box comfits luckily salt argued case wife must imitated somebody else s hand said king boy sneeze baby shriek gryphon sentence first thinking duchess asked another dig see thing drawing muchness told water seemed quiver fright oh beg much look comfortable certainly beat sneezes please majesty said knave didn t write alice idea despair put hand directions will look chief difficulty alice found first managing forehead position usually see shakespeare dormouse shall cried wake bright idea came alice s head reason made another rush stick tumbled head heels alice said nothing sat face will won t will won t won t join short time queen furious passion went children white rabbit blew three blasts trumpet alice s love little golden key lying glass table enormous puppy looking large round two guinea pigs giving something bottle shedding gallons tears large pool beautiful garden among bright flower beds cool fountains waving tail melancholy way quite unable say ll go round get window yes grow reasonable pace said dormouse pleasure making daisy chain worth trouble sadly quietly looked alice waist duchess said pause reason m dozing just begun dream fall never come end jury use speaking thought till ears come well like little larger sir mind now poor little thing sobbed gone much farther came sight head hand watching setting sun thinking take hat king said hatter well rate dormouse said hatter went hall mouse growled reply bank nothing twice next came angry voice rabbit s pat pat said alice don t even know mock turtle fun said alice alice just beginning think now time life turned house found fan breath till puppy s bark sounded quite faint last unfolded arms took hookah mouth improve shining tail well sneezing idea tale something like different m next question twinkling tea ten little dears came jumping merrily along hand doesn t matter way go said cat old fellow said others listen still good practice say yes re kind serpent s can say dormouse turn dormouse court suppress pinch\n"
     ]
    }
   ],
   "source": [
    "print(sample_text)"
   ]
  },
  {
   "cell_type": "code",
   "execution_count": null,
   "id": "640bd68f-73be-40b3-9aaa-10a2c8879a7f",
   "metadata": {},
   "outputs": [],
   "source": [
    "import spacy\n",
    "\n",
    "nlp = spacy.load(\"en_core_web_sm\")\n",
    "doc = nlp(sample_text)\n",
    "\n",
    "lemmas = []\n",
    "for token in doc:\n",
    "    lemmas.append(token.lemma_)\n",
    "\n",
    "for i in range(30):\n",
    "    print(doc[i], lemmas[i])\n",
    "... # выведите пары (token, lemma) в диапазоне 30,\n",
    "# т.е. для первых 30 элементов списка lemmas и для первых 30 элементов doc"
   ]
  },
  {
   "cell_type": "code",
   "execution_count": 24,
   "id": "031fc506-53d2-464b-a6e4-062a695964cb",
   "metadata": {},
   "outputs": [
    {
     "name": "stdout",
     "output_type": "stream",
     "text": [
      "chance -> NOUN\n",
      "began -> VERB\n",
      "looking -> VERB\n",
      "everything -> PRON\n",
      "trumpet -> NOUN\n",
      "one -> NUM\n",
      "hand -> NOUN\n",
      "scroll -> NOUN\n",
      "parchment -> VERB\n",
      "exactly -> ADV\n",
      "nothing -> PRON\n",
      "happened -> VERB\n",
      "use -> NOUN\n",
      "now -> ADV\n",
      "thought -> VERB\n",
      "poor -> ADJ\n",
      "alice -> NOUN\n",
      "pretend -> VERB\n",
      "two -> NUM\n",
      "people -> NOUN\n",
      "melancholy -> ADJ\n",
      "tone -> NOUN\n",
      "nobody -> PRON\n",
      "seems -> VERB\n",
      "like -> SCONJ\n",
      "m -> PROPN\n",
      "reply -> NOUN\n",
      "fear -> NOUN\n",
      "forget -> VERB\n",
      "end -> VERB\n"
     ]
    }
   ],
   "source": [
    "pos_annotation = []\n",
    "for token in doc:\n",
    "    pos_annotation.append((token.text, token.pos_))\n",
    "\n",
    "for i in range(30):\n",
    "    print(f'{pos_annotation[i][0]} -> {pos_annotation[i][1]}')"
   ]
  },
  {
   "cell_type": "code",
   "execution_count": 25,
   "id": "27821114-c15c-4c5d-bedf-c45be01c741a",
   "metadata": {},
   "outputs": [
    {
     "data": {
      "text/html": [
       "<span class=\"tex2jax_ignore\"><svg xmlns=\"http://www.w3.org/2000/svg\" xmlns:xlink=\"http://www.w3.org/1999/xlink\" xml:lang=\"en\" id=\"dec37929e20d4d5799f9a0b7f4dcf289-0\" class=\"displacy\" width=\"650\" height=\"257.0\" direction=\"ltr\" style=\"max-width: none; height: 257.0px; color: white; background: rgb(0, 50, 0); font-family: Arial; direction: ltr\">\n",
       "<text class=\"displacy-token\" fill=\"currentColor\" text-anchor=\"middle\" y=\"167.0\">\n",
       "    <tspan class=\"displacy-word\" fill=\"currentColor\" x=\"50\">leave</tspan>\n",
       "    <tspan class=\"displacy-tag\" dy=\"2em\" fill=\"currentColor\" x=\"50\">NOUN</tspan>\n",
       "</text>\n",
       "\n",
       "<text class=\"displacy-token\" fill=\"currentColor\" text-anchor=\"middle\" y=\"167.0\">\n",
       "    <tspan class=\"displacy-word\" fill=\"currentColor\" x=\"170\">screamed</tspan>\n",
       "    <tspan class=\"displacy-tag\" dy=\"2em\" fill=\"currentColor\" x=\"170\">VERB</tspan>\n",
       "</text>\n",
       "\n",
       "<text class=\"displacy-token\" fill=\"currentColor\" text-anchor=\"middle\" y=\"167.0\">\n",
       "    <tspan class=\"displacy-word\" fill=\"currentColor\" x=\"290\">queen</tspan>\n",
       "    <tspan class=\"displacy-tag\" dy=\"2em\" fill=\"currentColor\" x=\"290\">NOUN</tspan>\n",
       "</text>\n",
       "\n",
       "<text class=\"displacy-token\" fill=\"currentColor\" text-anchor=\"middle\" y=\"167.0\">\n",
       "    <tspan class=\"displacy-word\" fill=\"currentColor\" x=\"410\">make</tspan>\n",
       "    <tspan class=\"displacy-tag\" dy=\"2em\" fill=\"currentColor\" x=\"410\">VERB</tspan>\n",
       "</text>\n",
       "\n",
       "<text class=\"displacy-token\" fill=\"currentColor\" text-anchor=\"middle\" y=\"167.0\">\n",
       "    <tspan class=\"displacy-word\" fill=\"currentColor\" x=\"530\">giddy</tspan>\n",
       "    <tspan class=\"displacy-tag\" dy=\"2em\" fill=\"currentColor\" x=\"530\">ADJ</tspan>\n",
       "</text>\n",
       "\n",
       "<g class=\"displacy-arrow\">\n",
       "    <path class=\"displacy-arc\" id=\"arrow-dec37929e20d4d5799f9a0b7f4dcf289-0-0\" stroke-width=\"2px\" d=\"M70,122.0 C70,62.0 165.0,62.0 165.0,122.0\" fill=\"none\" stroke=\"currentColor\"/>\n",
       "    <text dy=\"1.25em\" style=\"font-size: 0.8em; letter-spacing: 1px\">\n",
       "        <textPath xlink:href=\"#arrow-dec37929e20d4d5799f9a0b7f4dcf289-0-0\" class=\"displacy-label\" startOffset=\"50%\" side=\"left\" fill=\"currentColor\" text-anchor=\"middle\">nsubj</textPath>\n",
       "    </text>\n",
       "    <path class=\"displacy-arrowhead\" d=\"M70,124.0 L62,112.0 78,112.0\" fill=\"currentColor\"/>\n",
       "</g>\n",
       "\n",
       "<g class=\"displacy-arrow\">\n",
       "    <path class=\"displacy-arc\" id=\"arrow-dec37929e20d4d5799f9a0b7f4dcf289-0-1\" stroke-width=\"2px\" d=\"M310,122.0 C310,62.0 405.0,62.0 405.0,122.0\" fill=\"none\" stroke=\"currentColor\"/>\n",
       "    <text dy=\"1.25em\" style=\"font-size: 0.8em; letter-spacing: 1px\">\n",
       "        <textPath xlink:href=\"#arrow-dec37929e20d4d5799f9a0b7f4dcf289-0-1\" class=\"displacy-label\" startOffset=\"50%\" side=\"left\" fill=\"currentColor\" text-anchor=\"middle\">nsubj</textPath>\n",
       "    </text>\n",
       "    <path class=\"displacy-arrowhead\" d=\"M310,124.0 L302,112.0 318,112.0\" fill=\"currentColor\"/>\n",
       "</g>\n",
       "\n",
       "<g class=\"displacy-arrow\">\n",
       "    <path class=\"displacy-arc\" id=\"arrow-dec37929e20d4d5799f9a0b7f4dcf289-0-2\" stroke-width=\"2px\" d=\"M190,122.0 C190,2.0 410.0,2.0 410.0,122.0\" fill=\"none\" stroke=\"currentColor\"/>\n",
       "    <text dy=\"1.25em\" style=\"font-size: 0.8em; letter-spacing: 1px\">\n",
       "        <textPath xlink:href=\"#arrow-dec37929e20d4d5799f9a0b7f4dcf289-0-2\" class=\"displacy-label\" startOffset=\"50%\" side=\"left\" fill=\"currentColor\" text-anchor=\"middle\">ccomp</textPath>\n",
       "    </text>\n",
       "    <path class=\"displacy-arrowhead\" d=\"M410.0,124.0 L418.0,112.0 402.0,112.0\" fill=\"currentColor\"/>\n",
       "</g>\n",
       "\n",
       "<g class=\"displacy-arrow\">\n",
       "    <path class=\"displacy-arc\" id=\"arrow-dec37929e20d4d5799f9a0b7f4dcf289-0-3\" stroke-width=\"2px\" d=\"M430,122.0 C430,62.0 525.0,62.0 525.0,122.0\" fill=\"none\" stroke=\"currentColor\"/>\n",
       "    <text dy=\"1.25em\" style=\"font-size: 0.8em; letter-spacing: 1px\">\n",
       "        <textPath xlink:href=\"#arrow-dec37929e20d4d5799f9a0b7f4dcf289-0-3\" class=\"displacy-label\" startOffset=\"50%\" side=\"left\" fill=\"currentColor\" text-anchor=\"middle\">dobj</textPath>\n",
       "    </text>\n",
       "    <path class=\"displacy-arrowhead\" d=\"M525.0,124.0 L533.0,112.0 517.0,112.0\" fill=\"currentColor\"/>\n",
       "</g>\n",
       "</svg></span>"
      ],
      "text/plain": [
       "<IPython.core.display.HTML object>"
      ]
     },
     "metadata": {},
     "output_type": "display_data"
    }
   ],
   "source": [
    "# Синтаксичсекая разметка \n",
    "from spacy import displacy # строим синтаксическое дерево \n",
    "\n",
    "def get_random_sentence(): # пишем функцию для разбора рандомного предложения\n",
    "  return random.choice(cleaned_data)\n",
    "\n",
    "random_sentence = get_random_sentence()\n",
    "doc_ = nlp(random_sentence)\n",
    "\n",
    "syntax_annotation = [(token.text, token.dep_, token.head.text) for token in doc_]\n",
    "displacy.render(doc_, style=\"dep\", jupyter=True, options={\n",
    "    \"distance\": 120,  # Adjust the distance between nodes\n",
    "    \"font\": \"Arial\",  # Set the font\n",
    "    \"color\": \"white\",  # Set the color\n",
    "    \"bg\": \"rgb(0, 50, 0)\"   # Set the background color\n",
    "})"
   ]
  },
  {
   "cell_type": "code",
   "execution_count": 26,
   "id": "d6638e81-f1a9-4edf-bb12-03b8c804a5d0",
   "metadata": {},
   "outputs": [
    {
     "data": {
      "text/html": [
       "<span class=\"tex2jax_ignore\"><div class=\"entities\" style=\"line-height: 2.5; direction: ltr\">chance began looking everything trumpet one hand scroll parchment exactly nothing happened use now thought poor alice pretend \n",
       "<mark class=\"entity\" style=\"background: #e4e7d2; padding: 0.45em 0.6em; margin: 0 0.25em; line-height: 1; border-radius: 0.35em;\">\n",
       "    two\n",
       "    <span style=\"font-size: 0.8em; font-weight: bold; line-height: 1; border-radius: 0.35em; vertical-align: middle; margin-left: 0.5rem\">CARDINAL</span>\n",
       "</mark>\n",
       " people melancholy tone nobody seems like m reply fear forget end quite much use trial \n",
       "<mark class=\"entity\" style=\"background: #e4e7d2; padding: 0.45em 0.6em; margin: 0 0.25em; line-height: 1; border-radius: 0.35em;\">\n",
       "    one\n",
       "    <span style=\"font-size: 0.8em; font-weight: bold; line-height: 1; border-radius: 0.35em; vertical-align: middle; margin-left: 0.5rem\">CARDINAL</span>\n",
       "</mark>\n",
       " way generally ridge furrow way wherever curiosity alice began telling adventures time found said duck foot matters good deal said alice hastily m like rude bore well footman seemed think good opportunity looking fan pair white kid gloves wouldn t mind said alice \n",
       "<mark class=\"entity\" style=\"background: #e4e7d2; padding: 0.45em 0.6em; margin: 0 0.25em; line-height: 1; border-radius: 0.35em;\">\n",
       "    three inches\n",
       "    <span style=\"font-size: 0.8em; font-weight: bold; line-height: 1; border-radius: 0.35em; vertical-align: middle; margin-left: 0.5rem\">QUANTITY</span>\n",
       "</mark>\n",
       " wretched creatures argue s enough drive \n",
       "<mark class=\"entity\" style=\"background: #e4e7d2; padding: 0.45em 0.6em; margin: 0 0.25em; line-height: 1; border-radius: 0.35em;\">\n",
       "    one\n",
       "    <span style=\"font-size: 0.8em; font-weight: bold; line-height: 1; border-radius: 0.35em; vertical-align: middle; margin-left: 0.5rem\">CARDINAL</span>\n",
       "</mark>\n",
       " crazy trying every door walked sadly middle must said cat wouldn t come heard muttering duchess duchess morcar \n",
       "<mark class=\"entity\" style=\"background: #aa9cfc; padding: 0.45em 0.6em; margin: 0 0.25em; line-height: 1; border-radius: 0.35em;\">\n",
       "    earls mercia northumbria\n",
       "    <span style=\"font-size: 0.8em; font-weight: bold; line-height: 1; border-radius: 0.35em; vertical-align: middle; margin-left: 0.5rem\">PERSON</span>\n",
       "</mark>\n",
       " conversation dropped party sat silent minute \n",
       "<mark class=\"entity\" style=\"background: #e4e7d2; padding: 0.45em 0.6em; margin: 0 0.25em; line-height: 1; border-radius: 0.35em;\">\n",
       "    first\n",
       "    <span style=\"font-size: 0.8em; font-weight: bold; line-height: 1; border-radius: 0.35em; vertical-align: middle; margin-left: 0.5rem\">ORDINAL</span>\n",
       "</mark>\n",
       " thing ve got said alice said queen pointing \n",
       "<mark class=\"entity\" style=\"background: #e4e7d2; padding: 0.45em 0.6em; margin: 0 0.25em; line-height: 1; border-radius: 0.35em;\">\n",
       "    three\n",
       "    <span style=\"font-size: 0.8em; font-weight: bold; line-height: 1; border-radius: 0.35em; vertical-align: middle; margin-left: 0.5rem\">CARDINAL</span>\n",
       "</mark>\n",
       " reeling writhing course begin mock ll likely story indeed said pigeon tone round face large eyes like frog footmen indeed said alice sort dance best butter know \n",
       "<mark class=\"entity\" style=\"background: #bfe1d9; padding: 0.45em 0.6em; margin: 0 0.25em; line-height: 1; border-radius: 0.35em;\">\n",
       "    next day\n",
       "    <span style=\"font-size: 0.8em; font-weight: bold; line-height: 1; border-radius: 0.35em; vertical-align: middle; margin-left: 0.5rem\">DATE</span>\n",
       "</mark>\n",
       " \n",
       "<mark class=\"entity\" style=\"background: #bfe1d9; padding: 0.45em 0.6em; margin: 0 0.25em; line-height: 1; border-radius: 0.35em;\">\n",
       "    maybe footman\n",
       "    <span style=\"font-size: 0.8em; font-weight: bold; line-height: 1; border-radius: 0.35em; vertical-align: middle; margin-left: 0.5rem\">TIME</span>\n",
       "</mark>\n",
       " continued tone boxed queen s ears rabbit began alice gave ahem said mouse important air ready wish wouldn t squeeze said dormouse ever good bye feet looked never said queen furiously throwing inkstand can said duchess em m afraid can t put clearly alice replied gently smiling jaws everything alice said s large mustard mine near \n",
       "<mark class=\"entity\" style=\"background: #bfe1d9; padding: 0.45em 0.6em; margin: 0 0.25em; line-height: 1; border-radius: 0.35em;\">\n",
       "    stays year\n",
       "    <span style=\"font-size: 0.8em; font-weight: bold; line-height: 1; border-radius: 0.35em; vertical-align: middle; margin-left: 0.5rem\">DATE</span>\n",
       "</mark>\n",
       " long time together just missed like see little said mock turtle mouth addressed languid sleepy voice somebody managed put \n",
       "<mark class=\"entity\" style=\"background: #e4e7d2; padding: 0.45em 0.6em; margin: 0 0.25em; line-height: 1; border-radius: 0.35em;\">\n",
       "    one\n",
       "    <span style=\"font-size: 0.8em; font-weight: bold; line-height: 1; border-radius: 0.35em; vertical-align: middle; margin-left: 0.5rem\">CARDINAL</span>\n",
       "</mark>\n",
       " cupboards opening eyes course course just going got head going begin little golden key went back table alice see well looking hard attempt proved failure alice heard took housemaid said ran \n",
       "<mark class=\"entity\" style=\"background: #aa9cfc; padding: 0.45em 0.6em; margin: 0 0.25em; line-height: 1; border-radius: 0.35em;\">\n",
       "    s pun king\n",
       "    <span style=\"font-size: 0.8em; font-weight: bold; line-height: 1; border-radius: 0.35em; vertical-align: middle; margin-left: 0.5rem\">PERSON</span>\n",
       "</mark>\n",
       " added offended tone alice wish offend dormouse began oh dear paws oh fur whiskers ll get wake alice dear said \n",
       "<mark class=\"entity\" style=\"background: #bfe1d9; padding: 0.45em 0.6em; margin: 0 0.25em; line-height: 1; border-radius: 0.35em;\">\n",
       "    sister long many hours\n",
       "    <span style=\"font-size: 0.8em; font-weight: bold; line-height: 1; border-radius: 0.35em; vertical-align: middle; margin-left: 0.5rem\">TIME</span>\n",
       "</mark>\n",
       " day lessons said alice duchess ugly \n",
       "<mark class=\"entity\" style=\"background: #e4e7d2; padding: 0.45em 0.6em; margin: 0 0.25em; line-height: 1; border-radius: 0.35em;\">\n",
       "    secondly\n",
       "    <span style=\"font-size: 0.8em; font-weight: bold; line-height: 1; border-radius: 0.35em; vertical-align: middle; margin-left: 0.5rem\">ORDINAL</span>\n",
       "</mark>\n",
       " remark knot said alice always ready make useful dreadfully savage exclaimed alice low voice fact see miss seem sending presents \n",
       "<mark class=\"entity\" style=\"background: #e4e7d2; padding: 0.45em 0.6em; margin: 0 0.25em; line-height: 1; border-radius: 0.35em;\">\n",
       "    one s feet\n",
       "    <span style=\"font-size: 0.8em; font-weight: bold; line-height: 1; border-radius: 0.35em; vertical-align: middle; margin-left: 0.5rem\">QUANTITY</span>\n",
       "</mark>\n",
       " odd hadn t time said gryphon went classics shan t beheaded said alice put hold tongue added gryphon alice speak looking anxiously oh let help undo didn t said \n",
       "<mark class=\"entity\" style=\"background: #aa9cfc; padding: 0.45em 0.6em; margin: 0 0.25em; line-height: 1; border-radius: 0.35em;\">\n",
       "    alice don\n",
       "    <span style=\"font-size: 0.8em; font-weight: bold; line-height: 1; border-radius: 0.35em; vertical-align: middle; margin-left: 0.5rem\">PERSON</span>\n",
       "</mark>\n",
       " t think s pity instance s arch ve got go next think good reason caterpillar seemed making faces spoke still listened seemed listen whole place trial proceed said king grave hard whistle terribly frightened never saw \n",
       "<mark class=\"entity\" style=\"background: #e4e7d2; padding: 0.45em 0.6em; margin: 0 0.25em; line-height: 1; border-radius: 0.35em;\">\n",
       "    one\n",
       "    <span style=\"font-size: 0.8em; font-weight: bold; line-height: 1; border-radius: 0.35em; vertical-align: middle; margin-left: 0.5rem\">CARDINAL</span>\n",
       "</mark>\n",
       " heard one said alice act crawling away besides remarked \n",
       "<mark class=\"entity\" style=\"background: #bfe1d9; padding: 0.45em 0.6em; margin: 0 0.25em; line-height: 1; border-radius: 0.35em;\">\n",
       "    lessen day day\n",
       "    <span style=\"font-size: 0.8em; font-weight: bold; line-height: 1; border-radius: 0.35em; vertical-align: middle; margin-left: 0.5rem\">DATE</span>\n",
       "</mark>\n",
       " don t impertinent said king \n",
       "<mark class=\"entity\" style=\"background: #aa9cfc; padding: 0.45em 0.6em; margin: 0 0.25em; line-height: 1; border-radius: 0.35em;\">\n",
       "    don\n",
       "    <span style=\"font-size: 0.8em; font-weight: bold; line-height: 1; border-radius: 0.35em; vertical-align: middle; margin-left: 0.5rem\">PERSON</span>\n",
       "</mark>\n",
       " t look impatiently shrimp told \n",
       "<mark class=\"entity\" style=\"background: #e4e7d2; padding: 0.45em 0.6em; margin: 0 0.25em; line-height: 1; border-radius: 0.35em;\">\n",
       "    first\n",
       "    <span style=\"font-size: 0.8em; font-weight: bold; line-height: 1; border-radius: 0.35em; vertical-align: middle; margin-left: 0.5rem\">ORDINAL</span>\n",
       "</mark>\n",
       " thought must walrus hippopotamus \n",
       "<mark class=\"entity\" style=\"background: #e4e7d2; padding: 0.45em 0.6em; margin: 0 0.25em; line-height: 1; border-radius: 0.35em;\">\n",
       "    five seven\n",
       "    <span style=\"font-size: 0.8em; font-weight: bold; line-height: 1; border-radius: 0.35em; vertical-align: middle; margin-left: 0.5rem\">CARDINAL</span>\n",
       "</mark>\n",
       " said nothing looked \n",
       "<mark class=\"entity\" style=\"background: #e4e7d2; padding: 0.45em 0.6em; margin: 0 0.25em; line-height: 1; border-radius: 0.35em;\">\n",
       "    two\n",
       "    <span style=\"font-size: 0.8em; font-weight: bold; line-height: 1; border-radius: 0.35em; vertical-align: middle; margin-left: 0.5rem\">CARDINAL</span>\n",
       "</mark>\n",
       " \n",
       "<mark class=\"entity\" style=\"background: #e4e7d2; padding: 0.45em 0.6em; margin: 0 0.25em; line-height: 1; border-radius: 0.35em;\">\n",
       "    two\n",
       "    <span style=\"font-size: 0.8em; font-weight: bold; line-height: 1; border-radius: 0.35em; vertical-align: middle; margin-left: 0.5rem\">CARDINAL</span>\n",
       "</mark>\n",
       " began somebody said alice whispered s done everybody mentioned dear d nearly forgotten ve got grow let rattling window hit face idea somehow fallen sea getting now dear continued turning alice secret kept rest minute \n",
       "<mark class=\"entity\" style=\"background: #e4e7d2; padding: 0.45em 0.6em; margin: 0 0.25em; line-height: 1; border-radius: 0.35em;\">\n",
       "    two\n",
       "    <span style=\"font-size: 0.8em; font-weight: bold; line-height: 1; border-radius: 0.35em; vertical-align: middle; margin-left: 0.5rem\">CARDINAL</span>\n",
       "</mark>\n",
       " sobs choked voice bone twist round look face trial head brandy now \n",
       "<mark class=\"entity\" style=\"background: #aa9cfc; padding: 0.45em 0.6em; margin: 0 0.25em; line-height: 1; border-radius: 0.35em;\">\n",
       "    don\n",
       "    <span style=\"font-size: 0.8em; font-weight: bold; line-height: 1; border-radius: 0.35em; vertical-align: middle; margin-left: 0.5rem\">PERSON</span>\n",
       "</mark>\n",
       " t choke old fellow work nibbling mushroom kept piece try sneezing every now great crash dish cause fan holding dropped s atom meaning none attempted looking hear tones confusing thing ever heard bottle hope ll make grow large crossed hands lap saying lessons eyes filled tears went must mabel confusion never knew whether turn gryphon lifted paws surprise never s important king said turning jury nearly carried now give fair warning shouted queen stamping denial looked round eager see queen sort every day good height indeed said \n",
       "<mark class=\"entity\" style=\"background: #7aecec; padding: 0.45em 0.6em; margin: 0 0.25em; line-height: 1; border-radius: 0.35em;\">\n",
       "    caterpillar\n",
       "    <span style=\"font-size: 0.8em; font-weight: bold; line-height: 1; border-radius: 0.35em; vertical-align: middle; margin-left: 0.5rem\">ORG</span>\n",
       "</mark>\n",
       " going heard queen s voice distance \n",
       "<mark class=\"entity\" style=\"background: #7aecec; padding: 0.45em 0.6em; margin: 0 0.25em; line-height: 1; border-radius: 0.35em;\">\n",
       "    caterpillar\n",
       "    <span style=\"font-size: 0.8em; font-weight: bold; line-height: 1; border-radius: 0.35em; vertical-align: middle; margin-left: 0.5rem\">ORG</span>\n",
       "</mark>\n",
       " sitting top arms folded trims belt buttons turns toes quicker sister s dream lay blame others \n",
       "<mark class=\"entity\" style=\"background: #e4e7d2; padding: 0.45em 0.6em; margin: 0 0.25em; line-height: 1; border-radius: 0.35em;\">\n",
       "    first\n",
       "    <span style=\"font-size: 0.8em; font-weight: bold; line-height: 1; border-radius: 0.35em; vertical-align: middle; margin-left: 0.5rem\">ORDINAL</span>\n",
       "</mark>\n",
       " question course get dry much d right size oh sat nobody spoke minutes alice procession came opposite alice stopped anxiously among trees little sharp bark just turned pig alice quietly said just hopeful tone though won t pepper kitchen one can explain said alice bit mushroom raised \n",
       "<mark class=\"entity\" style=\"background: #e4e7d2; padding: 0.45em 0.6em; margin: 0 0.25em; line-height: 1; border-radius: 0.35em;\">\n",
       "    two feet\n",
       "    <span style=\"font-size: 0.8em; font-weight: bold; line-height: 1; border-radius: 0.35em; vertical-align: middle; margin-left: 0.5rem\">QUANTITY</span>\n",
       "</mark>\n",
       " high even dare say may one found nothing tops trees must manage best way can must \n",
       "<mark class=\"entity\" style=\"background: #e4e7d2; padding: 0.45em 0.6em; margin: 0 0.25em; line-height: 1; border-radius: 0.35em;\">\n",
       "    first\n",
       "    <span style=\"font-size: 0.8em; font-weight: bold; line-height: 1; border-radius: 0.35em; vertical-align: middle; margin-left: 0.5rem\">ORDINAL</span>\n",
       "</mark>\n",
       " dreamed little alice upon tiptoe put mouth close ear hard word will just explain done d whisper hint time round goes consider verdict king said jury couldn t wanted much said alice living moved alice soon left alone writing slate \n",
       "<mark class=\"entity\" style=\"background: #e4e7d2; padding: 0.45em 0.6em; margin: 0 0.25em; line-height: 1; border-radius: 0.35em;\">\n",
       "    one\n",
       "    <span style=\"font-size: 0.8em; font-weight: bold; line-height: 1; border-radius: 0.35em; vertical-align: middle; margin-left: 0.5rem\">CARDINAL</span>\n",
       "</mark>\n",
       " finger found made ventured ask said march hare said \n",
       "<mark class=\"entity\" style=\"background: #e4e7d2; padding: 0.45em 0.6em; margin: 0 0.25em; line-height: 1; border-radius: 0.35em;\">\n",
       "    one\n",
       "    <span style=\"font-size: 0.8em; font-weight: bold; line-height: 1; border-radius: 0.35em; vertical-align: middle; margin-left: 0.5rem\">CARDINAL</span>\n",
       "</mark>\n",
       " spoken \n",
       "<mark class=\"entity\" style=\"background: #e4e7d2; padding: 0.45em 0.6em; margin: 0 0.25em; line-height: 1; border-radius: 0.35em;\">\n",
       "    first\n",
       "    <span style=\"font-size: 0.8em; font-weight: bold; line-height: 1; border-radius: 0.35em; vertical-align: middle; margin-left: 0.5rem\">ORDINAL</span>\n",
       "</mark>\n",
       " angrily rearing upright spoke exactly \n",
       "<mark class=\"entity\" style=\"background: #e4e7d2; padding: 0.45em 0.6em; margin: 0 0.25em; line-height: 1; border-radius: 0.35em;\">\n",
       "    three\n",
       "    <span style=\"font-size: 0.8em; font-weight: bold; line-height: 1; border-radius: 0.35em; vertical-align: middle; margin-left: 0.5rem\">CARDINAL</span>\n",
       "</mark>\n",
       " turtle soup will old fellow lock great delight fitted thought perhaps pepper wandering hair always get eyes getting home night \n",
       "<mark class=\"entity\" style=\"background: #aa9cfc; padding: 0.45em 0.6em; margin: 0 0.25em; line-height: 1; border-radius: 0.35em;\">\n",
       "    air doesn\n",
       "    <span style=\"font-size: 0.8em; font-weight: bold; line-height: 1; border-radius: 0.35em; vertical-align: middle; margin-left: 0.5rem\">PERSON</span>\n",
       "</mark>\n",
       " t suit throat canary however last stretched arms round far can t help said alice meekly m growing haven t opened yet said white rabbit seems may lived much sea haven t said alice way back barking hoarsely till last sat pool tears wept \n",
       "<mark class=\"entity\" style=\"background: #e4e7d2; padding: 0.45em 0.6em; margin: 0 0.25em; line-height: 1; border-radius: 0.35em;\">\n",
       "    nine\n",
       "    <span style=\"font-size: 0.8em; font-weight: bold; line-height: 1; border-radius: 0.35em; vertical-align: middle; margin-left: 0.5rem\">CARDINAL</span>\n",
       "</mark>\n",
       " doze pinched hatter woke sounds broken glass number cucumber frames white rabbit returning splendidly dressed alice going hurry ll look sister well remember strange finished said using cushion resting elbows talking creatures alice led way whole party swam direction march hare said live ve seen twinkle twinkle heads saying come dear shall look serpent screamed pigeon hedgehog engaged fight another hedgehog shall get better please said alice get \n",
       "<mark class=\"entity\" style=\"background: #e4e7d2; padding: 0.45em 0.6em; margin: 0 0.25em; line-height: 1; border-radius: 0.35em;\">\n",
       "    first\n",
       "    <span style=\"font-size: 0.8em; font-weight: bold; line-height: 1; border-radius: 0.35em; vertical-align: middle; margin-left: 0.5rem\">ORDINAL</span>\n",
       "</mark>\n",
       " question know seemed rise like stalk sea green leaves lay rather sharply advise leave minute angry wags tail s pleased now growl m said raven like writing desk saying daughter ah dear let lesson alice laughed much run back looking cat s head great curiosity doubtful temper flamingo shall try made awfully clever said curiouser curiouser cried alice much poor alice much lying \n",
       "<mark class=\"entity\" style=\"background: #e4e7d2; padding: 0.45em 0.6em; margin: 0 0.25em; line-height: 1; border-radius: 0.35em;\">\n",
       "    one\n",
       "    <span style=\"font-size: 0.8em; font-weight: bold; line-height: 1; border-radius: 0.35em; vertical-align: middle; margin-left: 0.5rem\">CARDINAL</span>\n",
       "</mark>\n",
       " birds tittered audibly mushroom crawled away grass merely mixed flavour cherry \n",
       "<mark class=\"entity\" style=\"background: #aa9cfc; padding: 0.45em 0.6em; margin: 0 0.25em; line-height: 1; border-radius: 0.35em;\">\n",
       "    tart custard pine apple\n",
       "    <span style=\"font-size: 0.8em; font-weight: bold; line-height: 1; border-radius: 0.35em; vertical-align: middle; margin-left: 0.5rem\">PERSON</span>\n",
       "</mark>\n",
       " roast chapter iv minding business well say see eat thing eat cat seemed think enough now sight feared might injure brain said caterpillar face quite jumped saw another moment addressed can t think glad see dear old thank s interesting dance watch said little made next remark \n",
       "<mark class=\"entity\" style=\"background: #bfe1d9; padding: 0.45em 0.6em; margin: 0 0.25em; line-height: 1; border-radius: 0.35em;\">\n",
       "    eleventh day\n",
       "    <span style=\"font-size: 0.8em; font-weight: bold; line-height: 1; border-radius: 0.35em; vertical-align: middle; margin-left: 0.5rem\">DATE</span>\n",
       "</mark>\n",
       " gryphon queen put spectacles began staring says kills rats oh dear cried alice pocket pulled box comfits luckily salt argued case wife must imitated somebody else s hand said king boy sneeze baby shriek gryphon sentence \n",
       "<mark class=\"entity\" style=\"background: #e4e7d2; padding: 0.45em 0.6em; margin: 0 0.25em; line-height: 1; border-radius: 0.35em;\">\n",
       "    first\n",
       "    <span style=\"font-size: 0.8em; font-weight: bold; line-height: 1; border-radius: 0.35em; vertical-align: middle; margin-left: 0.5rem\">ORDINAL</span>\n",
       "</mark>\n",
       " thinking duchess asked another dig see thing drawing muchness told water seemed quiver fright oh beg much look comfortable certainly beat sneezes please \n",
       "<mark class=\"entity\" style=\"background: #aa9cfc; padding: 0.45em 0.6em; margin: 0 0.25em; line-height: 1; border-radius: 0.35em;\">\n",
       "    majesty\n",
       "    <span style=\"font-size: 0.8em; font-weight: bold; line-height: 1; border-radius: 0.35em; vertical-align: middle; margin-left: 0.5rem\">PERSON</span>\n",
       "</mark>\n",
       " said knave didn t write alice idea despair put hand directions will look chief difficulty alice found \n",
       "<mark class=\"entity\" style=\"background: #e4e7d2; padding: 0.45em 0.6em; margin: 0 0.25em; line-height: 1; border-radius: 0.35em;\">\n",
       "    first\n",
       "    <span style=\"font-size: 0.8em; font-weight: bold; line-height: 1; border-radius: 0.35em; vertical-align: middle; margin-left: 0.5rem\">ORDINAL</span>\n",
       "</mark>\n",
       " managing forehead position usually see shakespeare dormouse shall cried wake bright idea came alice s head reason made another rush stick tumbled head \n",
       "<mark class=\"entity\" style=\"background: #aa9cfc; padding: 0.45em 0.6em; margin: 0 0.25em; line-height: 1; border-radius: 0.35em;\">\n",
       "    heels alice\n",
       "    <span style=\"font-size: 0.8em; font-weight: bold; line-height: 1; border-radius: 0.35em; vertical-align: middle; margin-left: 0.5rem\">PERSON</span>\n",
       "</mark>\n",
       " said nothing sat face will won t will won t won t join short time queen furious passion went children white rabbit blew \n",
       "<mark class=\"entity\" style=\"background: #e4e7d2; padding: 0.45em 0.6em; margin: 0 0.25em; line-height: 1; border-radius: 0.35em;\">\n",
       "    three\n",
       "    <span style=\"font-size: 0.8em; font-weight: bold; line-height: 1; border-radius: 0.35em; vertical-align: middle; margin-left: 0.5rem\">CARDINAL</span>\n",
       "</mark>\n",
       " blasts trumpet alice s love little golden key lying glass table enormous puppy looking large round \n",
       "<mark class=\"entity\" style=\"background: #e4e7d2; padding: 0.45em 0.6em; margin: 0 0.25em; line-height: 1; border-radius: 0.35em;\">\n",
       "    two\n",
       "    <span style=\"font-size: 0.8em; font-weight: bold; line-height: 1; border-radius: 0.35em; vertical-align: middle; margin-left: 0.5rem\">CARDINAL</span>\n",
       "</mark>\n",
       " guinea pigs giving something bottle shedding gallons tears large pool beautiful garden among bright flower beds cool fountains waving tail melancholy way quite unable say ll go round get window yes grow reasonable pace said dormouse pleasure making daisy chain worth trouble sadly quietly looked alice waist duchess said pause reason m dozing just begun dream fall never come end jury use speaking thought till ears come well like little larger sir mind now poor little thing sobbed gone much farther came sight head hand watching setting sun thinking take hat king said hatter well rate dormouse said \n",
       "<mark class=\"entity\" style=\"background: #aa9cfc; padding: 0.45em 0.6em; margin: 0 0.25em; line-height: 1; border-radius: 0.35em;\">\n",
       "    hatter went\n",
       "    <span style=\"font-size: 0.8em; font-weight: bold; line-height: 1; border-radius: 0.35em; vertical-align: middle; margin-left: 0.5rem\">PERSON</span>\n",
       "</mark>\n",
       " \n",
       "<mark class=\"entity\" style=\"background: #aa9cfc; padding: 0.45em 0.6em; margin: 0 0.25em; line-height: 1; border-radius: 0.35em;\">\n",
       "    hall mouse\n",
       "    <span style=\"font-size: 0.8em; font-weight: bold; line-height: 1; border-radius: 0.35em; vertical-align: middle; margin-left: 0.5rem\">PERSON</span>\n",
       "</mark>\n",
       " growled reply bank nothing twice next came angry voice rabbit s \n",
       "<mark class=\"entity\" style=\"background: #aa9cfc; padding: 0.45em 0.6em; margin: 0 0.25em; line-height: 1; border-radius: 0.35em;\">\n",
       "    pat pat\n",
       "    <span style=\"font-size: 0.8em; font-weight: bold; line-height: 1; border-radius: 0.35em; vertical-align: middle; margin-left: 0.5rem\">PERSON</span>\n",
       "</mark>\n",
       " said \n",
       "<mark class=\"entity\" style=\"background: #aa9cfc; padding: 0.45em 0.6em; margin: 0 0.25em; line-height: 1; border-radius: 0.35em;\">\n",
       "    alice don\n",
       "    <span style=\"font-size: 0.8em; font-weight: bold; line-height: 1; border-radius: 0.35em; vertical-align: middle; margin-left: 0.5rem\">PERSON</span>\n",
       "</mark>\n",
       " t even know mock turtle fun said alice alice just beginning think now time life turned house found fan breath till puppy s bark sounded quite faint last unfolded arms took hookah mouth improve shining tail well sneezing idea tale something like different m next question twinkling tea \n",
       "<mark class=\"entity\" style=\"background: #e4e7d2; padding: 0.45em 0.6em; margin: 0 0.25em; line-height: 1; border-radius: 0.35em;\">\n",
       "    ten\n",
       "    <span style=\"font-size: 0.8em; font-weight: bold; line-height: 1; border-radius: 0.35em; vertical-align: middle; margin-left: 0.5rem\">CARDINAL</span>\n",
       "</mark>\n",
       " little dears came jumping merrily along hand \n",
       "<mark class=\"entity\" style=\"background: #aa9cfc; padding: 0.45em 0.6em; margin: 0 0.25em; line-height: 1; border-radius: 0.35em;\">\n",
       "    doesn\n",
       "    <span style=\"font-size: 0.8em; font-weight: bold; line-height: 1; border-radius: 0.35em; vertical-align: middle; margin-left: 0.5rem\">PERSON</span>\n",
       "</mark>\n",
       " t matter way go said cat old fellow said others listen still good practice say yes re kind serpent s can say dormouse turn dormouse court suppress pinch</div></span>"
      ],
      "text/plain": [
       "<IPython.core.display.HTML object>"
      ]
     },
     "metadata": {},
     "output_type": "display_data"
    }
   ],
   "source": [
    "# Разметка NER\n",
    "ner_annotation = [(ent.text, ent.label_) for ent in doc.ents]\n",
    "displacy.render(doc, style=\"ent\", jupyter=True)"
   ]
  },
  {
   "cell_type": "code",
   "execution_count": 55,
   "id": "c0206695-9d4d-41e7-9834-4d746b008173",
   "metadata": {},
   "outputs": [
    {
     "name": "stdout",
     "output_type": "stream",
     "text": [
      "{'Lemmatized Text': [['chance',\n",
      "                      'begin',\n",
      "                      'look',\n",
      "                      'everything',\n",
      "                      'trumpet',\n",
      "                      'one',\n",
      "                      'hand',\n",
      "                      'scroll',\n",
      "                      'parchment',\n",
      "                      'exactly']],\n",
      " 'Original Text': ['chance began looking everything trumpet one hand scroll '\n",
      "                   'parchment exactly'],\n",
      " 'POS Annotation\\t': [[('chance', 'NOUN'),\n",
      "                       ('began', 'VERB'),\n",
      "                       ('looking', 'VERB'),\n",
      "                       ('everything', 'PRON'),\n",
      "                       ('trumpet', 'NOUN'),\n",
      "                       ('one', 'NUM'),\n",
      "                       ('hand', 'NOUN'),\n",
      "                       ('scroll', 'NOUN'),\n",
      "                       ('parchment', 'VERB'),\n",
      "                       ('exactly', 'ADV')]],\n",
      " 'ner': [[('two', 'CARDINAL'),\n",
      "          ('one', 'CARDINAL'),\n",
      "          ('three inches', 'QUANTITY'),\n",
      "          ('one', 'CARDINAL'),\n",
      "          ('earls mercia northumbria', 'PERSON'),\n",
      "          ('first', 'ORDINAL'),\n",
      "          ('three', 'CARDINAL'),\n",
      "          ('next day', 'DATE'),\n",
      "          ('maybe footman', 'TIME'),\n",
      "          ('stays year', 'DATE')]]}\n"
     ]
    }
   ],
   "source": [
    "from pprint import pprint\n",
    "results = dict()\n",
    "results['Original Text'] = [doc[:10].text]\n",
    "results['Lemmatized Text'] = [lemmas[:10]]\n",
    "results['POS Annotation\t'] = [pos_annotation[:10]]\n",
    "results['ner'] = [ner_annotation[:10]]\n",
    "pprint(results)"
   ]
  },
  {
   "cell_type": "code",
   "execution_count": 56,
   "id": "30c6d52f-39dc-4aca-9765-ca705144356a",
   "metadata": {},
   "outputs": [
    {
     "data": {
      "text/html": [
       "<div>\n",
       "<style scoped>\n",
       "    .dataframe tbody tr th:only-of-type {\n",
       "        vertical-align: middle;\n",
       "    }\n",
       "\n",
       "    .dataframe tbody tr th {\n",
       "        vertical-align: top;\n",
       "    }\n",
       "\n",
       "    .dataframe thead th {\n",
       "        text-align: right;\n",
       "    }\n",
       "</style>\n",
       "<table border=\"1\" class=\"dataframe\">\n",
       "  <thead>\n",
       "    <tr style=\"text-align: right;\">\n",
       "      <th></th>\n",
       "      <th>Original Text</th>\n",
       "      <th>Lemmatized Text</th>\n",
       "      <th>POS Annotation\\t</th>\n",
       "      <th>ner</th>\n",
       "    </tr>\n",
       "  </thead>\n",
       "  <tbody>\n",
       "    <tr>\n",
       "      <th>0</th>\n",
       "      <td>chance began looking everything trumpet one ha...</td>\n",
       "      <td>[chance, begin, look, everything, trumpet, one...</td>\n",
       "      <td>[(chance, NOUN), (began, VERB), (looking, VERB...</td>\n",
       "      <td>[(two, CARDINAL), (one, CARDINAL), (three inch...</td>\n",
       "    </tr>\n",
       "  </tbody>\n",
       "</table>\n",
       "</div>"
      ],
      "text/plain": [
       "                                       Original Text  \\\n",
       "0  chance began looking everything trumpet one ha...   \n",
       "\n",
       "                                     Lemmatized Text  \\\n",
       "0  [chance, begin, look, everything, trumpet, one...   \n",
       "\n",
       "                                    POS Annotation\\t  \\\n",
       "0  [(chance, NOUN), (began, VERB), (looking, VERB...   \n",
       "\n",
       "                                                 ner  \n",
       "0  [(two, CARDINAL), (one, CARDINAL), (three inch...  "
      ]
     },
     "execution_count": 56,
     "metadata": {},
     "output_type": "execute_result"
    }
   ],
   "source": [
    "import pandas as pd\n",
    "\n",
    "df = pd.DataFrame(results) # создаем датафрейм с результатами\n",
    "df.head()\n",
    "\n"
   ]
  },
  {
   "cell_type": "code",
   "execution_count": 35,
   "id": "30c3a938-2309-4245-9341-a2a37ee0c9ac",
   "metadata": {},
   "outputs": [],
   "source": [
    "df.to_csv('nlp_results.csv', index=False)"
   ]
  },
  {
   "cell_type": "code",
   "execution_count": 31,
   "id": "96016f19-4acf-4b30-a924-1b949cfff986",
   "metadata": {},
   "outputs": [],
   "source": [
    "from datasets import Dataset   "
   ]
  },
  {
   "cell_type": "code",
   "execution_count": 62,
   "id": "bf3f512e-c669-4ff6-b213-cf512c433a1e",
   "metadata": {},
   "outputs": [],
   "source": [
    "alice_dataset = Dataset.from_dict(results)"
   ]
  },
  {
   "cell_type": "code",
   "execution_count": 63,
   "id": "22ba0797-47d9-41e0-9d7a-f554b61133ba",
   "metadata": {},
   "outputs": [
    {
     "data": {
      "text/plain": [
       "Dataset({\n",
       "    features: ['Original Text', 'Lemmatized Text', 'POS Annotation\\t', 'ner'],\n",
       "    num_rows: 1\n",
       "})"
      ]
     },
     "execution_count": 63,
     "metadata": {},
     "output_type": "execute_result"
    }
   ],
   "source": [
    "alice_dataset"
   ]
  },
  {
   "cell_type": "code",
   "execution_count": 70,
   "id": "3b4747ea-66d3-4b62-a6dc-c150270ddb97",
   "metadata": {},
   "outputs": [
    {
     "data": {
      "text/plain": [
       "RepoUrl('https://huggingface.co/Evgy23/Alice_dataset', endpoint='https://huggingface.co', repo_type='model', repo_id='Evgy23/Alice_dataset')"
      ]
     },
     "execution_count": 70,
     "metadata": {},
     "output_type": "execute_result"
    }
   ],
   "source": [
    "from huggingface_hub import create_repo\n",
    "create_repo(\"Evgy23/Alice_dataset\")"
   ]
  },
  {
   "cell_type": "code",
   "execution_count": 71,
   "id": "469fabcd-3739-4818-90f0-cee7acb83efd",
   "metadata": {},
   "outputs": [
    {
     "data": {
      "application/vnd.jupyter.widget-view+json": {
       "model_id": "ae2bcb9d13684ca9be1963a7336a2300",
       "version_major": 2,
       "version_minor": 0
      },
      "text/plain": [
       "Uploading the dataset shards:   0%|          | 0/1 [00:00<?, ?it/s]"
      ]
     },
     "metadata": {},
     "output_type": "display_data"
    },
    {
     "data": {
      "application/vnd.jupyter.widget-view+json": {
       "model_id": "3ec157d3d61d476db16f5c2a9d9aafa8",
       "version_major": 2,
       "version_minor": 0
      },
      "text/plain": [
       "Creating parquet from Arrow format:   0%|          | 0/1 [00:00<?, ?ba/s]"
      ]
     },
     "metadata": {},
     "output_type": "display_data"
    },
    {
     "data": {
      "text/plain": [
       "CommitInfo(commit_url='https://huggingface.co/datasets/Evgy23/Alice_dataset/commit/9ea7a6bcdad521cb68d2b11c9b923eb873e4b945', commit_message='Upload dataset', commit_description='', oid='9ea7a6bcdad521cb68d2b11c9b923eb873e4b945', pr_url=None, repo_url=RepoUrl('https://huggingface.co/datasets/Evgy23/Alice_dataset', endpoint='https://huggingface.co', repo_type='dataset', repo_id='Evgy23/Alice_dataset'), pr_revision=None, pr_num=None)"
      ]
     },
     "execution_count": 71,
     "metadata": {},
     "output_type": "execute_result"
    }
   ],
   "source": [
    "ds.push_to_hub(\"Evgy23/Alice_dataset\")\n"
   ]
  },
  {
   "cell_type": "code",
   "execution_count": 74,
   "id": "f850608d-deb8-4106-b33d-170dabd448d0",
   "metadata": {},
   "outputs": [
    {
     "data": {
      "text/plain": [
       "[['two', 'CARDINAL'],\n",
       " ['one', 'CARDINAL'],\n",
       " ['three inches', 'QUANTITY'],\n",
       " ['one', 'CARDINAL'],\n",
       " ['earls mercia northumbria', 'PERSON'],\n",
       " ['first', 'ORDINAL'],\n",
       " ['three', 'CARDINAL'],\n",
       " ['next day', 'DATE'],\n",
       " ['maybe footman', 'TIME'],\n",
       " ['stays year', 'DATE']]"
      ]
     },
     "execution_count": 74,
     "metadata": {},
     "output_type": "execute_result"
    }
   ],
   "source": [
    "from datasets import load_dataset\n",
    "\n",
    "ds = load_dataset(\"Evgy23/Alice_dataset\")\n",
    "\n",
    "ds['train']['ner'][0][:10]"
   ]
  }
 ],
 "metadata": {
  "kernelspec": {
   "display_name": "Python 3 (ipykernel)",
   "language": "python",
   "name": "python3"
  },
  "language_info": {
   "codemirror_mode": {
    "name": "ipython",
    "version": 3
   },
   "file_extension": ".py",
   "mimetype": "text/x-python",
   "name": "python",
   "nbconvert_exporter": "python",
   "pygments_lexer": "ipython3",
   "version": "3.12.6"
  }
 },
 "nbformat": 4,
 "nbformat_minor": 5
}
